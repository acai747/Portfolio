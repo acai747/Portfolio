{
 "cells": [
  {
   "cell_type": "markdown",
   "metadata": {},
   "source": [
    "<b><p style=\"font-size: XX-large\"><font color = \"cyan\">Andrew Cai</font></p></b> </div>\n",
    "<b><p style=\"font-size: XX-large\"><font color = \"cyan\">Steam Game Rating Prediction</font></p></b> </div>"
   ]
  },
  {
   "cell_type": "markdown",
   "metadata": {},
   "source": [
    "-------------------------"
   ]
  },
  {
   "cell_type": "markdown",
   "metadata": {},
   "source": [
    "# Data Set Background and Project Purpose"
   ]
  },
  {
   "cell_type": "markdown",
   "metadata": {},
   "source": [
    "The dataset in this project contains over 50,000 cleaned and preprocessed data on video games (reviews) from a Steam Store - a leading online platform for purchasing and downloading video games, DLC, and other gaming-related content.\n",
    "\n",
    "The model building in this project consists of two main files from the Kaggle dataset:\n",
    "\n",
    "- games.csv - a table of games (or add-ons) information on ratings, pricing in US dollars $, release date, etc. \n",
    "- games_metadata.json - A piece of extra non-tabular details on games, such as descriptions and tags, is in a metadata file\n",
    "\n",
    "This project serves as a means to learn scikit-learn and TensorFlow to build deep learning models for binary classifcation. Specifically, this project will take game attributes such as mac support, windows support, discounted, pricing, and game tags to determine whether or not the game will receive a positive rating with customers.\n"
   ]
  },
  {
   "cell_type": "markdown",
   "metadata": {},
   "source": [
    "[Game Recommendations on Steam](https://www.kaggle.com/datasets/antonkozyriev/game-recommendations-on-steam)\n",
    "\n",
    "Game Recommendations on Steam (2023). Kaggle. 10.34740/kaggle/ds/2871694."
   ]
  },
  {
   "cell_type": "markdown",
   "metadata": {},
   "source": [
    "-------------------------"
   ]
  },
  {
   "cell_type": "markdown",
   "metadata": {},
   "source": [
    "# Packages and Initial Setups"
   ]
  },
  {
   "cell_type": "code",
   "execution_count": 1,
   "metadata": {},
   "outputs": [],
   "source": [
    "import os\n",
    "import warnings\n",
    "import logging\n",
    "\n",
    "# Suppress TensorFlow logs\n",
    "os.environ['TF_CPP_MIN_LOG_LEVEL'] = '3'\n",
    "\n",
    "# Suppress warnings\n",
    "warnings.filterwarnings('ignore', category=UserWarning, module='tensorflow')\n",
    "warnings.filterwarnings('ignore', category=UserWarning, module='keras')\n",
    "warnings.filterwarnings('ignore', category=UserWarning, module='keras_tuner')\n",
    "\n",
    "# Suppress TensorFlow and Keras warnings\n",
    "logging.getLogger('tensorflow').setLevel(logging.ERROR)\n",
    "\n",
    "# Optionally, suppress specific warnings\n",
    "warnings.filterwarnings('ignore', message='.*tf.reset_default_graph.*')\n",
    "\n",
    "import pandas as pd\n",
    "import json\n",
    "import numpy as np\n",
    "import random\n",
    "\n",
    "from sklearn.preprocessing import MultiLabelBinarizer\n",
    "from sklearn.model_selection import train_test_split\n",
    "from sklearn.metrics import accuracy_score\n",
    "\n",
    "from tensorflow.keras.models import Sequential, load_model\n",
    "from tensorflow.keras.layers import Dense, Dropout, BatchNormalization\n",
    "from tensorflow.keras import regularizers\n",
    "from tensorflow.keras.callbacks import EarlyStopping, ReduceLROnPlateau\n",
    "from tensorflow.keras.optimizers import Adam, SGD\n",
    "import keras_tuner as kt\n"
   ]
  },
  {
   "cell_type": "markdown",
   "metadata": {},
   "source": [
    "-------------------------"
   ]
  },
  {
   "cell_type": "markdown",
   "metadata": {},
   "source": [
    "# Exploratory Data Analysis"
   ]
  },
  {
   "cell_type": "markdown",
   "metadata": {},
   "source": [
    "## Game Data"
   ]
  },
  {
   "cell_type": "code",
   "execution_count": 2,
   "metadata": {},
   "outputs": [
    {
     "data": {
      "text/html": [
       "<div>\n",
       "<style scoped>\n",
       "    .dataframe tbody tr th:only-of-type {\n",
       "        vertical-align: middle;\n",
       "    }\n",
       "\n",
       "    .dataframe tbody tr th {\n",
       "        vertical-align: top;\n",
       "    }\n",
       "\n",
       "    .dataframe thead th {\n",
       "        text-align: right;\n",
       "    }\n",
       "</style>\n",
       "<table border=\"1\" class=\"dataframe\">\n",
       "  <thead>\n",
       "    <tr style=\"text-align: right;\">\n",
       "      <th></th>\n",
       "      <th>app_id</th>\n",
       "      <th>title</th>\n",
       "      <th>date_release</th>\n",
       "      <th>win</th>\n",
       "      <th>mac</th>\n",
       "      <th>linux</th>\n",
       "      <th>rating</th>\n",
       "      <th>positive_ratio</th>\n",
       "      <th>user_reviews</th>\n",
       "      <th>price_final</th>\n",
       "      <th>price_original</th>\n",
       "      <th>discount</th>\n",
       "      <th>steam_deck</th>\n",
       "    </tr>\n",
       "  </thead>\n",
       "  <tbody>\n",
       "    <tr>\n",
       "      <th>0</th>\n",
       "      <td>13500</td>\n",
       "      <td>Prince of Persia: Warrior Within™</td>\n",
       "      <td>2008-11-21</td>\n",
       "      <td>True</td>\n",
       "      <td>False</td>\n",
       "      <td>False</td>\n",
       "      <td>Very Positive</td>\n",
       "      <td>84</td>\n",
       "      <td>2199</td>\n",
       "      <td>9.99</td>\n",
       "      <td>9.99</td>\n",
       "      <td>0.0</td>\n",
       "      <td>True</td>\n",
       "    </tr>\n",
       "    <tr>\n",
       "      <th>1</th>\n",
       "      <td>22364</td>\n",
       "      <td>BRINK: Agents of Change</td>\n",
       "      <td>2011-08-03</td>\n",
       "      <td>True</td>\n",
       "      <td>False</td>\n",
       "      <td>False</td>\n",
       "      <td>Positive</td>\n",
       "      <td>85</td>\n",
       "      <td>21</td>\n",
       "      <td>2.99</td>\n",
       "      <td>2.99</td>\n",
       "      <td>0.0</td>\n",
       "      <td>True</td>\n",
       "    </tr>\n",
       "    <tr>\n",
       "      <th>2</th>\n",
       "      <td>113020</td>\n",
       "      <td>Monaco: What's Yours Is Mine</td>\n",
       "      <td>2013-04-24</td>\n",
       "      <td>True</td>\n",
       "      <td>True</td>\n",
       "      <td>True</td>\n",
       "      <td>Very Positive</td>\n",
       "      <td>92</td>\n",
       "      <td>3722</td>\n",
       "      <td>14.99</td>\n",
       "      <td>14.99</td>\n",
       "      <td>0.0</td>\n",
       "      <td>True</td>\n",
       "    </tr>\n",
       "    <tr>\n",
       "      <th>3</th>\n",
       "      <td>226560</td>\n",
       "      <td>Escape Dead Island</td>\n",
       "      <td>2014-11-18</td>\n",
       "      <td>True</td>\n",
       "      <td>False</td>\n",
       "      <td>False</td>\n",
       "      <td>Mixed</td>\n",
       "      <td>61</td>\n",
       "      <td>873</td>\n",
       "      <td>14.99</td>\n",
       "      <td>14.99</td>\n",
       "      <td>0.0</td>\n",
       "      <td>True</td>\n",
       "    </tr>\n",
       "    <tr>\n",
       "      <th>4</th>\n",
       "      <td>249050</td>\n",
       "      <td>Dungeon of the ENDLESS™</td>\n",
       "      <td>2014-10-27</td>\n",
       "      <td>True</td>\n",
       "      <td>True</td>\n",
       "      <td>False</td>\n",
       "      <td>Very Positive</td>\n",
       "      <td>88</td>\n",
       "      <td>8784</td>\n",
       "      <td>11.99</td>\n",
       "      <td>11.99</td>\n",
       "      <td>0.0</td>\n",
       "      <td>True</td>\n",
       "    </tr>\n",
       "  </tbody>\n",
       "</table>\n",
       "</div>"
      ],
      "text/plain": [
       "   app_id                              title date_release   win    mac  linux  \\\n",
       "0   13500  Prince of Persia: Warrior Within™   2008-11-21  True  False  False   \n",
       "1   22364            BRINK: Agents of Change   2011-08-03  True  False  False   \n",
       "2  113020       Monaco: What's Yours Is Mine   2013-04-24  True   True   True   \n",
       "3  226560                 Escape Dead Island   2014-11-18  True  False  False   \n",
       "4  249050            Dungeon of the ENDLESS™   2014-10-27  True   True  False   \n",
       "\n",
       "          rating  positive_ratio  user_reviews  price_final  price_original  \\\n",
       "0  Very Positive              84          2199         9.99            9.99   \n",
       "1       Positive              85            21         2.99            2.99   \n",
       "2  Very Positive              92          3722        14.99           14.99   \n",
       "3          Mixed              61           873        14.99           14.99   \n",
       "4  Very Positive              88          8784        11.99           11.99   \n",
       "\n",
       "   discount  steam_deck  \n",
       "0       0.0        True  \n",
       "1       0.0        True  \n",
       "2       0.0        True  \n",
       "3       0.0        True  \n",
       "4       0.0        True  "
      ]
     },
     "execution_count": 2,
     "metadata": {},
     "output_type": "execute_result"
    }
   ],
   "source": [
    "# Load in CSV\n",
    "dfgames = pd.read_csv(\"games.csv\")\n",
    "dfgames.head()"
   ]
  },
  {
   "cell_type": "code",
   "execution_count": 3,
   "metadata": {},
   "outputs": [
    {
     "name": "stdout",
     "output_type": "stream",
     "text": [
      "<class 'pandas.core.frame.DataFrame'>\n",
      "RangeIndex: 50872 entries, 0 to 50871\n",
      "Data columns (total 13 columns):\n",
      " #   Column          Non-Null Count  Dtype  \n",
      "---  ------          --------------  -----  \n",
      " 0   app_id          50872 non-null  int64  \n",
      " 1   title           50872 non-null  object \n",
      " 2   date_release    50872 non-null  object \n",
      " 3   win             50872 non-null  bool   \n",
      " 4   mac             50872 non-null  bool   \n",
      " 5   linux           50872 non-null  bool   \n",
      " 6   rating          50872 non-null  object \n",
      " 7   positive_ratio  50872 non-null  int64  \n",
      " 8   user_reviews    50872 non-null  int64  \n",
      " 9   price_final     50872 non-null  float64\n",
      " 10  price_original  50872 non-null  float64\n",
      " 11  discount        50872 non-null  float64\n",
      " 12  steam_deck      50872 non-null  bool   \n",
      "dtypes: bool(4), float64(3), int64(3), object(3)\n",
      "memory usage: 3.7+ MB\n"
     ]
    }
   ],
   "source": [
    "# Check for nulls / data types \n",
    "dfgames.info()"
   ]
  },
  {
   "cell_type": "markdown",
   "metadata": {},
   "source": [
    "## Extract JSON Game Tag Data"
   ]
  },
  {
   "cell_type": "code",
   "execution_count": 4,
   "metadata": {},
   "outputs": [
    {
     "data": {
      "text/plain": [
       "{'app_id': 250180,\n",
       " 'description': '“METAL SLUG 3”, the masterpiece in SNK’s emblematic 2D run & gun action shooting game series, still continues to fascinate millions of fans worldwide to this day for its intricate dot-pixel graphics, and simple and intuitive game controls!',\n",
       " 'tags': ['Arcade',\n",
       "  'Classic',\n",
       "  'Action',\n",
       "  'Co-op',\n",
       "  'Side Scroller',\n",
       "  'Retro',\n",
       "  'Local Co-Op',\n",
       "  'Shooter',\n",
       "  '2D',\n",
       "  'Online Co-Op',\n",
       "  'Great Soundtrack',\n",
       "  \"Shoot 'Em Up\",\n",
       "  'Platformer',\n",
       "  'Multiplayer',\n",
       "  'Pixel Graphics',\n",
       "  'Old School',\n",
       "  'Difficult',\n",
       "  'Singleplayer',\n",
       "  'Nostalgia',\n",
       "  'Comedy']}"
      ]
     },
     "execution_count": 4,
     "metadata": {},
     "output_type": "execute_result"
    }
   ],
   "source": [
    "# File Name\n",
    "jFile = \"games_metadata.json\"\n",
    "# Extract JSON Data into Python List\n",
    "gameMetaData = [] # Initiate Empty List\n",
    "with open (jFile, \"r\", encoding='utf-8') as json_file:\n",
    "    for line in json_file:\n",
    "        gameMetaData.append(json.loads(line))\n",
    "\n",
    "gameMetaData[5]"
   ]
  },
  {
   "cell_type": "code",
   "execution_count": 5,
   "metadata": {},
   "outputs": [],
   "source": [
    "# Create Dictionary using app_id as the Key\n",
    "gameTag = {} # Initialize empty dict\n",
    "for n in range(len(gameMetaData)):\n",
    "    gameTag[gameMetaData[n]['app_id']] = gameMetaData[n]['tags']"
   ]
  },
  {
   "cell_type": "code",
   "execution_count": 6,
   "metadata": {},
   "outputs": [
    {
     "data": {
      "text/html": [
       "<div>\n",
       "<style scoped>\n",
       "    .dataframe tbody tr th:only-of-type {\n",
       "        vertical-align: middle;\n",
       "    }\n",
       "\n",
       "    .dataframe tbody tr th {\n",
       "        vertical-align: top;\n",
       "    }\n",
       "\n",
       "    .dataframe thead th {\n",
       "        text-align: right;\n",
       "    }\n",
       "</style>\n",
       "<table border=\"1\" class=\"dataframe\">\n",
       "  <thead>\n",
       "    <tr style=\"text-align: right;\">\n",
       "      <th></th>\n",
       "      <th>app_id</th>\n",
       "      <th>tags</th>\n",
       "    </tr>\n",
       "  </thead>\n",
       "  <tbody>\n",
       "    <tr>\n",
       "      <th>13246</th>\n",
       "      <td>1641500</td>\n",
       "      <td>[Casual, Visual Novel, Anime, Text-Based, Sci-...</td>\n",
       "    </tr>\n",
       "    <tr>\n",
       "      <th>30244</th>\n",
       "      <td>1103780</td>\n",
       "      <td>[Racing, Free to Play, Simulation, Sports, Aut...</td>\n",
       "    </tr>\n",
       "    <tr>\n",
       "      <th>46594</th>\n",
       "      <td>1012100</td>\n",
       "      <td>[Simulation]</td>\n",
       "    </tr>\n",
       "    <tr>\n",
       "      <th>10378</th>\n",
       "      <td>1921740</td>\n",
       "      <td>[Runner, Side Scroller, 2D Platformer, Family ...</td>\n",
       "    </tr>\n",
       "    <tr>\n",
       "      <th>11986</th>\n",
       "      <td>73031</td>\n",
       "      <td>[Action, RPG]</td>\n",
       "    </tr>\n",
       "  </tbody>\n",
       "</table>\n",
       "</div>"
      ],
      "text/plain": [
       "        app_id                                               tags\n",
       "13246  1641500  [Casual, Visual Novel, Anime, Text-Based, Sci-...\n",
       "30244  1103780  [Racing, Free to Play, Simulation, Sports, Aut...\n",
       "46594  1012100                                       [Simulation]\n",
       "10378  1921740  [Runner, Side Scroller, 2D Platformer, Family ...\n",
       "11986    73031                                      [Action, RPG]"
      ]
     },
     "execution_count": 6,
     "metadata": {},
     "output_type": "execute_result"
    }
   ],
   "source": [
    "# Convert dict into pandas dataframe\n",
    "dfTag = pd.DataFrame({'app_id':gameTag.keys(), 'tags':gameTag.values()})\n",
    "dfTag.sample(5)"
   ]
  },
  {
   "cell_type": "code",
   "execution_count": 7,
   "metadata": {},
   "outputs": [
    {
     "name": "stdout",
     "output_type": "stream",
     "text": [
      "<class 'pandas.core.frame.DataFrame'>\n",
      "RangeIndex: 50872 entries, 0 to 50871\n",
      "Data columns (total 2 columns):\n",
      " #   Column  Non-Null Count  Dtype \n",
      "---  ------  --------------  ----- \n",
      " 0   app_id  50872 non-null  int64 \n",
      " 1   tags    50872 non-null  object\n",
      "dtypes: int64(1), object(1)\n",
      "memory usage: 795.0+ KB\n"
     ]
    }
   ],
   "source": [
    "# Check game tag dataframe\n",
    "dfTag.info()"
   ]
  },
  {
   "cell_type": "markdown",
   "metadata": {},
   "source": [
    "## Merge Game Tag Data with Game Data"
   ]
  },
  {
   "cell_type": "code",
   "execution_count": 8,
   "metadata": {},
   "outputs": [
    {
     "data": {
      "text/html": [
       "<div>\n",
       "<style scoped>\n",
       "    .dataframe tbody tr th:only-of-type {\n",
       "        vertical-align: middle;\n",
       "    }\n",
       "\n",
       "    .dataframe tbody tr th {\n",
       "        vertical-align: top;\n",
       "    }\n",
       "\n",
       "    .dataframe thead th {\n",
       "        text-align: right;\n",
       "    }\n",
       "</style>\n",
       "<table border=\"1\" class=\"dataframe\">\n",
       "  <thead>\n",
       "    <tr style=\"text-align: right;\">\n",
       "      <th></th>\n",
       "      <th>app_id</th>\n",
       "      <th>title</th>\n",
       "      <th>date_release</th>\n",
       "      <th>win</th>\n",
       "      <th>mac</th>\n",
       "      <th>linux</th>\n",
       "      <th>rating</th>\n",
       "      <th>positive_ratio</th>\n",
       "      <th>user_reviews</th>\n",
       "      <th>price_final</th>\n",
       "      <th>price_original</th>\n",
       "      <th>discount</th>\n",
       "      <th>steam_deck</th>\n",
       "      <th>tags</th>\n",
       "    </tr>\n",
       "  </thead>\n",
       "  <tbody>\n",
       "    <tr>\n",
       "      <th>1550</th>\n",
       "      <td>939960</td>\n",
       "      <td>Far Cry® New Dawn</td>\n",
       "      <td>2019-02-15</td>\n",
       "      <td>True</td>\n",
       "      <td>False</td>\n",
       "      <td>False</td>\n",
       "      <td>Mostly Positive</td>\n",
       "      <td>76</td>\n",
       "      <td>22055</td>\n",
       "      <td>39.99</td>\n",
       "      <td>39.99</td>\n",
       "      <td>0.0</td>\n",
       "      <td>True</td>\n",
       "      <td>[Open World, FPS, Action, Co-op, Post-apocalyp...</td>\n",
       "    </tr>\n",
       "    <tr>\n",
       "      <th>42705</th>\n",
       "      <td>1030830</td>\n",
       "      <td>Mafia II: Definitive Edition</td>\n",
       "      <td>2020-05-19</td>\n",
       "      <td>True</td>\n",
       "      <td>False</td>\n",
       "      <td>False</td>\n",
       "      <td>Mixed</td>\n",
       "      <td>69</td>\n",
       "      <td>11516</td>\n",
       "      <td>4.49</td>\n",
       "      <td>29.99</td>\n",
       "      <td>85.0</td>\n",
       "      <td>True</td>\n",
       "      <td>[Action, Adventure, Crime, Open World, Story R...</td>\n",
       "    </tr>\n",
       "    <tr>\n",
       "      <th>21616</th>\n",
       "      <td>1032750</td>\n",
       "      <td>Zombie Shooter: Ares Virus</td>\n",
       "      <td>2022-02-09</td>\n",
       "      <td>True</td>\n",
       "      <td>False</td>\n",
       "      <td>False</td>\n",
       "      <td>Mixed</td>\n",
       "      <td>42</td>\n",
       "      <td>118</td>\n",
       "      <td>4.99</td>\n",
       "      <td>4.99</td>\n",
       "      <td>0.0</td>\n",
       "      <td>True</td>\n",
       "      <td>[Zombies, Shooter, Action, Adventure, Battle R...</td>\n",
       "    </tr>\n",
       "    <tr>\n",
       "      <th>46924</th>\n",
       "      <td>1142800</td>\n",
       "      <td>DiRT Rally 2.0 Deluxe 2.0 (Season3+4)</td>\n",
       "      <td>2019-08-26</td>\n",
       "      <td>True</td>\n",
       "      <td>False</td>\n",
       "      <td>False</td>\n",
       "      <td>Mostly Positive</td>\n",
       "      <td>78</td>\n",
       "      <td>52</td>\n",
       "      <td>11.99</td>\n",
       "      <td>11.99</td>\n",
       "      <td>0.0</td>\n",
       "      <td>True</td>\n",
       "      <td>[Simulation, Sports, Racing]</td>\n",
       "    </tr>\n",
       "    <tr>\n",
       "      <th>21964</th>\n",
       "      <td>1283220</td>\n",
       "      <td>Devolverland Expo</td>\n",
       "      <td>2020-07-11</td>\n",
       "      <td>True</td>\n",
       "      <td>False</td>\n",
       "      <td>False</td>\n",
       "      <td>Very Positive</td>\n",
       "      <td>89</td>\n",
       "      <td>5685</td>\n",
       "      <td>0.00</td>\n",
       "      <td>0.00</td>\n",
       "      <td>0.0</td>\n",
       "      <td>True</td>\n",
       "      <td>[Free to Play, Action, Adventure, FPS, Indie, ...</td>\n",
       "    </tr>\n",
       "  </tbody>\n",
       "</table>\n",
       "</div>"
      ],
      "text/plain": [
       "        app_id                                  title date_release   win  \\\n",
       "1550    939960                      Far Cry® New Dawn   2019-02-15  True   \n",
       "42705  1030830           Mafia II: Definitive Edition   2020-05-19  True   \n",
       "21616  1032750             Zombie Shooter: Ares Virus   2022-02-09  True   \n",
       "46924  1142800  DiRT Rally 2.0 Deluxe 2.0 (Season3+4)   2019-08-26  True   \n",
       "21964  1283220                      Devolverland Expo   2020-07-11  True   \n",
       "\n",
       "         mac  linux           rating  positive_ratio  user_reviews  \\\n",
       "1550   False  False  Mostly Positive              76         22055   \n",
       "42705  False  False            Mixed              69         11516   \n",
       "21616  False  False            Mixed              42           118   \n",
       "46924  False  False  Mostly Positive              78            52   \n",
       "21964  False  False    Very Positive              89          5685   \n",
       "\n",
       "       price_final  price_original  discount  steam_deck  \\\n",
       "1550         39.99           39.99       0.0        True   \n",
       "42705         4.49           29.99      85.0        True   \n",
       "21616         4.99            4.99       0.0        True   \n",
       "46924        11.99           11.99       0.0        True   \n",
       "21964         0.00            0.00       0.0        True   \n",
       "\n",
       "                                                    tags  \n",
       "1550   [Open World, FPS, Action, Co-op, Post-apocalyp...  \n",
       "42705  [Action, Adventure, Crime, Open World, Story R...  \n",
       "21616  [Zombies, Shooter, Action, Adventure, Battle R...  \n",
       "46924                       [Simulation, Sports, Racing]  \n",
       "21964  [Free to Play, Action, Adventure, FPS, Indie, ...  "
      ]
     },
     "execution_count": 8,
     "metadata": {},
     "output_type": "execute_result"
    }
   ],
   "source": [
    "# Merge Game Tags Data\n",
    "dfgames2 = dfgames.copy() # Create a copy of original dataframe\n",
    "dfgames2 = dfgames2.merge(dfTag, how='inner', on='app_id') # Merge tag data\n",
    "dfgames2.sample(5)"
   ]
  },
  {
   "cell_type": "code",
   "execution_count": 9,
   "metadata": {},
   "outputs": [
    {
     "name": "stdout",
     "output_type": "stream",
     "text": [
      "<class 'pandas.core.frame.DataFrame'>\n",
      "RangeIndex: 50872 entries, 0 to 50871\n",
      "Data columns (total 14 columns):\n",
      " #   Column          Non-Null Count  Dtype  \n",
      "---  ------          --------------  -----  \n",
      " 0   app_id          50872 non-null  int64  \n",
      " 1   title           50872 non-null  object \n",
      " 2   date_release    50872 non-null  object \n",
      " 3   win             50872 non-null  bool   \n",
      " 4   mac             50872 non-null  bool   \n",
      " 5   linux           50872 non-null  bool   \n",
      " 6   rating          50872 non-null  object \n",
      " 7   positive_ratio  50872 non-null  int64  \n",
      " 8   user_reviews    50872 non-null  int64  \n",
      " 9   price_final     50872 non-null  float64\n",
      " 10  price_original  50872 non-null  float64\n",
      " 11  discount        50872 non-null  float64\n",
      " 12  steam_deck      50872 non-null  bool   \n",
      " 13  tags            50872 non-null  object \n",
      "dtypes: bool(4), float64(3), int64(3), object(4)\n",
      "memory usage: 4.1+ MB\n"
     ]
    }
   ],
   "source": [
    "# Check merged game tag dataframe\n",
    "dfgames2.info()"
   ]
  },
  {
   "cell_type": "code",
   "execution_count": 10,
   "metadata": {},
   "outputs": [
    {
     "data": {
      "text/plain": [
       "rating\n",
       "Positive                   13502\n",
       "Very Positive              13139\n",
       "Mixed                      12157\n",
       "Mostly Positive             8738\n",
       "Mostly Negative             1849\n",
       "Overwhelmingly Positive     1110\n",
       "Negative                     303\n",
       "Very Negative                 60\n",
       "Overwhelmingly Negative       14\n",
       "Name: count, dtype: int64"
      ]
     },
     "execution_count": 10,
     "metadata": {},
     "output_type": "execute_result"
    }
   ],
   "source": [
    "# Explore output variable\n",
    "dfgames2['rating'].value_counts()"
   ]
  },
  {
   "cell_type": "code",
   "execution_count": 11,
   "metadata": {},
   "outputs": [
    {
     "data": {
      "text/plain": [
       "10.885909715070376"
      ]
     },
     "execution_count": 11,
     "metadata": {},
     "output_type": "execute_result"
    }
   ],
   "source": [
    "# Exploring price average (exclude free games i.e. price = 0)\n",
    "dfpriceCheck = dfgames2[dfgames2['price_original'] != 0]\n",
    "dfpriceCheck['price_original'].mean()"
   ]
  },
  {
   "cell_type": "markdown",
   "metadata": {},
   "source": [
    "## Feature Engineering"
   ]
  },
  {
   "cell_type": "code",
   "execution_count": 12,
   "metadata": {},
   "outputs": [],
   "source": [
    "# Create column: classify discount price to have been discounted to 1\n",
    "dfgames2['discounted'] = dfgames2['discount'].apply(lambda x: 1 if x > 0 else 0)\n",
    "# Create column: classify all \"positive\" reviews as 1\n",
    "dfgames2['positive_rating'] = dfgames2['rating'].apply(lambda x: 1 if \"Positive\" in x else 0)\n",
    "# Based on the average original price, classify games over $10 as 1\n",
    "dfgames2['over_10'] = dfgames2['price_original'].apply(lambda x: 1 if x > 10 else 0)"
   ]
  },
  {
   "cell_type": "code",
   "execution_count": 13,
   "metadata": {},
   "outputs": [
    {
     "data": {
      "text/html": [
       "<div>\n",
       "<style scoped>\n",
       "    .dataframe tbody tr th:only-of-type {\n",
       "        vertical-align: middle;\n",
       "    }\n",
       "\n",
       "    .dataframe tbody tr th {\n",
       "        vertical-align: top;\n",
       "    }\n",
       "\n",
       "    .dataframe thead th {\n",
       "        text-align: right;\n",
       "    }\n",
       "</style>\n",
       "<table border=\"1\" class=\"dataframe\">\n",
       "  <thead>\n",
       "    <tr style=\"text-align: right;\">\n",
       "      <th></th>\n",
       "      <th>win</th>\n",
       "      <th>mac</th>\n",
       "      <th>linux</th>\n",
       "      <th>steam_deck</th>\n",
       "      <th>tags</th>\n",
       "      <th>discounted</th>\n",
       "      <th>positive_rating</th>\n",
       "      <th>over_10</th>\n",
       "    </tr>\n",
       "  </thead>\n",
       "  <tbody>\n",
       "    <tr>\n",
       "      <th>12636</th>\n",
       "      <td>True</td>\n",
       "      <td>True</td>\n",
       "      <td>False</td>\n",
       "      <td>True</td>\n",
       "      <td>[Story Rich, 2D, Puzzle, Action-Adventure, Han...</td>\n",
       "      <td>0</td>\n",
       "      <td>1</td>\n",
       "      <td>1</td>\n",
       "    </tr>\n",
       "    <tr>\n",
       "      <th>37900</th>\n",
       "      <td>True</td>\n",
       "      <td>False</td>\n",
       "      <td>False</td>\n",
       "      <td>True</td>\n",
       "      <td>[Experimental, Difficult, Education, Puzzle, L...</td>\n",
       "      <td>0</td>\n",
       "      <td>0</td>\n",
       "      <td>1</td>\n",
       "    </tr>\n",
       "    <tr>\n",
       "      <th>12802</th>\n",
       "      <td>True</td>\n",
       "      <td>True</td>\n",
       "      <td>True</td>\n",
       "      <td>True</td>\n",
       "      <td>[]</td>\n",
       "      <td>0</td>\n",
       "      <td>1</td>\n",
       "      <td>0</td>\n",
       "    </tr>\n",
       "    <tr>\n",
       "      <th>44605</th>\n",
       "      <td>True</td>\n",
       "      <td>False</td>\n",
       "      <td>False</td>\n",
       "      <td>True</td>\n",
       "      <td>[Free to Play, Indie, Action, Casual, Simulati...</td>\n",
       "      <td>0</td>\n",
       "      <td>1</td>\n",
       "      <td>0</td>\n",
       "    </tr>\n",
       "    <tr>\n",
       "      <th>39373</th>\n",
       "      <td>True</td>\n",
       "      <td>True</td>\n",
       "      <td>True</td>\n",
       "      <td>True</td>\n",
       "      <td>[Simulation, Sports, Racing, Strategy]</td>\n",
       "      <td>0</td>\n",
       "      <td>1</td>\n",
       "      <td>0</td>\n",
       "    </tr>\n",
       "  </tbody>\n",
       "</table>\n",
       "</div>"
      ],
      "text/plain": [
       "        win    mac  linux  steam_deck  \\\n",
       "12636  True   True  False        True   \n",
       "37900  True  False  False        True   \n",
       "12802  True   True   True        True   \n",
       "44605  True  False  False        True   \n",
       "39373  True   True   True        True   \n",
       "\n",
       "                                                    tags  discounted  \\\n",
       "12636  [Story Rich, 2D, Puzzle, Action-Adventure, Han...           0   \n",
       "37900  [Experimental, Difficult, Education, Puzzle, L...           0   \n",
       "12802                                                 []           0   \n",
       "44605  [Free to Play, Indie, Action, Casual, Simulati...           0   \n",
       "39373             [Simulation, Sports, Racing, Strategy]           0   \n",
       "\n",
       "       positive_rating  over_10  \n",
       "12636                1        1  \n",
       "37900                0        1  \n",
       "12802                1        0  \n",
       "44605                1        0  \n",
       "39373                1        0  "
      ]
     },
     "execution_count": 13,
     "metadata": {},
     "output_type": "execute_result"
    }
   ],
   "source": [
    "# Drop columns that are unnecessary for model for binary classification\n",
    "dfgames2.drop(['app_id','title', 'positive_ratio', 'price_final', 'date_release', 'user_reviews', 'rating', 'price_original', 'discount'], axis=1, inplace=True)\n",
    "dfgames2.sample(5)"
   ]
  },
  {
   "cell_type": "markdown",
   "metadata": {},
   "source": [
    "## Expand Tags as Boolean Columns"
   ]
  },
  {
   "cell_type": "code",
   "execution_count": 14,
   "metadata": {},
   "outputs": [
    {
     "data": {
      "text/html": [
       "<div>\n",
       "<style scoped>\n",
       "    .dataframe tbody tr th:only-of-type {\n",
       "        vertical-align: middle;\n",
       "    }\n",
       "\n",
       "    .dataframe tbody tr th {\n",
       "        vertical-align: top;\n",
       "    }\n",
       "\n",
       "    .dataframe thead th {\n",
       "        text-align: right;\n",
       "    }\n",
       "</style>\n",
       "<table border=\"1\" class=\"dataframe\">\n",
       "  <thead>\n",
       "    <tr style=\"text-align: right;\">\n",
       "      <th></th>\n",
       "      <th>win</th>\n",
       "      <th>mac</th>\n",
       "      <th>linux</th>\n",
       "      <th>steam_deck</th>\n",
       "      <th>discounted</th>\n",
       "      <th>positive_rating</th>\n",
       "      <th>over_10</th>\n",
       "      <th>1980s</th>\n",
       "      <th>1990's</th>\n",
       "      <th>2.5D</th>\n",
       "      <th>...</th>\n",
       "      <th>Well-Written</th>\n",
       "      <th>Werewolves</th>\n",
       "      <th>Western</th>\n",
       "      <th>Wholesome</th>\n",
       "      <th>Word Game</th>\n",
       "      <th>World War I</th>\n",
       "      <th>World War II</th>\n",
       "      <th>Wrestling</th>\n",
       "      <th>Zombies</th>\n",
       "      <th>eSports</th>\n",
       "    </tr>\n",
       "  </thead>\n",
       "  <tbody>\n",
       "    <tr>\n",
       "      <th>37315</th>\n",
       "      <td>True</td>\n",
       "      <td>False</td>\n",
       "      <td>False</td>\n",
       "      <td>True</td>\n",
       "      <td>0</td>\n",
       "      <td>0</td>\n",
       "      <td>0</td>\n",
       "      <td>False</td>\n",
       "      <td>False</td>\n",
       "      <td>False</td>\n",
       "      <td>...</td>\n",
       "      <td>False</td>\n",
       "      <td>False</td>\n",
       "      <td>False</td>\n",
       "      <td>False</td>\n",
       "      <td>False</td>\n",
       "      <td>False</td>\n",
       "      <td>False</td>\n",
       "      <td>False</td>\n",
       "      <td>False</td>\n",
       "      <td>False</td>\n",
       "    </tr>\n",
       "    <tr>\n",
       "      <th>10239</th>\n",
       "      <td>True</td>\n",
       "      <td>True</td>\n",
       "      <td>True</td>\n",
       "      <td>True</td>\n",
       "      <td>0</td>\n",
       "      <td>1</td>\n",
       "      <td>1</td>\n",
       "      <td>False</td>\n",
       "      <td>False</td>\n",
       "      <td>False</td>\n",
       "      <td>...</td>\n",
       "      <td>False</td>\n",
       "      <td>False</td>\n",
       "      <td>False</td>\n",
       "      <td>False</td>\n",
       "      <td>False</td>\n",
       "      <td>False</td>\n",
       "      <td>False</td>\n",
       "      <td>False</td>\n",
       "      <td>False</td>\n",
       "      <td>False</td>\n",
       "    </tr>\n",
       "    <tr>\n",
       "      <th>9849</th>\n",
       "      <td>True</td>\n",
       "      <td>False</td>\n",
       "      <td>False</td>\n",
       "      <td>True</td>\n",
       "      <td>0</td>\n",
       "      <td>1</td>\n",
       "      <td>1</td>\n",
       "      <td>False</td>\n",
       "      <td>False</td>\n",
       "      <td>False</td>\n",
       "      <td>...</td>\n",
       "      <td>False</td>\n",
       "      <td>False</td>\n",
       "      <td>False</td>\n",
       "      <td>False</td>\n",
       "      <td>False</td>\n",
       "      <td>False</td>\n",
       "      <td>False</td>\n",
       "      <td>False</td>\n",
       "      <td>False</td>\n",
       "      <td>False</td>\n",
       "    </tr>\n",
       "    <tr>\n",
       "      <th>49797</th>\n",
       "      <td>True</td>\n",
       "      <td>False</td>\n",
       "      <td>False</td>\n",
       "      <td>True</td>\n",
       "      <td>1</td>\n",
       "      <td>1</td>\n",
       "      <td>0</td>\n",
       "      <td>False</td>\n",
       "      <td>False</td>\n",
       "      <td>False</td>\n",
       "      <td>...</td>\n",
       "      <td>False</td>\n",
       "      <td>False</td>\n",
       "      <td>False</td>\n",
       "      <td>False</td>\n",
       "      <td>False</td>\n",
       "      <td>False</td>\n",
       "      <td>False</td>\n",
       "      <td>False</td>\n",
       "      <td>False</td>\n",
       "      <td>False</td>\n",
       "    </tr>\n",
       "    <tr>\n",
       "      <th>33093</th>\n",
       "      <td>True</td>\n",
       "      <td>False</td>\n",
       "      <td>False</td>\n",
       "      <td>True</td>\n",
       "      <td>0</td>\n",
       "      <td>0</td>\n",
       "      <td>0</td>\n",
       "      <td>False</td>\n",
       "      <td>False</td>\n",
       "      <td>False</td>\n",
       "      <td>...</td>\n",
       "      <td>False</td>\n",
       "      <td>False</td>\n",
       "      <td>False</td>\n",
       "      <td>False</td>\n",
       "      <td>False</td>\n",
       "      <td>False</td>\n",
       "      <td>False</td>\n",
       "      <td>False</td>\n",
       "      <td>True</td>\n",
       "      <td>False</td>\n",
       "    </tr>\n",
       "  </tbody>\n",
       "</table>\n",
       "<p>5 rows × 448 columns</p>\n",
       "</div>"
      ],
      "text/plain": [
       "        win    mac  linux  steam_deck  discounted  positive_rating  over_10  \\\n",
       "37315  True  False  False        True           0                0        0   \n",
       "10239  True   True   True        True           0                1        1   \n",
       "9849   True  False  False        True           0                1        1   \n",
       "49797  True  False  False        True           1                1        0   \n",
       "33093  True  False  False        True           0                0        0   \n",
       "\n",
       "       1980s  1990's   2.5D  ...  Well-Written  Werewolves  Western  \\\n",
       "37315  False   False  False  ...         False       False    False   \n",
       "10239  False   False  False  ...         False       False    False   \n",
       "9849   False   False  False  ...         False       False    False   \n",
       "49797  False   False  False  ...         False       False    False   \n",
       "33093  False   False  False  ...         False       False    False   \n",
       "\n",
       "       Wholesome  Word Game  World War I  World War II  Wrestling  Zombies  \\\n",
       "37315      False      False        False         False      False    False   \n",
       "10239      False      False        False         False      False    False   \n",
       "9849       False      False        False         False      False    False   \n",
       "49797      False      False        False         False      False    False   \n",
       "33093      False      False        False         False      False     True   \n",
       "\n",
       "       eSports  \n",
       "37315    False  \n",
       "10239    False  \n",
       "9849     False  \n",
       "49797    False  \n",
       "33093    False  \n",
       "\n",
       "[5 rows x 448 columns]"
      ]
     },
     "execution_count": 14,
     "metadata": {},
     "output_type": "execute_result"
    }
   ],
   "source": [
    "# Expand tags lists as presence columns\n",
    "mlb = MultiLabelBinarizer()\n",
    "tags_presence = pd.DataFrame(mlb.fit_transform(dfgames2['tags']), columns=mlb.classes_, index=dfgames2.index).astype(bool)\n",
    "dfgames2 = dfgames2.join(tags_presence) # add the tag columns\n",
    "dfgames2.drop(['tags'], axis=1, inplace=True) # remove the tags lists column\n",
    "dfgames2.sample(5)"
   ]
  },
  {
   "cell_type": "code",
   "execution_count": 15,
   "metadata": {},
   "outputs": [],
   "source": [
    "# Convert all data types to binary\n",
    "dfgames2 = dfgames2.astype({col: int for col in dfgames2.columns})"
   ]
  },
  {
   "cell_type": "code",
   "execution_count": 16,
   "metadata": {},
   "outputs": [],
   "source": [
    "X = dfgames2.drop(['positive_rating'], axis=1) # Select all features except target\n",
    "y = dfgames2['positive_rating'] # Select target feature"
   ]
  },
  {
   "cell_type": "markdown",
   "metadata": {},
   "source": [
    "-------------------------"
   ]
  },
  {
   "cell_type": "markdown",
   "metadata": {},
   "source": [
    "# Model Architecture and Design"
   ]
  },
  {
   "cell_type": "code",
   "execution_count": 17,
   "metadata": {},
   "outputs": [],
   "source": [
    "# Set up testing and training sets with 20% test split\n",
    "X_train, X_test, y_train, y_test = train_test_split(X, y, test_size=0.2)"
   ]
  },
  {
   "cell_type": "markdown",
   "metadata": {},
   "source": [
    "## Build and Compile Model"
   ]
  },
  {
   "cell_type": "markdown",
   "metadata": {},
   "source": [
    "### Parameter Testing and Tuning"
   ]
  },
  {
   "cell_type": "code",
   "execution_count": 18,
   "metadata": {},
   "outputs": [
    {
     "name": "stdout",
     "output_type": "stream",
     "text": [
      "Reloading Tuner from .\\sd_tuner\\tuner0.json\n",
      "WARNING:tensorflow:From c:\\Users\\acai1\\AppData\\Local\\Programs\\Python\\Python311\\Lib\\site-packages\\keras\\src\\backend\\common\\global_state.py:82: The name tf.reset_default_graph is deprecated. Please use tf.compat.v1.reset_default_graph instead.\n",
      "\n",
      "Best Model Summary:\n"
     ]
    },
    {
     "data": {
      "text/html": [
       "<pre style=\"white-space:pre;overflow-x:auto;line-height:normal;font-family:Menlo,'DejaVu Sans Mono',consolas,'Courier New',monospace\"><span style=\"font-weight: bold\">Model: \"sequential\"</span>\n",
       "</pre>\n"
      ],
      "text/plain": [
       "\u001b[1mModel: \"sequential\"\u001b[0m\n"
      ]
     },
     "metadata": {},
     "output_type": "display_data"
    },
    {
     "data": {
      "text/html": [
       "<pre style=\"white-space:pre;overflow-x:auto;line-height:normal;font-family:Menlo,'DejaVu Sans Mono',consolas,'Courier New',monospace\">┏━━━━━━━━━━━━━━━━━━━━━━━━━━━━━━━━━┳━━━━━━━━━━━━━━━━━━━━━━━━┳━━━━━━━━━━━━━━━┓\n",
       "┃<span style=\"font-weight: bold\"> Layer (type)                    </span>┃<span style=\"font-weight: bold\"> Output Shape           </span>┃<span style=\"font-weight: bold\">       Param # </span>┃\n",
       "┡━━━━━━━━━━━━━━━━━━━━━━━━━━━━━━━━━╇━━━━━━━━━━━━━━━━━━━━━━━━╇━━━━━━━━━━━━━━━┩\n",
       "│ dense (<span style=\"color: #0087ff; text-decoration-color: #0087ff\">Dense</span>)                   │ (<span style=\"color: #00d7ff; text-decoration-color: #00d7ff\">None</span>, <span style=\"color: #00af00; text-decoration-color: #00af00\">96</span>)             │        <span style=\"color: #00af00; text-decoration-color: #00af00\">43,008</span> │\n",
       "├─────────────────────────────────┼────────────────────────┼───────────────┤\n",
       "│ dropout (<span style=\"color: #0087ff; text-decoration-color: #0087ff\">Dropout</span>)               │ (<span style=\"color: #00d7ff; text-decoration-color: #00d7ff\">None</span>, <span style=\"color: #00af00; text-decoration-color: #00af00\">96</span>)             │             <span style=\"color: #00af00; text-decoration-color: #00af00\">0</span> │\n",
       "├─────────────────────────────────┼────────────────────────┼───────────────┤\n",
       "│ dense_1 (<span style=\"color: #0087ff; text-decoration-color: #0087ff\">Dense</span>)                 │ (<span style=\"color: #00d7ff; text-decoration-color: #00d7ff\">None</span>, <span style=\"color: #00af00; text-decoration-color: #00af00\">128</span>)            │        <span style=\"color: #00af00; text-decoration-color: #00af00\">12,416</span> │\n",
       "├─────────────────────────────────┼────────────────────────┼───────────────┤\n",
       "│ dropout_1 (<span style=\"color: #0087ff; text-decoration-color: #0087ff\">Dropout</span>)             │ (<span style=\"color: #00d7ff; text-decoration-color: #00d7ff\">None</span>, <span style=\"color: #00af00; text-decoration-color: #00af00\">128</span>)            │             <span style=\"color: #00af00; text-decoration-color: #00af00\">0</span> │\n",
       "├─────────────────────────────────┼────────────────────────┼───────────────┤\n",
       "│ dense_2 (<span style=\"color: #0087ff; text-decoration-color: #0087ff\">Dense</span>)                 │ (<span style=\"color: #00d7ff; text-decoration-color: #00d7ff\">None</span>, <span style=\"color: #00af00; text-decoration-color: #00af00\">128</span>)            │        <span style=\"color: #00af00; text-decoration-color: #00af00\">16,512</span> │\n",
       "├─────────────────────────────────┼────────────────────────┼───────────────┤\n",
       "│ dense_3 (<span style=\"color: #0087ff; text-decoration-color: #0087ff\">Dense</span>)                 │ (<span style=\"color: #00d7ff; text-decoration-color: #00d7ff\">None</span>, <span style=\"color: #00af00; text-decoration-color: #00af00\">1</span>)              │           <span style=\"color: #00af00; text-decoration-color: #00af00\">129</span> │\n",
       "└─────────────────────────────────┴────────────────────────┴───────────────┘\n",
       "</pre>\n"
      ],
      "text/plain": [
       "┏━━━━━━━━━━━━━━━━━━━━━━━━━━━━━━━━━┳━━━━━━━━━━━━━━━━━━━━━━━━┳━━━━━━━━━━━━━━━┓\n",
       "┃\u001b[1m \u001b[0m\u001b[1mLayer (type)                   \u001b[0m\u001b[1m \u001b[0m┃\u001b[1m \u001b[0m\u001b[1mOutput Shape          \u001b[0m\u001b[1m \u001b[0m┃\u001b[1m \u001b[0m\u001b[1m      Param #\u001b[0m\u001b[1m \u001b[0m┃\n",
       "┡━━━━━━━━━━━━━━━━━━━━━━━━━━━━━━━━━╇━━━━━━━━━━━━━━━━━━━━━━━━╇━━━━━━━━━━━━━━━┩\n",
       "│ dense (\u001b[38;5;33mDense\u001b[0m)                   │ (\u001b[38;5;45mNone\u001b[0m, \u001b[38;5;34m96\u001b[0m)             │        \u001b[38;5;34m43,008\u001b[0m │\n",
       "├─────────────────────────────────┼────────────────────────┼───────────────┤\n",
       "│ dropout (\u001b[38;5;33mDropout\u001b[0m)               │ (\u001b[38;5;45mNone\u001b[0m, \u001b[38;5;34m96\u001b[0m)             │             \u001b[38;5;34m0\u001b[0m │\n",
       "├─────────────────────────────────┼────────────────────────┼───────────────┤\n",
       "│ dense_1 (\u001b[38;5;33mDense\u001b[0m)                 │ (\u001b[38;5;45mNone\u001b[0m, \u001b[38;5;34m128\u001b[0m)            │        \u001b[38;5;34m12,416\u001b[0m │\n",
       "├─────────────────────────────────┼────────────────────────┼───────────────┤\n",
       "│ dropout_1 (\u001b[38;5;33mDropout\u001b[0m)             │ (\u001b[38;5;45mNone\u001b[0m, \u001b[38;5;34m128\u001b[0m)            │             \u001b[38;5;34m0\u001b[0m │\n",
       "├─────────────────────────────────┼────────────────────────┼───────────────┤\n",
       "│ dense_2 (\u001b[38;5;33mDense\u001b[0m)                 │ (\u001b[38;5;45mNone\u001b[0m, \u001b[38;5;34m128\u001b[0m)            │        \u001b[38;5;34m16,512\u001b[0m │\n",
       "├─────────────────────────────────┼────────────────────────┼───────────────┤\n",
       "│ dense_3 (\u001b[38;5;33mDense\u001b[0m)                 │ (\u001b[38;5;45mNone\u001b[0m, \u001b[38;5;34m1\u001b[0m)              │           \u001b[38;5;34m129\u001b[0m │\n",
       "└─────────────────────────────────┴────────────────────────┴───────────────┘\n"
      ]
     },
     "metadata": {},
     "output_type": "display_data"
    },
    {
     "data": {
      "text/html": [
       "<pre style=\"white-space:pre;overflow-x:auto;line-height:normal;font-family:Menlo,'DejaVu Sans Mono',consolas,'Courier New',monospace\"><span style=\"font-weight: bold\"> Total params: </span><span style=\"color: #00af00; text-decoration-color: #00af00\">72,065</span> (281.50 KB)\n",
       "</pre>\n"
      ],
      "text/plain": [
       "\u001b[1m Total params: \u001b[0m\u001b[38;5;34m72,065\u001b[0m (281.50 KB)\n"
      ]
     },
     "metadata": {},
     "output_type": "display_data"
    },
    {
     "data": {
      "text/html": [
       "<pre style=\"white-space:pre;overflow-x:auto;line-height:normal;font-family:Menlo,'DejaVu Sans Mono',consolas,'Courier New',monospace\"><span style=\"font-weight: bold\"> Trainable params: </span><span style=\"color: #00af00; text-decoration-color: #00af00\">72,065</span> (281.50 KB)\n",
       "</pre>\n"
      ],
      "text/plain": [
       "\u001b[1m Trainable params: \u001b[0m\u001b[38;5;34m72,065\u001b[0m (281.50 KB)\n"
      ]
     },
     "metadata": {},
     "output_type": "display_data"
    },
    {
     "data": {
      "text/html": [
       "<pre style=\"white-space:pre;overflow-x:auto;line-height:normal;font-family:Menlo,'DejaVu Sans Mono',consolas,'Courier New',monospace\"><span style=\"font-weight: bold\"> Non-trainable params: </span><span style=\"color: #00af00; text-decoration-color: #00af00\">0</span> (0.00 B)\n",
       "</pre>\n"
      ],
      "text/plain": [
       "\u001b[1m Non-trainable params: \u001b[0m\u001b[38;5;34m0\u001b[0m (0.00 B)\n"
      ]
     },
     "metadata": {},
     "output_type": "display_data"
    },
    {
     "name": "stdout",
     "output_type": "stream",
     "text": [
      "Best Hyperparameters:\n",
      "units1: 96\n",
      "activation1: leaky_relu\n",
      "dropout_rate: 0.2\n",
      "units2: 128\n",
      "activation2: leaky_relu\n",
      "dropout_rate2: 0.4\n",
      "units3: 128\n",
      "activation3: elu\n",
      "optimizer: adam\n",
      "learning_rate: 0.00026655389110270963\n",
      "tuner/epochs: 34\n",
      "tuner/initial_epoch: 12\n",
      "tuner/bracket: 4\n",
      "tuner/round: 3\n",
      "tuner/trial_id: 0140\n"
     ]
    }
   ],
   "source": [
    "def build_model(hp):\n",
    "    \"\"\"Testing/tuning several parameters for Sequential Deep Learning Model for 3 layers\n",
    "\n",
    "    Args:\n",
    "        hp (keras tuner): tuner for model\n",
    "\n",
    "    Returns:\n",
    "        JSON file: trained model parameters that had best accuracy score\n",
    "    \"\"\"\n",
    "    # model selection, sequential ideal for bianry classifcaiton\n",
    "    model = Sequential()\n",
    "    # finding parameters for first layer\n",
    "    model.add(Dense(units=hp.Int('units1', min_value=32, max_value=128, step=32),\n",
    "                    activation=hp.Choice('activation1', values=['relu', 'leaky_relu', 'elu']), input_dim=len(X_train.columns)))\n",
    "    model.add(Dropout(rate=hp.Float('dropout_rate', min_value=0.2, max_value=0.5, step=0.1)))\n",
    "    # finding parameters for second layer\n",
    "    model.add(Dense(units=hp.Int('units2', min_value=32, max_value=128, step=32), \n",
    "                    activation=hp.Choice('activation2', values=['relu', 'leaky_relu', 'elu'])))\n",
    "    model.add(Dropout(rate=hp.Float('dropout_rate2', min_value=0.2, max_value=0.5, step=0.1)))\n",
    "    # finding parameters for third layer\n",
    "    model.add(Dense(units=hp.Int('units3', min_value=32, max_value=128, step=32), \n",
    "                    activation=hp.Choice('activation3', values=['relu', 'leaky_relu', 'elu'])))\n",
    "    model.add(Dense(1, activation='sigmoid'))\n",
    "    # Find best optimizer between SGD and ADAM\n",
    "    optimizer = hp.Choice('optimizer', values=['adam', 'sgd'])\n",
    "    # Test different learning rates to assist with fitting\n",
    "    learning_rate = hp.Float('learning_rate', min_value=1e-5, max_value=1e-1, sampling='log')\n",
    "    if optimizer == 'adam':\n",
    "        optimizer_instance = Adam(learning_rate=learning_rate)\n",
    "    else:\n",
    "        optimizer_instance = SGD(learning_rate=learning_rate)\n",
    "    # Compile the model\n",
    "    model.compile(optimizer=optimizer_instance,\n",
    "                  loss='binary_crossentropy',\n",
    "                  metrics=['accuracy'])\n",
    "    \n",
    "    return model\n",
    "\n",
    "# Initialize the tuner\n",
    "tuner = kt.Hyperband(build_model,\n",
    "                     objective='val_accuracy',\n",
    "                     max_epochs=100,\n",
    "                     project_name='sd_tuner',\n",
    "                     hyperband_iterations=2)\n",
    "\n",
    "# Perform hyperparameter search\n",
    "tuner.search(X_train, y_train, epochs=100, validation_split=0.2, verbose=0)\n",
    "\n",
    "# Get the best model\n",
    "best_model = tuner.get_best_models(num_models=1)[0]\n",
    "\n",
    "# Get the best hyperparameters\n",
    "best_hyperparameters = tuner.get_best_hyperparameters(num_trials=1)[0]\n",
    "\n",
    "# Print the best model summary\n",
    "print(\"Best Model Summary:\")\n",
    "best_model.summary()\n",
    "\n",
    "# Print best hyperparameters\n",
    "print(\"Best Hyperparameters:\")\n",
    "for key, value in best_hyperparameters.values.items():\n",
    "    print(f\"{key}: {value}\")"
   ]
  },
  {
   "cell_type": "markdown",
   "metadata": {},
   "source": [
    "### Model Design"
   ]
  },
  {
   "cell_type": "code",
   "execution_count": 19,
   "metadata": {},
   "outputs": [],
   "source": [
    "# # Uncomment this entire cell to adjust new model parameters\n",
    "# early_stopping = EarlyStopping(monitor='val_accuracy', patience=10, restore_best_weights=True)\n",
    "# lr_reduction= ReduceLROnPlateau(monitor='val_loss', patience=5, verbose=1, factor=0.5)\n",
    "# # Create Adam optimizer with a custom learning rate\n",
    "# optimizer = Adam(learning_rate=0.00026655389110270963)  # Adjust learning rate as needed started with 0.0001\n",
    "\n",
    "# model = Sequential()\n",
    "# model.add(Dense(units=96, activation='leaky_relu', input_dim=len(X_train.columns), kernel_regularizer=regularizers.l1_l2(l1=0.01, l2=0.1))) # L2 regularization with lambda=0.01 l2(0.01) / , kernel_regularizer=regularizers.l1_l2(l1=0.001, l2=0.01)\n",
    "# model.add(BatchNormalization())\n",
    "# model.add(Dropout(0.2)) # Dropout with 20% probability\n",
    "# model.add(Dense(units=128, activation='leaky_relu', kernel_regularizer=regularizers.l1_l2(l1=0.01, l2=0.01))) \n",
    "# model.add(BatchNormalization())\n",
    "# model.add(Dropout(0.4))  # Dropout with 40% probability\n",
    "# model.add(Dense(units=128, activation='elu', kernel_regularizer=regularizers.l1_l2(l1=0.01, l2=0.01)))\n",
    "# model.add(Dense(units=1, activation='sigmoid'))\n",
    "\n",
    "\n",
    "# model.compile(loss='binary_crossentropy', optimizer=optimizer, metrics=['accuracy'])"
   ]
  },
  {
   "cell_type": "markdown",
   "metadata": {},
   "source": [
    "## Fit, Predict, and Evaluate"
   ]
  },
  {
   "cell_type": "code",
   "execution_count": 20,
   "metadata": {},
   "outputs": [],
   "source": [
    "# # Uncomment cell to train new model\n",
    "# model.fit(X_train, y_train, epochs=300, batch_size=32, callbacks=[early_stopping, lr_reduction]) "
   ]
  },
  {
   "cell_type": "code",
   "execution_count": 21,
   "metadata": {},
   "outputs": [],
   "source": [
    "# # Uncomment cell to save new model\n",
    "# model.save('SD_Seq_model.keras')"
   ]
  },
  {
   "cell_type": "code",
   "execution_count": 22,
   "metadata": {},
   "outputs": [],
   "source": [
    "# # Uncomment cell to delete model from memory\n",
    "# del model"
   ]
  },
  {
   "cell_type": "code",
   "execution_count": 23,
   "metadata": {},
   "outputs": [],
   "source": [
    "# Reload saved model\n",
    "model = load_model('SD_Seq_model.keras')"
   ]
  },
  {
   "cell_type": "code",
   "execution_count": 24,
   "metadata": {},
   "outputs": [
    {
     "data": {
      "text/plain": [
       "0.7184275184275184"
      ]
     },
     "execution_count": 24,
     "metadata": {},
     "output_type": "execute_result"
    }
   ],
   "source": [
    "# Testing model with testing data\n",
    "y_hat = model.predict(X_test, verbose=0)\n",
    "# Convert probabilties to binary classification\n",
    "y_hat = [0 if val <0.5 else 1 for val in y_hat] \n",
    "# Checking accuracy between test and prediction\n",
    "accuracy_score(y_test, y_hat)"
   ]
  },
  {
   "cell_type": "code",
   "execution_count": 25,
   "metadata": {},
   "outputs": [],
   "source": [
    "def SteamRating(cols, x_input):\n",
    "    \"\"\"Based on Feature Classification, returns \n",
    "\n",
    "    Args:\n",
    "        cols (pandas columns): list of predictor features\n",
    "        x_input (array): array of binary values of feature presence\n",
    "\n",
    "    Returns:\n",
    "        str: Postive or Not Positive Rating\n",
    "        array: Array of features associated with rating\n",
    "    \"\"\"\n",
    "    # Prediction based on x_input\n",
    "    y_pred = model.predict(x_input, verbose=0)\n",
    "    # Convert probability to 0 or 1 classification\n",
    "    y_pred = 0 if y_pred <0.5 else 1\n",
    "    # Find indices of where 1 is present from x_input\n",
    "    attr_1 = np.where(x_input != 0)[1]\n",
    "    # Have the features be in an array for index searching\n",
    "    a_col = np.array(cols)\n",
    "\n",
    "    if y_pred == 1:\n",
    "        return ('Positive Rating', a_col[[attr_1]])\n",
    "    else:\n",
    "        return ('Negative Rating', a_col[[attr_1]])\n"
   ]
  },
  {
   "cell_type": "code",
   "execution_count": 26,
   "metadata": {},
   "outputs": [],
   "source": [
    "def rating_trials(n, positive, negative, cols):\n",
    "    \"\"\"Runs model against randomly generated data feature presence of n satisfying conditions,\n",
    "       this will be compiled in an array for positive/negative ratings\n",
    "\n",
    "    Args:\n",
    "        n (int): number of satisfied conditions\n",
    "        positive (bool): set to True if want positive rating array (exclusive)\n",
    "        negative (bool): set to True if want negative rating array (exclusive)\n",
    "        cols (pandas columns): list of predictor features\n",
    "    \"\"\"\n",
    "    if positive:\n",
    "        # Generate count array\n",
    "        featureCount = np.zeros((1, 447))\n",
    "        # Initialize stopper\n",
    "        count = 0\n",
    "        while count != n: \n",
    "            # Random predictor feature presence\n",
    "            x = np.random.randint(2, size=(1,447))\n",
    "            # Condition satisfied summations and ticker\n",
    "            if SteamRating(cols, x)[0] == 'Positive Rating':\n",
    "              featureCount = featureCount +  x\n",
    "              count += 1\n",
    "        return(featureCount.astype(int))\n",
    "    elif negative:\n",
    "        # Generate count array\n",
    "        featureCount = np.zeros((1, 447))\n",
    "        # Initialize stopper\n",
    "        count = 0\n",
    "        while count != n: \n",
    "            # Random predictor feature presence\n",
    "            x = np.random.randint(2, size=(1,447))\n",
    "            # Condition satisfied summations and ticker\n",
    "            if SteamRating(cols, x)[0] == 'Negative Rating':\n",
    "                featureCount = featureCount +  x\n",
    "                count += 1\n",
    "        return(featureCount.astype(int))\n"
   ]
  },
  {
   "cell_type": "markdown",
   "metadata": {},
   "source": [
    "### Predictions Between Postive and Negative Rating Attributes"
   ]
  },
  {
   "cell_type": "code",
   "execution_count": 27,
   "metadata": {},
   "outputs": [],
   "source": [
    "# Run Trials\n",
    "random.seed(0)\n",
    "# Positive Rating Array\n",
    "testP = rating_trials(100, True, False, X_test.columns)\n",
    "# Negative Rating Array\n",
    "testN = rating_trials(100, False, True, X_test.columns)"
   ]
  },
  {
   "cell_type": "code",
   "execution_count": 28,
   "metadata": {},
   "outputs": [],
   "source": [
    "# Generate Summary Feature Counts\n",
    "positive_df = pd.DataFrame(testP, columns=X_test.columns)\n",
    "positive_df['Rating'] = 'Postive'\n",
    "negative_df = pd.DataFrame(testN, columns=X_test.columns)\n",
    "negative_df['Rating'] = 'Negative'"
   ]
  },
  {
   "cell_type": "code",
   "execution_count": 29,
   "metadata": {},
   "outputs": [
    {
     "data": {
      "text/html": [
       "<div>\n",
       "<style scoped>\n",
       "    .dataframe tbody tr th:only-of-type {\n",
       "        vertical-align: middle;\n",
       "    }\n",
       "\n",
       "    .dataframe tbody tr th {\n",
       "        vertical-align: top;\n",
       "    }\n",
       "\n",
       "    .dataframe thead th {\n",
       "        text-align: right;\n",
       "    }\n",
       "</style>\n",
       "<table border=\"1\" class=\"dataframe\">\n",
       "  <thead>\n",
       "    <tr style=\"text-align: right;\">\n",
       "      <th></th>\n",
       "      <th>win</th>\n",
       "      <th>mac</th>\n",
       "      <th>linux</th>\n",
       "      <th>steam_deck</th>\n",
       "      <th>discounted</th>\n",
       "      <th>over_10</th>\n",
       "      <th>1980s</th>\n",
       "      <th>1990's</th>\n",
       "      <th>2.5D</th>\n",
       "      <th>2D</th>\n",
       "      <th>...</th>\n",
       "      <th>Werewolves</th>\n",
       "      <th>Western</th>\n",
       "      <th>Wholesome</th>\n",
       "      <th>Word Game</th>\n",
       "      <th>World War I</th>\n",
       "      <th>World War II</th>\n",
       "      <th>Wrestling</th>\n",
       "      <th>Zombies</th>\n",
       "      <th>eSports</th>\n",
       "      <th>Rating</th>\n",
       "    </tr>\n",
       "  </thead>\n",
       "  <tbody>\n",
       "    <tr>\n",
       "      <th>0</th>\n",
       "      <td>56</td>\n",
       "      <td>52</td>\n",
       "      <td>47</td>\n",
       "      <td>54</td>\n",
       "      <td>50</td>\n",
       "      <td>58</td>\n",
       "      <td>50</td>\n",
       "      <td>52</td>\n",
       "      <td>48</td>\n",
       "      <td>49</td>\n",
       "      <td>...</td>\n",
       "      <td>47</td>\n",
       "      <td>48</td>\n",
       "      <td>50</td>\n",
       "      <td>49</td>\n",
       "      <td>55</td>\n",
       "      <td>48</td>\n",
       "      <td>60</td>\n",
       "      <td>47</td>\n",
       "      <td>49</td>\n",
       "      <td>Postive</td>\n",
       "    </tr>\n",
       "    <tr>\n",
       "      <th>1</th>\n",
       "      <td>97</td>\n",
       "      <td>32</td>\n",
       "      <td>47</td>\n",
       "      <td>49</td>\n",
       "      <td>39</td>\n",
       "      <td>54</td>\n",
       "      <td>51</td>\n",
       "      <td>47</td>\n",
       "      <td>50</td>\n",
       "      <td>42</td>\n",
       "      <td>...</td>\n",
       "      <td>55</td>\n",
       "      <td>49</td>\n",
       "      <td>47</td>\n",
       "      <td>54</td>\n",
       "      <td>40</td>\n",
       "      <td>50</td>\n",
       "      <td>53</td>\n",
       "      <td>46</td>\n",
       "      <td>40</td>\n",
       "      <td>Negative</td>\n",
       "    </tr>\n",
       "  </tbody>\n",
       "</table>\n",
       "<p>2 rows × 448 columns</p>\n",
       "</div>"
      ],
      "text/plain": [
       "   win  mac  linux  steam_deck  discounted  over_10  1980s  1990's  2.5D  2D  \\\n",
       "0   56   52     47          54          50       58     50      52    48  49   \n",
       "1   97   32     47          49          39       54     51      47    50  42   \n",
       "\n",
       "   ...  Werewolves  Western  Wholesome  Word Game  World War I  World War II  \\\n",
       "0  ...          47       48         50         49           55            48   \n",
       "1  ...          55       49         47         54           40            50   \n",
       "\n",
       "   Wrestling  Zombies  eSports    Rating  \n",
       "0         60       47       49   Postive  \n",
       "1         53       46       40  Negative  \n",
       "\n",
       "[2 rows x 448 columns]"
      ]
     },
     "execution_count": 29,
     "metadata": {},
     "output_type": "execute_result"
    }
   ],
   "source": [
    "# Append the new row to the original DataFrame\n",
    "dfFeatureCount = pd.concat([positive_df, negative_df], axis=0)\n",
    "dfFeatureCount.reset_index(drop=True)"
   ]
  },
  {
   "cell_type": "code",
   "execution_count": 30,
   "metadata": {},
   "outputs": [
    {
     "data": {
      "text/html": [
       "<div>\n",
       "<style scoped>\n",
       "    .dataframe tbody tr th:only-of-type {\n",
       "        vertical-align: middle;\n",
       "    }\n",
       "\n",
       "    .dataframe tbody tr th {\n",
       "        vertical-align: top;\n",
       "    }\n",
       "\n",
       "    .dataframe thead th {\n",
       "        text-align: right;\n",
       "    }\n",
       "</style>\n",
       "<table border=\"1\" class=\"dataframe\">\n",
       "  <thead>\n",
       "    <tr style=\"text-align: right;\">\n",
       "      <th></th>\n",
       "      <th>Lore-Rich</th>\n",
       "      <th>Medical Sim</th>\n",
       "      <th>City Builder</th>\n",
       "      <th>Clicker</th>\n",
       "      <th>Cycling</th>\n",
       "      <th>Hardware</th>\n",
       "      <th>Comic Book</th>\n",
       "      <th>FMV</th>\n",
       "      <th>Jet</th>\n",
       "      <th>Wrestling</th>\n",
       "    </tr>\n",
       "  </thead>\n",
       "  <tbody>\n",
       "    <tr>\n",
       "      <th>0</th>\n",
       "      <td>62</td>\n",
       "      <td>62</td>\n",
       "      <td>61</td>\n",
       "      <td>61</td>\n",
       "      <td>61</td>\n",
       "      <td>61</td>\n",
       "      <td>60</td>\n",
       "      <td>60</td>\n",
       "      <td>60</td>\n",
       "      <td>60</td>\n",
       "    </tr>\n",
       "  </tbody>\n",
       "</table>\n",
       "</div>"
      ],
      "text/plain": [
       "   Lore-Rich  Medical Sim  City Builder  Clicker  Cycling  Hardware  \\\n",
       "0         62           62            61       61       61        61   \n",
       "\n",
       "   Comic Book  FMV  Jet  Wrestling  \n",
       "0          60   60   60         60  "
      ]
     },
     "execution_count": 30,
     "metadata": {},
     "output_type": "execute_result"
    }
   ],
   "source": [
    "# Top 10 Features for Positive Rating\n",
    "dfTopPositive = dfFeatureCount.drop(['Rating'], axis=1).iloc[0].nlargest(10).to_frame().T\n",
    "dfTopPositive"
   ]
  },
  {
   "cell_type": "code",
   "execution_count": 31,
   "metadata": {},
   "outputs": [
    {
     "data": {
      "text/html": [
       "<div>\n",
       "<style scoped>\n",
       "    .dataframe tbody tr th:only-of-type {\n",
       "        vertical-align: middle;\n",
       "    }\n",
       "\n",
       "    .dataframe tbody tr th {\n",
       "        vertical-align: top;\n",
       "    }\n",
       "\n",
       "    .dataframe thead th {\n",
       "        text-align: right;\n",
       "    }\n",
       "</style>\n",
       "<table border=\"1\" class=\"dataframe\">\n",
       "  <thead>\n",
       "    <tr style=\"text-align: right;\">\n",
       "      <th></th>\n",
       "      <th>win</th>\n",
       "      <th>Massively Multiplayer</th>\n",
       "      <th>Simulation</th>\n",
       "      <th>Clicker</th>\n",
       "      <th>Survival</th>\n",
       "      <th>Dark Fantasy</th>\n",
       "      <th>Early Access</th>\n",
       "      <th>MMORPG</th>\n",
       "      <th>Realistic</th>\n",
       "      <th>Turn-Based Combat</th>\n",
       "    </tr>\n",
       "  </thead>\n",
       "  <tbody>\n",
       "    <tr>\n",
       "      <th>0</th>\n",
       "      <td>97</td>\n",
       "      <td>88</td>\n",
       "      <td>85</td>\n",
       "      <td>78</td>\n",
       "      <td>72</td>\n",
       "      <td>69</td>\n",
       "      <td>68</td>\n",
       "      <td>67</td>\n",
       "      <td>67</td>\n",
       "      <td>67</td>\n",
       "    </tr>\n",
       "  </tbody>\n",
       "</table>\n",
       "</div>"
      ],
      "text/plain": [
       "   win  Massively Multiplayer  Simulation  Clicker  Survival  Dark Fantasy  \\\n",
       "0   97                     88          85       78        72            69   \n",
       "\n",
       "   Early Access  MMORPG  Realistic  Turn-Based Combat  \n",
       "0            68      67         67                 67  "
      ]
     },
     "execution_count": 31,
     "metadata": {},
     "output_type": "execute_result"
    }
   ],
   "source": [
    "# Top 10 Features for Negative Rating\n",
    "dfTopNegative = dfFeatureCount.drop(['Rating'], axis=1).iloc[1].nlargest(10).to_frame().T\n",
    "dfTopNegative"
   ]
  },
  {
   "cell_type": "markdown",
   "metadata": {},
   "source": [
    "-------------------------"
   ]
  },
  {
   "cell_type": "markdown",
   "metadata": {},
   "source": [
    "# Conclusion"
   ]
  },
  {
   "cell_type": "markdown",
   "metadata": {},
   "source": [
    "After building a Sequential Model for binary classification with an accuracy score of ~72% and running trials until 100 positive and 100 negative ratings were produced, it seems that the top 10 feature combinations for a\n",
    "\n",
    "**Positive Rating:** \n",
    "- Lore-Rich\n",
    "- Medical Sim\n",
    "- City Builder\n",
    "- Clicker\n",
    "- Cycling\n",
    "- Hardware\n",
    "- Comic Book\n",
    "- FMV\n",
    "- Jet\n",
    "- Wrestling\n",
    "\n",
    "**Negative Rating:** \n",
    "- win\n",
    "- Massively Multiplayer\t\n",
    "- Simulation\t\n",
    "- Clicker\t\n",
    "- Survival\t\n",
    "- Dark Fantasy\t\n",
    "- Early Access\t\n",
    "- MMORPG\t\n",
    "- Realistic\t\n",
    "- Turn-Based Combat\n",
    "\n",
    "To improve the accuracy score, some future work would be to clean up the raw data more and introduce more feature engineered variables. Collapsing redundant columns such as MMO versus Multiplayer could also simplyify the dataset/improve accuracy. Furthermore, in the tuning, add in regularizers to find parameters that reduce overfitting even further. \n",
    "\n",
    "However, it seems that overall many steam reviews are generally rated positively since when running the trials, the negative review output took signifcantly longer to produce. Assuming that features do not have dependencies on one another, the negative combination above are best to avoid. Further modelign and statistical work should be done to actually test for feature independence."
   ]
  }
 ],
 "metadata": {
  "kernelspec": {
   "display_name": "Python 3",
   "language": "python",
   "name": "python3"
  },
  "language_info": {
   "codemirror_mode": {
    "name": "ipython",
    "version": 3
   },
   "file_extension": ".py",
   "mimetype": "text/x-python",
   "name": "python",
   "nbconvert_exporter": "python",
   "pygments_lexer": "ipython3",
   "version": "3.11.5"
  }
 },
 "nbformat": 4,
 "nbformat_minor": 2
}
