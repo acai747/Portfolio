{
 "cells": [
  {
   "cell_type": "markdown",
   "metadata": {},
   "source": [
    "## Introduction\n",
    "<b><p style=\"font-size: XX-large\"><font color = \"green\">Andrew Cai (cai.and@northeastern.edu)</font></p></b> </div>\n",
    "<b><p style=\"font-size: XX-large\"><font color = \"green\">DS5010 Final Project</font></p></b> </div>\n",
    "<b><p style=\"font-size: XX-large\"><font color = \"green\">April 19, 2024</font></p></b> </div>"
   ]
  },
  {
   "cell_type": "code",
   "execution_count": 1,
   "metadata": {},
   "outputs": [],
   "source": [
    "import sys\n",
    "import pandas as pd\n",
    "import numpy as np\n",
    "import matplotlib.pyplot as plt\n",
    "import seaborn as sns\n",
    "\n",
    "%load_ext pycodestyle_magic\n",
    "%pycodestyle_on"
   ]
  },
  {
   "cell_type": "markdown",
   "metadata": {},
   "source": [
    "-------------------------"
   ]
  },
  {
   "cell_type": "markdown",
   "metadata": {},
   "source": [
    "## Data Set Background"
   ]
  },
  {
   "cell_type": "markdown",
   "metadata": {},
   "source": [
    "This dataset contains a list of apartment availabilities from December 2008 to December 2009. It contains 22 features about a apartment along with 100000 records. The dataset has been cleaned a bit ahead of time so that Price and Square_Feet attributes are not empty. In this project the dataset was processed to mainly focus on key attributes such as \n",
    "\n",
    "- Amenities (Nice add-ons to an apartment/complex)\n",
    "- Bathrooms (Number of bathrooms)\n",
    "- Bedrooms (Number of bedrooms)\n",
    "- Fee (How much the sign-on fee)\n",
    "- Photo (Photo presence of listing at souce)\n",
    "- Pets (Type of pets allowed)\n",
    "- Price (Rental Price in USD)\n",
    "- Square footage (Size of the apartment)\n",
    "- City (City of apartment record)\n",
    "- State (State of apartment record)\n",
    "- Source (Where the record was taken from)\n",
    "- Time (When the record was created)\n",
    "\n",
    "While there are other features, those additional features did not seem to add value for the scope of the project such as the longitude and latitude of a record when we rather focus on the city and state.\n",
    "\n",
    "With this data, insights will be gathered on critical factors in affecting apartment rentals and also providing guidance on optimal situations for clients such as best time to look for apartments or cities that have high rents."
   ]
  },
  {
   "cell_type": "markdown",
   "metadata": {},
   "source": [
    "UCI ML Repository: [Apartment for Rent Classified](https://archive.ics.uci.edu/dataset/555/apartment+for+rent+classified)\n",
    "\n",
    "Apartment for Rent Classified. (2019). UCI Machine Learning Repository. https://doi.org/10.24432/C5X623."
   ]
  },
  {
   "cell_type": "markdown",
   "metadata": {},
   "source": [
    "-------------------------"
   ]
  },
  {
   "cell_type": "markdown",
   "metadata": {},
   "source": [
    "## Data Wrangling"
   ]
  },
  {
   "cell_type": "markdown",
   "metadata": {},
   "source": [
    "### Extraction"
   ]
  },
  {
   "cell_type": "code",
   "execution_count": 2,
   "metadata": {},
   "outputs": [
    {
     "data": {
      "text/html": [
       "<div>\n",
       "<style scoped>\n",
       "    .dataframe tbody tr th:only-of-type {\n",
       "        vertical-align: middle;\n",
       "    }\n",
       "\n",
       "    .dataframe tbody tr th {\n",
       "        vertical-align: top;\n",
       "    }\n",
       "\n",
       "    .dataframe thead th {\n",
       "        text-align: right;\n",
       "    }\n",
       "</style>\n",
       "<table border=\"1\" class=\"dataframe\">\n",
       "  <thead>\n",
       "    <tr style=\"text-align: right;\">\n",
       "      <th></th>\n",
       "      <th>id</th>\n",
       "      <th>category</th>\n",
       "      <th>title</th>\n",
       "      <th>body</th>\n",
       "      <th>amenities</th>\n",
       "      <th>bathrooms</th>\n",
       "      <th>bedrooms</th>\n",
       "      <th>currency</th>\n",
       "      <th>fee</th>\n",
       "      <th>has_photo</th>\n",
       "      <th>...</th>\n",
       "      <th>price_display</th>\n",
       "      <th>price_type</th>\n",
       "      <th>square_feet</th>\n",
       "      <th>address</th>\n",
       "      <th>cityname</th>\n",
       "      <th>state</th>\n",
       "      <th>latitude</th>\n",
       "      <th>longitude</th>\n",
       "      <th>source</th>\n",
       "      <th>time</th>\n",
       "    </tr>\n",
       "  </thead>\n",
       "  <tbody>\n",
       "    <tr>\n",
       "      <th>77820</th>\n",
       "      <td>5197945367</td>\n",
       "      <td>housing/rent/apartment</td>\n",
       "      <td>Apartment in quiet area, spacious with big kit...</td>\n",
       "      <td>Welcome to luxurious living and exceptional lo...</td>\n",
       "      <td>Fireplace,Pool</td>\n",
       "      <td>1.0</td>\n",
       "      <td>1.0</td>\n",
       "      <td>USD</td>\n",
       "      <td>No</td>\n",
       "      <td>Thumbnail</td>\n",
       "      <td>...</td>\n",
       "      <td>$1,075</td>\n",
       "      <td>Monthly</td>\n",
       "      <td>772</td>\n",
       "      <td>NaN</td>\n",
       "      <td>Frisco</td>\n",
       "      <td>TX</td>\n",
       "      <td>33.1523</td>\n",
       "      <td>-96.8499</td>\n",
       "      <td>RentDigs.com</td>\n",
       "      <td>1550831491</td>\n",
       "    </tr>\n",
       "    <tr>\n",
       "      <th>19728</th>\n",
       "      <td>5508900805</td>\n",
       "      <td>housing/rent/apartment</td>\n",
       "      <td>Two BR, Two BA, 1,224 sq. ft. - must see to be...</td>\n",
       "      <td>Square footage: 1224 square feet, unit number:...</td>\n",
       "      <td>Gym,Pool</td>\n",
       "      <td>2.0</td>\n",
       "      <td>2.0</td>\n",
       "      <td>USD</td>\n",
       "      <td>No</td>\n",
       "      <td>Yes</td>\n",
       "      <td>...</td>\n",
       "      <td>$1,500</td>\n",
       "      <td>Monthly</td>\n",
       "      <td>1224</td>\n",
       "      <td>NaN</td>\n",
       "      <td>Kissimmee</td>\n",
       "      <td>FL</td>\n",
       "      <td>28.2966</td>\n",
       "      <td>-81.6162</td>\n",
       "      <td>RentDigs.com</td>\n",
       "      <td>1568760443</td>\n",
       "    </tr>\n",
       "    <tr>\n",
       "      <th>59834</th>\n",
       "      <td>5198433409</td>\n",
       "      <td>housing/rent/apartment</td>\n",
       "      <td>Attractive Two BR, Two BA. Single Car Garage!</td>\n",
       "      <td>Are you ready for luxurious without the commut...</td>\n",
       "      <td>Dishwasher,Gated,Gym,Parking,Pool,Refrigerator,TV</td>\n",
       "      <td>2.0</td>\n",
       "      <td>2.0</td>\n",
       "      <td>USD</td>\n",
       "      <td>No</td>\n",
       "      <td>Yes</td>\n",
       "      <td>...</td>\n",
       "      <td>$1,260</td>\n",
       "      <td>Monthly</td>\n",
       "      <td>848</td>\n",
       "      <td>NaN</td>\n",
       "      <td>Newport News</td>\n",
       "      <td>VA</td>\n",
       "      <td>36.9886</td>\n",
       "      <td>-76.4202</td>\n",
       "      <td>RentDigs.com</td>\n",
       "      <td>1550851482</td>\n",
       "    </tr>\n",
       "    <tr>\n",
       "      <th>63885</th>\n",
       "      <td>5198335228</td>\n",
       "      <td>housing/rent/apartment</td>\n",
       "      <td>Tucson Value. $670/mo</td>\n",
       "      <td>Price from: 670. Welcome home to Tierra Hills ...</td>\n",
       "      <td>Clubhouse,Dishwasher,Parking,Patio/Deck,Refrig...</td>\n",
       "      <td>1.0</td>\n",
       "      <td>1.0</td>\n",
       "      <td>USD</td>\n",
       "      <td>No</td>\n",
       "      <td>Thumbnail</td>\n",
       "      <td>...</td>\n",
       "      <td>$670</td>\n",
       "      <td>Monthly</td>\n",
       "      <td>658</td>\n",
       "      <td>NaN</td>\n",
       "      <td>Tucson</td>\n",
       "      <td>AZ</td>\n",
       "      <td>32.0810</td>\n",
       "      <td>-111.0958</td>\n",
       "      <td>RentDigs.com</td>\n",
       "      <td>1550846362</td>\n",
       "    </tr>\n",
       "    <tr>\n",
       "      <th>8984</th>\n",
       "      <td>5509097729</td>\n",
       "      <td>housing/rent/apartment</td>\n",
       "      <td>Beautiful Four BR apartment just 5 minute walk...</td>\n",
       "      <td>apartment has 4 beds, family room, dedicated d...</td>\n",
       "      <td>Dishwasher,Patio/Deck,Washer Dryer</td>\n",
       "      <td>1.0</td>\n",
       "      <td>4.0</td>\n",
       "      <td>USD</td>\n",
       "      <td>No</td>\n",
       "      <td>Yes</td>\n",
       "      <td>...</td>\n",
       "      <td>$1,700</td>\n",
       "      <td>Monthly</td>\n",
       "      <td>1750</td>\n",
       "      <td>NaN</td>\n",
       "      <td>Keene</td>\n",
       "      <td>NH</td>\n",
       "      <td>42.9367</td>\n",
       "      <td>-72.2863</td>\n",
       "      <td>RentDigs.com</td>\n",
       "      <td>1568773237</td>\n",
       "    </tr>\n",
       "  </tbody>\n",
       "</table>\n",
       "<p>5 rows × 22 columns</p>\n",
       "</div>"
      ],
      "text/plain": [
       "               id                category  \\\n",
       "77820  5197945367  housing/rent/apartment   \n",
       "19728  5508900805  housing/rent/apartment   \n",
       "59834  5198433409  housing/rent/apartment   \n",
       "63885  5198335228  housing/rent/apartment   \n",
       "8984   5509097729  housing/rent/apartment   \n",
       "\n",
       "                                                   title  \\\n",
       "77820  Apartment in quiet area, spacious with big kit...   \n",
       "19728  Two BR, Two BA, 1,224 sq. ft. - must see to be...   \n",
       "59834      Attractive Two BR, Two BA. Single Car Garage!   \n",
       "63885                              Tucson Value. $670/mo   \n",
       "8984   Beautiful Four BR apartment just 5 minute walk...   \n",
       "\n",
       "                                                    body  \\\n",
       "77820  Welcome to luxurious living and exceptional lo...   \n",
       "19728  Square footage: 1224 square feet, unit number:...   \n",
       "59834  Are you ready for luxurious without the commut...   \n",
       "63885  Price from: 670. Welcome home to Tierra Hills ...   \n",
       "8984   apartment has 4 beds, family room, dedicated d...   \n",
       "\n",
       "                                               amenities  bathrooms  bedrooms  \\\n",
       "77820                                     Fireplace,Pool        1.0       1.0   \n",
       "19728                                           Gym,Pool        2.0       2.0   \n",
       "59834  Dishwasher,Gated,Gym,Parking,Pool,Refrigerator,TV        2.0       2.0   \n",
       "63885  Clubhouse,Dishwasher,Parking,Patio/Deck,Refrig...        1.0       1.0   \n",
       "8984                  Dishwasher,Patio/Deck,Washer Dryer        1.0       4.0   \n",
       "\n",
       "      currency fee  has_photo  ... price_display  price_type square_feet  \\\n",
       "77820      USD  No  Thumbnail  ...        $1,075     Monthly         772   \n",
       "19728      USD  No        Yes  ...        $1,500     Monthly        1224   \n",
       "59834      USD  No        Yes  ...        $1,260     Monthly         848   \n",
       "63885      USD  No  Thumbnail  ...          $670     Monthly         658   \n",
       "8984       USD  No        Yes  ...        $1,700     Monthly        1750   \n",
       "\n",
       "      address      cityname state latitude longitude        source        time  \n",
       "77820     NaN        Frisco    TX  33.1523  -96.8499  RentDigs.com  1550831491  \n",
       "19728     NaN     Kissimmee    FL  28.2966  -81.6162  RentDigs.com  1568760443  \n",
       "59834     NaN  Newport News    VA  36.9886  -76.4202  RentDigs.com  1550851482  \n",
       "63885     NaN        Tucson    AZ  32.0810 -111.0958  RentDigs.com  1550846362  \n",
       "8984      NaN         Keene    NH  42.9367  -72.2863  RentDigs.com  1568773237  \n",
       "\n",
       "[5 rows x 22 columns]"
      ]
     },
     "execution_count": 2,
     "metadata": {},
     "output_type": "execute_result"
    }
   ],
   "source": [
    "# df stores the datset from UCI ML Repo\n",
    "df = pd.read_csv('apartments_for_rent_classified_100K.csv',\n",
    "                 dtype={'address': str}, sep=\";\", encoding='cp1252')\n",
    "df.sample(5)"
   ]
  },
  {
   "cell_type": "markdown",
   "metadata": {},
   "source": [
    "### Data Exploration"
   ]
  },
  {
   "cell_type": "code",
   "execution_count": 3,
   "metadata": {},
   "outputs": [
    {
     "name": "stdout",
     "output_type": "stream",
     "text": [
      "<class 'pandas.core.frame.DataFrame'>\n",
      "RangeIndex: 99492 entries, 0 to 99491\n",
      "Data columns (total 22 columns):\n",
      " #   Column         Non-Null Count  Dtype  \n",
      "---  ------         --------------  -----  \n",
      " 0   id             99492 non-null  int64  \n",
      " 1   category       99492 non-null  object \n",
      " 2   title          99492 non-null  object \n",
      " 3   body           99492 non-null  object \n",
      " 4   amenities      83448 non-null  object \n",
      " 5   bathrooms      99429 non-null  float64\n",
      " 6   bedrooms       99368 non-null  float64\n",
      " 7   currency       99492 non-null  object \n",
      " 8   fee            99492 non-null  object \n",
      " 9   has_photo      99492 non-null  object \n",
      " 10  pets_allowed   39068 non-null  object \n",
      " 11  price          99491 non-null  float64\n",
      " 12  price_display  99491 non-null  object \n",
      " 13  price_type     99492 non-null  object \n",
      " 14  square_feet    99492 non-null  int64  \n",
      " 15  address        7943 non-null   object \n",
      " 16  cityname       99190 non-null  object \n",
      " 17  state          99190 non-null  object \n",
      " 18  latitude       99467 non-null  float64\n",
      " 19  longitude      99467 non-null  float64\n",
      " 20  source         99492 non-null  object \n",
      " 21  time           99492 non-null  int64  \n",
      "dtypes: float64(5), int64(3), object(14)\n",
      "memory usage: 16.7+ MB\n"
     ]
    }
   ],
   "source": [
    "df.info()"
   ]
  },
  {
   "cell_type": "markdown",
   "metadata": {},
   "source": [
    "Some initial issues with the dataset that need to be addressed:\n",
    "- Non-Null counts are not equal between all features\n",
    "- Dropping unncessary columns such as latitude, longitude, etc.\n",
    "- Adjusting the datatype of time to a datetime"
   ]
  },
  {
   "cell_type": "markdown",
   "metadata": {},
   "source": [
    "### Data Cleaning and Preprocessing"
   ]
  },
  {
   "cell_type": "markdown",
   "metadata": {},
   "source": [
    "Start by investigating the columns with the null values which are \n",
    "- amenities\n",
    "- bathrooms\n",
    "- bedrooms\n",
    "- pets_allowed\n",
    "- price\n",
    "- price display\n",
    "- address\n",
    "- cityname\n",
    "- state\n",
    "- latitude\n",
    "- longitude"
   ]
  },
  {
   "cell_type": "code",
   "execution_count": 4,
   "metadata": {},
   "outputs": [
    {
     "data": {
      "text/plain": [
       "id                   0\n",
       "category             0\n",
       "title                0\n",
       "body                 0\n",
       "amenities        16044\n",
       "bathrooms           63\n",
       "bedrooms           124\n",
       "currency             0\n",
       "fee                  0\n",
       "has_photo            0\n",
       "pets_allowed     60424\n",
       "price                1\n",
       "price_display        1\n",
       "price_type           0\n",
       "square_feet          0\n",
       "address          91549\n",
       "cityname           302\n",
       "state              302\n",
       "latitude            25\n",
       "longitude           25\n",
       "source               0\n",
       "time                 0\n",
       "dtype: int64"
      ]
     },
     "execution_count": 4,
     "metadata": {},
     "output_type": "execute_result"
    }
   ],
   "source": [
    "df.isnull().sum()"
   ]
  },
  {
   "cell_type": "code",
   "execution_count": 5,
   "metadata": {},
   "outputs": [
    {
     "data": {
      "text/html": [
       "<div>\n",
       "<style scoped>\n",
       "    .dataframe tbody tr th:only-of-type {\n",
       "        vertical-align: middle;\n",
       "    }\n",
       "\n",
       "    .dataframe tbody tr th {\n",
       "        vertical-align: top;\n",
       "    }\n",
       "\n",
       "    .dataframe thead th {\n",
       "        text-align: right;\n",
       "    }\n",
       "</style>\n",
       "<table border=\"1\" class=\"dataframe\">\n",
       "  <thead>\n",
       "    <tr style=\"text-align: right;\">\n",
       "      <th></th>\n",
       "      <th>currency</th>\n",
       "      <th>fee</th>\n",
       "      <th>price</th>\n",
       "      <th>price_display</th>\n",
       "      <th>price_type</th>\n",
       "    </tr>\n",
       "  </thead>\n",
       "  <tbody>\n",
       "    <tr>\n",
       "      <th>57131</th>\n",
       "      <td>USD</td>\n",
       "      <td>No</td>\n",
       "      <td>2268.0</td>\n",
       "      <td>$2,268</td>\n",
       "      <td>Monthly</td>\n",
       "    </tr>\n",
       "    <tr>\n",
       "      <th>4835</th>\n",
       "      <td>USD</td>\n",
       "      <td>No</td>\n",
       "      <td>1095.0</td>\n",
       "      <td>$1,095</td>\n",
       "      <td>Monthly</td>\n",
       "    </tr>\n",
       "    <tr>\n",
       "      <th>8715</th>\n",
       "      <td>USD</td>\n",
       "      <td>No</td>\n",
       "      <td>1321.0</td>\n",
       "      <td>$1,321</td>\n",
       "      <td>Monthly</td>\n",
       "    </tr>\n",
       "    <tr>\n",
       "      <th>77326</th>\n",
       "      <td>USD</td>\n",
       "      <td>No</td>\n",
       "      <td>675.0</td>\n",
       "      <td>$675</td>\n",
       "      <td>Monthly</td>\n",
       "    </tr>\n",
       "    <tr>\n",
       "      <th>39283</th>\n",
       "      <td>USD</td>\n",
       "      <td>No</td>\n",
       "      <td>1294.0</td>\n",
       "      <td>$1,294</td>\n",
       "      <td>Monthly</td>\n",
       "    </tr>\n",
       "  </tbody>\n",
       "</table>\n",
       "</div>"
      ],
      "text/plain": [
       "      currency fee   price price_display price_type\n",
       "57131      USD  No  2268.0        $2,268    Monthly\n",
       "4835       USD  No  1095.0        $1,095    Monthly\n",
       "8715       USD  No  1321.0        $1,321    Monthly\n",
       "77326      USD  No   675.0          $675    Monthly\n",
       "39283      USD  No  1294.0        $1,294    Monthly"
      ]
     },
     "execution_count": 5,
     "metadata": {},
     "output_type": "execute_result"
    }
   ],
   "source": [
    "df[['currency', 'fee', 'price', 'price_display', 'price_type']].sample(5)"
   ]
  },
  {
   "cell_type": "markdown",
   "metadata": {},
   "source": [
    "As we can see, the price_display is not a helpful column since it's the same as price, but processing this string/numeric datatype will be difficult and is best dropped"
   ]
  },
  {
   "cell_type": "code",
   "execution_count": 6,
   "metadata": {},
   "outputs": [
    {
     "data": {
      "text/plain": [
       "currency       1\n",
       "fee            2\n",
       "price_type     3\n",
       "has_photo      3\n",
       "category       7\n",
       "source        25\n",
       "dtype: int64"
      ]
     },
     "execution_count": 6,
     "metadata": {},
     "output_type": "execute_result"
    }
   ],
   "source": [
    "df[['currency', 'fee', 'price_type',\n",
    "    'has_photo', 'category', 'source']].nunique()"
   ]
  },
  {
   "cell_type": "code",
   "execution_count": 7,
   "metadata": {},
   "outputs": [
    {
     "data": {
      "text/html": [
       "<div>\n",
       "<style scoped>\n",
       "    .dataframe tbody tr th:only-of-type {\n",
       "        vertical-align: middle;\n",
       "    }\n",
       "\n",
       "    .dataframe tbody tr th {\n",
       "        vertical-align: top;\n",
       "    }\n",
       "\n",
       "    .dataframe thead th {\n",
       "        text-align: right;\n",
       "    }\n",
       "</style>\n",
       "<table border=\"1\" class=\"dataframe\">\n",
       "  <thead>\n",
       "    <tr style=\"text-align: right;\">\n",
       "      <th></th>\n",
       "      <th>id</th>\n",
       "      <th>category</th>\n",
       "      <th>title</th>\n",
       "      <th>body</th>\n",
       "      <th>amenities</th>\n",
       "      <th>bathrooms</th>\n",
       "      <th>bedrooms</th>\n",
       "      <th>currency</th>\n",
       "      <th>fee</th>\n",
       "      <th>has_photo</th>\n",
       "      <th>...</th>\n",
       "      <th>price_display</th>\n",
       "      <th>price_type</th>\n",
       "      <th>square_feet</th>\n",
       "      <th>address</th>\n",
       "      <th>cityname</th>\n",
       "      <th>state</th>\n",
       "      <th>latitude</th>\n",
       "      <th>longitude</th>\n",
       "      <th>source</th>\n",
       "      <th>time</th>\n",
       "    </tr>\n",
       "  </thead>\n",
       "  <tbody>\n",
       "    <tr>\n",
       "      <th>30206</th>\n",
       "      <td>5508779866</td>\n",
       "      <td>housing/rent/apartment</td>\n",
       "      <td>Apartment in move in condition in Las Vegas</td>\n",
       "      <td>Square footage: 871 square feet, unit number: ...</td>\n",
       "      <td>Clubhouse,Gym,Pool,TV</td>\n",
       "      <td>1.0</td>\n",
       "      <td>1.0</td>\n",
       "      <td>USD</td>\n",
       "      <td>No</td>\n",
       "      <td>Thumbnail</td>\n",
       "      <td>...</td>\n",
       "      <td>$1,149</td>\n",
       "      <td>Monthly</td>\n",
       "      <td>871</td>\n",
       "      <td>NaN</td>\n",
       "      <td>Las Vegas</td>\n",
       "      <td>NV</td>\n",
       "      <td>36.2811</td>\n",
       "      <td>-115.3036</td>\n",
       "      <td>RentDigs.com</td>\n",
       "      <td>1568751959</td>\n",
       "    </tr>\n",
       "  </tbody>\n",
       "</table>\n",
       "<p>1 rows × 22 columns</p>\n",
       "</div>"
      ],
      "text/plain": [
       "               id                category  \\\n",
       "30206  5508779866  housing/rent/apartment   \n",
       "\n",
       "                                             title  \\\n",
       "30206  Apartment in move in condition in Las Vegas   \n",
       "\n",
       "                                                    body  \\\n",
       "30206  Square footage: 871 square feet, unit number: ...   \n",
       "\n",
       "                   amenities  bathrooms  bedrooms currency fee  has_photo  \\\n",
       "30206  Clubhouse,Gym,Pool,TV        1.0       1.0      USD  No  Thumbnail   \n",
       "\n",
       "       ... price_display  price_type square_feet address   cityname state  \\\n",
       "30206  ...        $1,149     Monthly         871     NaN  Las Vegas    NV   \n",
       "\n",
       "      latitude longitude        source        time  \n",
       "30206  36.2811 -115.3036  RentDigs.com  1568751959  \n",
       "\n",
       "[1 rows x 22 columns]"
      ]
     },
     "execution_count": 7,
     "metadata": {},
     "output_type": "execute_result"
    }
   ],
   "source": [
    "df.sample()"
   ]
  },
  {
   "cell_type": "markdown",
   "metadata": {},
   "source": [
    "There is only one type of currency, so that column isn't helpful since it's only saying all rental prices are in USD. Along with currency and price_display, we will drop:\n",
    "- id: Too many unique identifiers that doesn't provide insightful\n",
    "- title: For this project we will not look at a title of a listing\n",
    "- body: Apartment description, but too inconsistent to gain useful insights\n",
    "- address: There are too many missing addresses, but for the scope of this project we want to know the general location\n",
    "- latitude and longitude: Too hyper-specific of a record that is unncessary"
   ]
  },
  {
   "cell_type": "code",
   "execution_count": 8,
   "metadata": {},
   "outputs": [],
   "source": [
    "# df2 will be the main df analyzed\n",
    "df2 = df.copy().drop(['id',\n",
    "                      'title',\n",
    "                      'body',\n",
    "                      'currency',\n",
    "                      'price_display',\n",
    "                      'address',\n",
    "                      'latitude',\n",
    "                      'longitude'\n",
    "                      ], axis=1)"
   ]
  },
  {
   "cell_type": "markdown",
   "metadata": {},
   "source": [
    "Remaining features will null-values that are kept:\n",
    "- amenities\n",
    "- bathrooms\n",
    "- bedrooms\n",
    "- pets_allowed\n",
    "- price\n",
    "- cityname\n",
    "- state"
   ]
  },
  {
   "cell_type": "code",
   "execution_count": 9,
   "metadata": {},
   "outputs": [
    {
     "data": {
      "text/plain": [
       "category            0\n",
       "amenities       16044\n",
       "bathrooms          63\n",
       "bedrooms          124\n",
       "fee                 0\n",
       "has_photo           0\n",
       "pets_allowed    60424\n",
       "price               1\n",
       "price_type          0\n",
       "square_feet         0\n",
       "cityname          302\n",
       "state             302\n",
       "source              0\n",
       "time                0\n",
       "dtype: int64"
      ]
     },
     "execution_count": 9,
     "metadata": {},
     "output_type": "execute_result"
    }
   ],
   "source": [
    "df2.isnull().sum()"
   ]
  },
  {
   "cell_type": "markdown",
   "metadata": {},
   "source": [
    "Let's take a look at the unique values in each column/columns in question still"
   ]
  },
  {
   "cell_type": "code",
   "execution_count": 10,
   "metadata": {},
   "outputs": [
    {
     "data": {
      "text/plain": [
       "category            7\n",
       "amenities        9827\n",
       "bathrooms          16\n",
       "bedrooms           10\n",
       "fee                 2\n",
       "has_photo           3\n",
       "pets_allowed        4\n",
       "price            3687\n",
       "price_type          3\n",
       "square_feet      2538\n",
       "cityname         2979\n",
       "state              51\n",
       "source             25\n",
       "time            75360\n",
       "dtype: int64"
      ]
     },
     "execution_count": 10,
     "metadata": {},
     "output_type": "execute_result"
    }
   ],
   "source": [
    "df2.nunique()"
   ]
  },
  {
   "cell_type": "markdown",
   "metadata": {},
   "source": [
    "Attributes category, fee, has_photo, pets_allowed, and price_type needs a bit more investigating of the types of values are present"
   ]
  },
  {
   "cell_type": "code",
   "execution_count": 11,
   "metadata": {},
   "outputs": [
    {
     "data": {
      "text/plain": [
       "category                        fee  has_photo  pets_allowed    price_type    \n",
       "housing/rent/apartment          No   Yes        Cats,Dogs       Monthly           19862\n",
       "                                     Thumbnail  Cats,Dogs       Monthly           14694\n",
       "                                     No         Cats,Dogs       Monthly            2474\n",
       "                                     Thumbnail  Cats            Monthly             872\n",
       "                                     Yes        Cats            Monthly             834\n",
       "                                     No         Cats            Monthly             137\n",
       "                                     Thumbnail  Dogs            Monthly             127\n",
       "                                Yes  Thumbnail  Cats,Dogs       Monthly              50\n",
       "                                     No         Cats,Dogs       Monthly               9\n",
       "housing/rent                    No   Yes        Cats,Dogs       Monthly               2\n",
       "housing/rent/home               No   Thumbnail  Cats,Dogs       Monthly               2\n",
       "housing/rent/apartment          No   Thumbnail  Cats,Dogs       Monthly|Weekly        1\n",
       "                                                                Weekly                1\n",
       "                                                Cats,Dogs,None  Monthly               1\n",
       "housing/rent/commercial/retail  No   Thumbnail  Cats,Dogs       Monthly               1\n",
       "housing/rent/short_term         No   Thumbnail  Cats,Dogs       Monthly               1\n",
       "Name: count, dtype: int64"
      ]
     },
     "execution_count": 11,
     "metadata": {},
     "output_type": "execute_result"
    }
   ],
   "source": [
    "df2[['category', 'fee', 'has_photo',\n",
    "     'pets_allowed', 'price_type']].value_counts()"
   ]
  },
  {
   "cell_type": "markdown",
   "metadata": {},
   "source": [
    "From these value counts of these features, the following record will be cleaned out:\n",
    "- pets_allowed should not be Cats,Dogs,None since None doesn't make sense\n",
    "- 'category' should not be only housing/rent since we don't know what type of rental it is\n",
    "- price_type should only be Monthly for the scope of this project/it has the most dominant number of records"
   ]
  },
  {
   "cell_type": "code",
   "execution_count": 12,
   "metadata": {},
   "outputs": [],
   "source": [
    "df2 = df2.loc[df2['pets_allowed'] != 'Cats,Dogs,None']\n",
    "df2 = df2.loc[df2['category'] != 'housing/rent']\n",
    "df2 = df2.loc[df2['price_type'] == 'Monthly']"
   ]
  },
  {
   "cell_type": "markdown",
   "metadata": {},
   "source": [
    "Taking a deeper look at catgory, we only want to focus on housing/rent/apartment for apartment listings only"
   ]
  },
  {
   "cell_type": "code",
   "execution_count": 13,
   "metadata": {},
   "outputs": [
    {
     "data": {
      "text/plain": [
       "category\n",
       "housing/rent/apartment            99426\n",
       "housing/rent/commercial/retail       42\n",
       "housing/rent/home                     4\n",
       "housing/rent/short_term               4\n",
       "housing/rent/condo                    3\n",
       "housing/rent/other                    1\n",
       "Name: count, dtype: int64"
      ]
     },
     "execution_count": 13,
     "metadata": {},
     "output_type": "execute_result"
    }
   ],
   "source": [
    "df2['category'].value_counts()"
   ]
  },
  {
   "cell_type": "code",
   "execution_count": 14,
   "metadata": {},
   "outputs": [],
   "source": [
    "df2 = df2[df2['category'] == 'housing/rent/apartment']"
   ]
  },
  {
   "cell_type": "markdown",
   "metadata": {},
   "source": [
    "Furthermore, price_type now is no longer needed since all records now are considered Monthly"
   ]
  },
  {
   "cell_type": "code",
   "execution_count": 15,
   "metadata": {},
   "outputs": [
    {
     "data": {
      "text/plain": [
       "price_type\n",
       "Monthly    99426\n",
       "Name: count, dtype: int64"
      ]
     },
     "execution_count": 15,
     "metadata": {},
     "output_type": "execute_result"
    }
   ],
   "source": [
    "df2['price_type'].value_counts()"
   ]
  },
  {
   "cell_type": "code",
   "execution_count": 16,
   "metadata": {},
   "outputs": [],
   "source": [
    "df2.drop('price_type', axis=1, inplace=True)"
   ]
  },
  {
   "cell_type": "markdown",
   "metadata": {},
   "source": [
    "Taking another look at the remaining missing entry records"
   ]
  },
  {
   "cell_type": "code",
   "execution_count": 17,
   "metadata": {},
   "outputs": [
    {
     "data": {
      "text/plain": [
       "category            0\n",
       "amenities       16041\n",
       "bathrooms          61\n",
       "bedrooms          123\n",
       "fee                 0\n",
       "has_photo           0\n",
       "pets_allowed    60367\n",
       "price               1\n",
       "square_feet         0\n",
       "cityname          302\n",
       "state             302\n",
       "source              0\n",
       "time                0\n",
       "dtype: int64"
      ]
     },
     "execution_count": 17,
     "metadata": {},
     "output_type": "execute_result"
    }
   ],
   "source": [
    "df2.isnull().sum()"
   ]
  },
  {
   "cell_type": "markdown",
   "metadata": {},
   "source": [
    "We will assume the worst-case for apartments and if the amenities/pets_allowed are missing, then we will list those entries as Not Listed"
   ]
  },
  {
   "cell_type": "code",
   "execution_count": 18,
   "metadata": {},
   "outputs": [],
   "source": [
    "df2['amenities'] = df2['amenities'].fillna('Not Listed')\n",
    "df2['pets_allowed'] = df2['pets_allowed'].fillna('Not Listed')"
   ]
  },
  {
   "cell_type": "markdown",
   "metadata": {},
   "source": [
    "For the rest of the missing entries for bathrooms, bedrooms, price, cityname, and state, we will drop them since those are too critical to make any assumptions to fill the missing entries"
   ]
  },
  {
   "cell_type": "code",
   "execution_count": 19,
   "metadata": {},
   "outputs": [
    {
     "data": {
      "text/plain": [
       "category        0\n",
       "amenities       0\n",
       "bathrooms       0\n",
       "bedrooms        0\n",
       "fee             0\n",
       "has_photo       0\n",
       "pets_allowed    0\n",
       "price           0\n",
       "square_feet     0\n",
       "cityname        0\n",
       "state           0\n",
       "source          0\n",
       "time            0\n",
       "dtype: int64"
      ]
     },
     "execution_count": 19,
     "metadata": {},
     "output_type": "execute_result"
    }
   ],
   "source": [
    "df2.dropna(inplace=True)\n",
    "df2.isnull().sum()"
   ]
  },
  {
   "cell_type": "markdown",
   "metadata": {},
   "source": [
    "Checking for duplicated data, there are several records, so we will drop them"
   ]
  },
  {
   "cell_type": "code",
   "execution_count": 20,
   "metadata": {},
   "outputs": [
    {
     "data": {
      "text/plain": [
       "130"
      ]
     },
     "execution_count": 20,
     "metadata": {},
     "output_type": "execute_result"
    }
   ],
   "source": [
    "df2.duplicated().sum()"
   ]
  },
  {
   "cell_type": "code",
   "execution_count": 21,
   "metadata": {},
   "outputs": [
    {
     "data": {
      "text/plain": [
       "0"
      ]
     },
     "execution_count": 21,
     "metadata": {},
     "output_type": "execute_result"
    }
   ],
   "source": [
    "df2.drop_duplicates(inplace=True)\n",
    "df2.duplicated().sum()"
   ]
  },
  {
   "cell_type": "markdown",
   "metadata": {},
   "source": [
    "After the clean up, we still have a decent amount of our data remaining which is about ~98.81 % of it"
   ]
  },
  {
   "cell_type": "code",
   "execution_count": 22,
   "metadata": {},
   "outputs": [
    {
     "data": {
      "text/plain": [
       "98.81"
      ]
     },
     "execution_count": 22,
     "metadata": {},
     "output_type": "execute_result"
    }
   ],
   "source": [
    "round((len(df2)/100000)*100, 2)"
   ]
  },
  {
   "cell_type": "markdown",
   "metadata": {},
   "source": [
    "### Feature Engineering"
   ]
  },
  {
   "cell_type": "markdown",
   "metadata": {},
   "source": [
    "fee, has_photo, and pets_allowed are features that are deemed to be more boolean/boolean-like"
   ]
  },
  {
   "cell_type": "code",
   "execution_count": 23,
   "metadata": {},
   "outputs": [
    {
     "data": {
      "text/plain": [
       "fee  has_photo  pets_allowed\n",
       "No   Yes        Not Listed      35026\n",
       "                Cats,Dogs       19772\n",
       "     Thumbnail  Not Listed      18255\n",
       "                Cats,Dogs       14594\n",
       "     No         Not Listed       6558\n",
       "                Cats,Dogs        2455\n",
       "     Thumbnail  Cats              866\n",
       "     Yes        Cats              828\n",
       "     No         Cats              137\n",
       "     Thumbnail  Dogs              126\n",
       "Yes  Thumbnail  Not Listed        117\n",
       "                Cats,Dogs          48\n",
       "     Yes        Not Listed         18\n",
       "     No         Cats,Dogs           9\n",
       "                Not Listed          4\n",
       "Name: count, dtype: int64"
      ]
     },
     "execution_count": 23,
     "metadata": {},
     "output_type": "execute_result"
    }
   ],
   "source": [
    "df2[['fee', 'has_photo', 'pets_allowed']].value_counts()"
   ]
  },
  {
   "cell_type": "markdown",
   "metadata": {},
   "source": [
    "These features will be converted into new columns that are boolean in nature"
   ]
  },
  {
   "cell_type": "code",
   "execution_count": 24,
   "metadata": {},
   "outputs": [],
   "source": [
    "df2['Has Photo'] = df2['has_photo'].apply(lambda x: x == 'Yes' or\n",
    "                                          x == 'Thumbnail')\n",
    "df2['Pet Listed'] = df2['pets_allowed'].apply(lambda x: x != 'Not Listed')\n",
    "df2['Fee'] = df2['fee'].apply(lambda x: x == 'Yes')\n",
    "df2 = df2.drop(['category', 'fee', 'has_photo', 'pets_allowed'], axis=1)"
   ]
  },
  {
   "cell_type": "markdown",
   "metadata": {},
   "source": [
    "Now taking a look at the time attribute, we can see that this is not readable in its current form"
   ]
  },
  {
   "cell_type": "code",
   "execution_count": 25,
   "metadata": {},
   "outputs": [
    {
     "data": {
      "text/plain": [
       "11114    1568758206\n",
       "8900     1568776254\n",
       "78031    1550827320\n",
       "91585    1544213802\n",
       "19352    1568772886\n",
       "Name: time, dtype: int64"
      ]
     },
     "execution_count": 25,
     "metadata": {},
     "output_type": "execute_result"
    }
   ],
   "source": [
    "df2['time'].sample(5)"
   ]
  },
  {
   "cell_type": "markdown",
   "metadata": {},
   "source": [
    "A new column Date Time be generated to convert the time column into a year-month-day format. We will then drop the old time column"
   ]
  },
  {
   "cell_type": "code",
   "execution_count": 26,
   "metadata": {},
   "outputs": [],
   "source": [
    "df2['Date Time'] = pd.to_datetime(df2['time'], unit='s', origin='1960-1-1')"
   ]
  },
  {
   "cell_type": "code",
   "execution_count": 27,
   "metadata": {},
   "outputs": [
    {
     "data": {
      "text/plain": [
       "80147   2009-02-21 16:35:42\n",
       "53379   2009-02-21 15:26:32\n",
       "85110   2008-12-06 16:04:15\n",
       "41243   2009-09-16 21:56:36\n",
       "45625   2009-09-16 19:45:47\n",
       "Name: Date Time, dtype: datetime64[ns]"
      ]
     },
     "execution_count": 27,
     "metadata": {},
     "output_type": "execute_result"
    }
   ],
   "source": [
    "df2.drop(['time'], axis=1, inplace=True)\n",
    "df2['Date Time'].sample(5)"
   ]
  },
  {
   "cell_type": "code",
   "execution_count": 28,
   "metadata": {},
   "outputs": [
    {
     "data": {
      "text/plain": [
       "(Timestamp('2008-12-06 09:20:18'), Timestamp('2009-12-25 20:17:05'))"
      ]
     },
     "execution_count": 28,
     "metadata": {},
     "output_type": "execute_result"
    }
   ],
   "source": [
    "df2['Date Time'].min(), df2['Date Time'].max()"
   ]
  },
  {
   "cell_type": "markdown",
   "metadata": {},
   "source": [
    "Features remaining will be renamed for better readability"
   ]
  },
  {
   "cell_type": "code",
   "execution_count": 29,
   "metadata": {},
   "outputs": [],
   "source": [
    "%pycodestyle_off\n",
    "df2.rename(columns={'amenities':'Amenities',\n",
    "                    'bathrooms': 'Bathrooms',\n",
    "                    'bedrooms': 'Bedrooms',\n",
    "                    'price': 'Price ($)',\n",
    "                    'square_feet': 'Square Footage',\n",
    "                    'cityname': 'City',\n",
    "                    'state':'State',\n",
    "                    'source': 'Source'\n",
    "                    }, inplace=True)\n",
    "%pycodestyle_on"
   ]
  },
  {
   "cell_type": "markdown",
   "metadata": {},
   "source": [
    "The index now is all over the place and needs to be reset"
   ]
  },
  {
   "cell_type": "code",
   "execution_count": 30,
   "metadata": {},
   "outputs": [
    {
     "data": {
      "text/html": [
       "<div>\n",
       "<style scoped>\n",
       "    .dataframe tbody tr th:only-of-type {\n",
       "        vertical-align: middle;\n",
       "    }\n",
       "\n",
       "    .dataframe tbody tr th {\n",
       "        vertical-align: top;\n",
       "    }\n",
       "\n",
       "    .dataframe thead th {\n",
       "        text-align: right;\n",
       "    }\n",
       "</style>\n",
       "<table border=\"1\" class=\"dataframe\">\n",
       "  <thead>\n",
       "    <tr style=\"text-align: right;\">\n",
       "      <th></th>\n",
       "      <th>Amenities</th>\n",
       "      <th>Bathrooms</th>\n",
       "      <th>Bedrooms</th>\n",
       "      <th>Price ($)</th>\n",
       "      <th>Square Footage</th>\n",
       "      <th>City</th>\n",
       "      <th>State</th>\n",
       "      <th>Source</th>\n",
       "      <th>Has Photo</th>\n",
       "      <th>Pet Listed</th>\n",
       "      <th>Fee</th>\n",
       "      <th>Date Time</th>\n",
       "    </tr>\n",
       "  </thead>\n",
       "  <tbody>\n",
       "    <tr>\n",
       "      <th>22668</th>\n",
       "      <td>Gated,Parking,Patio/Deck,Storage,Washer Dryer</td>\n",
       "      <td>1.0</td>\n",
       "      <td>1.0</td>\n",
       "      <td>2965.0</td>\n",
       "      <td>1077</td>\n",
       "      <td>Los Angeles</td>\n",
       "      <td>CA</td>\n",
       "      <td>RentDigs.com</td>\n",
       "      <td>True</td>\n",
       "      <td>False</td>\n",
       "      <td>False</td>\n",
       "      <td>2009-09-16 21:03:40</td>\n",
       "    </tr>\n",
       "    <tr>\n",
       "      <th>2635</th>\n",
       "      <td>Dishwasher,Garbage Disposal,Parking,Pool,Refri...</td>\n",
       "      <td>1.0</td>\n",
       "      <td>1.0</td>\n",
       "      <td>849.0</td>\n",
       "      <td>714</td>\n",
       "      <td>Houston</td>\n",
       "      <td>TX</td>\n",
       "      <td>RentLingo</td>\n",
       "      <td>True</td>\n",
       "      <td>True</td>\n",
       "      <td>False</td>\n",
       "      <td>2009-12-25 11:04:08</td>\n",
       "    </tr>\n",
       "    <tr>\n",
       "      <th>43121</th>\n",
       "      <td>Not Listed</td>\n",
       "      <td>1.0</td>\n",
       "      <td>1.0</td>\n",
       "      <td>595.0</td>\n",
       "      <td>558</td>\n",
       "      <td>Dallas</td>\n",
       "      <td>TX</td>\n",
       "      <td>RentDigs.com</td>\n",
       "      <td>True</td>\n",
       "      <td>False</td>\n",
       "      <td>False</td>\n",
       "      <td>2009-09-16 22:22:45</td>\n",
       "    </tr>\n",
       "    <tr>\n",
       "      <th>38565</th>\n",
       "      <td>Pool</td>\n",
       "      <td>1.0</td>\n",
       "      <td>1.0</td>\n",
       "      <td>1659.0</td>\n",
       "      <td>710</td>\n",
       "      <td>Chapel Hill</td>\n",
       "      <td>NC</td>\n",
       "      <td>RentDigs.com</td>\n",
       "      <td>True</td>\n",
       "      <td>False</td>\n",
       "      <td>False</td>\n",
       "      <td>2009-09-16 22:08:28</td>\n",
       "    </tr>\n",
       "    <tr>\n",
       "      <th>91571</th>\n",
       "      <td>Gym,Pool</td>\n",
       "      <td>2.5</td>\n",
       "      <td>2.0</td>\n",
       "      <td>2312.0</td>\n",
       "      <td>1335</td>\n",
       "      <td>Laurel</td>\n",
       "      <td>MD</td>\n",
       "      <td>RentDigs.com</td>\n",
       "      <td>True</td>\n",
       "      <td>True</td>\n",
       "      <td>False</td>\n",
       "      <td>2008-12-06 21:28:59</td>\n",
       "    </tr>\n",
       "  </tbody>\n",
       "</table>\n",
       "</div>"
      ],
      "text/plain": [
       "                                               Amenities  Bathrooms  Bedrooms  \\\n",
       "22668      Gated,Parking,Patio/Deck,Storage,Washer Dryer        1.0       1.0   \n",
       "2635   Dishwasher,Garbage Disposal,Parking,Pool,Refri...        1.0       1.0   \n",
       "43121                                         Not Listed        1.0       1.0   \n",
       "38565                                               Pool        1.0       1.0   \n",
       "91571                                           Gym,Pool        2.5       2.0   \n",
       "\n",
       "       Price ($)  Square Footage         City State        Source  Has Photo  \\\n",
       "22668     2965.0            1077  Los Angeles    CA  RentDigs.com       True   \n",
       "2635       849.0             714      Houston    TX     RentLingo       True   \n",
       "43121      595.0             558       Dallas    TX  RentDigs.com       True   \n",
       "38565     1659.0             710  Chapel Hill    NC  RentDigs.com       True   \n",
       "91571     2312.0            1335       Laurel    MD  RentDigs.com       True   \n",
       "\n",
       "       Pet Listed    Fee           Date Time  \n",
       "22668       False  False 2009-09-16 21:03:40  \n",
       "2635         True  False 2009-12-25 11:04:08  \n",
       "43121       False  False 2009-09-16 22:22:45  \n",
       "38565       False  False 2009-09-16 22:08:28  \n",
       "91571        True  False 2008-12-06 21:28:59  "
      ]
     },
     "execution_count": 30,
     "metadata": {},
     "output_type": "execute_result"
    }
   ],
   "source": [
    "df2.sample(5)"
   ]
  },
  {
   "cell_type": "code",
   "execution_count": 31,
   "metadata": {},
   "outputs": [],
   "source": [
    "df2.reset_index(inplace=True)"
   ]
  },
  {
   "cell_type": "markdown",
   "metadata": {},
   "source": [
    "From the data wrangling and feature engineering, our dataset is now ready to be analyzed"
   ]
  },
  {
   "cell_type": "code",
   "execution_count": 32,
   "metadata": {},
   "outputs": [
    {
     "name": "stdout",
     "output_type": "stream",
     "text": [
      "<class 'pandas.core.frame.DataFrame'>\n",
      "RangeIndex: 98813 entries, 0 to 98812\n",
      "Data columns (total 13 columns):\n",
      " #   Column          Non-Null Count  Dtype         \n",
      "---  ------          --------------  -----         \n",
      " 0   index           98813 non-null  int64         \n",
      " 1   Amenities       98813 non-null  object        \n",
      " 2   Bathrooms       98813 non-null  float64       \n",
      " 3   Bedrooms        98813 non-null  float64       \n",
      " 4   Price ($)       98813 non-null  float64       \n",
      " 5   Square Footage  98813 non-null  int64         \n",
      " 6   City            98813 non-null  object        \n",
      " 7   State           98813 non-null  object        \n",
      " 8   Source          98813 non-null  object        \n",
      " 9   Has Photo       98813 non-null  bool          \n",
      " 10  Pet Listed      98813 non-null  bool          \n",
      " 11  Fee             98813 non-null  bool          \n",
      " 12  Date Time       98813 non-null  datetime64[ns]\n",
      "dtypes: bool(3), datetime64[ns](1), float64(3), int64(2), object(4)\n",
      "memory usage: 7.8+ MB\n"
     ]
    }
   ],
   "source": [
    "df2.info()"
   ]
  },
  {
   "cell_type": "markdown",
   "metadata": {},
   "source": [
    "-------------------------"
   ]
  },
  {
   "cell_type": "markdown",
   "metadata": {},
   "source": [
    "## Data Modeling and Analysis"
   ]
  },
  {
   "cell_type": "markdown",
   "metadata": {},
   "source": [
    "### Questions Using Defined Functions"
   ]
  },
  {
   "cell_type": "markdown",
   "metadata": {},
   "source": [
    "#### 1) What are the cities with the highest and lowest rents?"
   ]
  },
  {
   "cell_type": "code",
   "execution_count": 33,
   "metadata": {},
   "outputs": [],
   "source": [
    "def maxminrent(data):\n",
    "    \"\"\"Takes a dataframe and displays cities\n",
    "       with highest and lowest rent\n",
    "\n",
    "       Args:\n",
    "           data (pandas dataframe): datframe with a Price ($)\n",
    "\n",
    "       Returns:\n",
    "           max, min (int): city with the highest rent and lowest rent\n",
    "    \"\"\"\n",
    "    # df stores a copy of data\n",
    "    df = data.copy()\n",
    "    df['CS'] = df.apply(lambda x: x['City'] + ', ' + x['State'], axis=1)\n",
    "    # max stores the max rent and the city\n",
    "    max = [df.groupby(df['CS'])['Price ($)'].mean().idxmax(),\n",
    "           df.groupby(df['CS'])['Price ($)'].mean().max()]\n",
    "    # min stores the minimum rent and the city\n",
    "    min = [df.groupby(df['CS'])['Price ($)'].mean().idxmin(),\n",
    "           df.groupby(df['CS'])['Price ($)'].mean().min()]\n",
    "    return max, min"
   ]
  },
  {
   "cell_type": "code",
   "execution_count": 34,
   "metadata": {},
   "outputs": [
    {
     "name": "stdout",
     "output_type": "stream",
     "text": [
      "City with highest monthly rent is Snowmass Village, CO of $30000.00\n",
      "City with lowest monthly rent is Mount Airy, MD of $200.00\n"
     ]
    }
   ],
   "source": [
    "# mm stores maxminrent returns of df2\n",
    "mm = maxminrent(df2)\n",
    "print(f'City with highest monthly rent is {mm[0][0]} of ${mm[0][1]:0.2f}')\n",
    "print(f'City with lowest monthly rent is {mm[1][0]} of ${mm[1][1]:0.2f}')"
   ]
  },
  {
   "cell_type": "markdown",
   "metadata": {},
   "source": [
    "#### 2) What are the details of the apartments that has the most and least amenities?"
   ]
  },
  {
   "cell_type": "code",
   "execution_count": 35,
   "metadata": {},
   "outputs": [],
   "source": [
    "def ammaxmin(data):\n",
    "    \"\"\"Apartment details with the least and most amenities\n",
    "       (the first occurences of the value)\n",
    "\n",
    "    Args:\n",
    "        data (pandas dataframe): dataframe with an amenities column\n",
    "\n",
    "    Returns:\n",
    "        data index: pandas iloc of aprtment with least and most amenities\n",
    "    \"\"\"\n",
    "    # df is a copy of data\n",
    "    df = data.copy()\n",
    "    df['Total Amenities'] = df['Amenities'].apply(lambda x: len(x.split(','))\n",
    "                                                  if x != 'Not Listed' else 0)\n",
    "    return (df.iloc[df['Total Amenities'].argmax()],\n",
    "            df.iloc[df['Total Amenities'].argmin()])"
   ]
  },
  {
   "cell_type": "code",
   "execution_count": 36,
   "metadata": {},
   "outputs": [
    {
     "name": "stdout",
     "output_type": "stream",
     "text": [
      "Apartment with most amenities:\n"
     ]
    },
    {
     "data": {
      "text/plain": [
       "index                                                           7697\n",
       "Amenities          AC,Cable or Satellite,Clubhouse,Dishwasher,Fir...\n",
       "Bathrooms                                                        2.0\n",
       "Bedrooms                                                         3.0\n",
       "Price ($)                                                     1420.0\n",
       "Square Footage                                                  1155\n",
       "City                                                       Las Vegas\n",
       "State                                                             NV\n",
       "Source                                                  RentDigs.com\n",
       "Has Photo                                                       True\n",
       "Pet Listed                                                     False\n",
       "Fee                                                            False\n",
       "Date Time                                        2009-09-16 18:48:25\n",
       "Total Amenities                                                   18\n",
       "Name: 7570, dtype: object"
      ]
     },
     "execution_count": 36,
     "metadata": {},
     "output_type": "execute_result"
    }
   ],
   "source": [
    "print('Apartment with most amenities:')\n",
    "ammaxmin(df2)[0]"
   ]
  },
  {
   "cell_type": "code",
   "execution_count": 37,
   "metadata": {},
   "outputs": [
    {
     "name": "stdout",
     "output_type": "stream",
     "text": [
      "Apartment with least amenities:\n"
     ]
    },
    {
     "data": {
      "text/plain": [
       "index                                0\n",
       "Amenities                   Not Listed\n",
       "Bathrooms                          1.0\n",
       "Bedrooms                           1.0\n",
       "Price ($)                       2195.0\n",
       "Square Footage                     542\n",
       "City                     Redondo Beach\n",
       "State                               CA\n",
       "Source                       RentLingo\n",
       "Has Photo                         True\n",
       "Pet Listed                        True\n",
       "Fee                              False\n",
       "Date Time          2009-12-25 11:39:15\n",
       "Total Amenities                      0\n",
       "Name: 0, dtype: object"
      ]
     },
     "execution_count": 37,
     "metadata": {},
     "output_type": "execute_result"
    }
   ],
   "source": [
    "print('Apartment with least amenities:')\n",
    "ammaxmin(df2)[1]"
   ]
  },
  {
   "cell_type": "markdown",
   "metadata": {},
   "source": [
    "#### 3) What is the average number of bedrooms and bathrooms in California?"
   ]
  },
  {
   "cell_type": "code",
   "execution_count": 38,
   "metadata": {},
   "outputs": [],
   "source": [
    "def bavg(data, state):\n",
    "    \"\"\"Takes a dataframe and state and calculates average number\n",
    "       of bedrooms and bathrooms for apartment records\n",
    "\n",
    "    Args:\n",
    "        data (pandas dataframe): dataframe with a 'State'\n",
    "        state (str): capitalized two letter abbrev or US State\n",
    "\n",
    "    Returns:\n",
    "        tuple: bedroom and bathroom average\n",
    "    \"\"\"\n",
    "    # df stores a copy of data\n",
    "    df = data.copy()\n",
    "    # bdavg stores average number of bedrooms\n",
    "    bdavg = df.groupby('State')['Bedrooms'].mean().round(2)\n",
    "    # baavg stores average number of bathrooms\n",
    "    baavg = df.groupby('State')['Bathrooms'].mean().round(2)\n",
    "    return bdavg[state], baavg[state]"
   ]
  },
  {
   "cell_type": "code",
   "execution_count": 39,
   "metadata": {},
   "outputs": [
    {
     "name": "stdout",
     "output_type": "stream",
     "text": [
      "The average number of bedrooms in California is 1.66\n",
      "The average number of bathrooms in California is 1.46\n"
     ]
    }
   ],
   "source": [
    "# bv stores bavg for California\n",
    "bv = bavg(df2, 'CA')\n",
    "print(f'The average number of bedrooms in California is {bv[0]}')\n",
    "print(f'The average number of bathrooms in California is {bv[1]}')"
   ]
  },
  {
   "cell_type": "markdown",
   "metadata": {},
   "source": [
    "#### 4) What are the top 10 cities in California greatest number of properties that are $2000 or less?"
   ]
  },
  {
   "cell_type": "code",
   "execution_count": 40,
   "metadata": {},
   "outputs": [],
   "source": [
    "def numrent(data, rent, state):\n",
    "    \"\"\"Given rent and state, will provide top 10 cities\n",
    "       with highest record counts in criteria\n",
    "\n",
    "    Args:\n",
    "        data (pandas dataframe): data frame with Price ($) and State\n",
    "        rent (float or int): max rent value\n",
    "        state (str): Two letter abbreviation of US state\n",
    "\n",
    "    Returns:\n",
    "        pandas series:top 10 city counts\n",
    "    \"\"\"\n",
    "    # df stores a copy of data and masking\n",
    "    df = data.copy()\n",
    "    df = df.loc[df['Price ($)'] <= rent]\n",
    "    # grouped stores the remaining cities due to mask and top top of them\n",
    "    grouped = df.groupby([df['State'], df['City']]).size()\n",
    "    # gdf stores dataframe of grouped\n",
    "    gdf = pd.DataFrame(grouped[state].nlargest(10)).reset_index()\n",
    "    gdf.rename(columns={0: 'Total Records'}, inplace=True)\n",
    "    return gdf"
   ]
  },
  {
   "cell_type": "code",
   "execution_count": 41,
   "metadata": {},
   "outputs": [
    {
     "name": "stdout",
     "output_type": "stream",
     "text": [
      "The Top 10 Cities in California are:\n"
     ]
    },
    {
     "data": {
      "text/html": [
       "<div>\n",
       "<style scoped>\n",
       "    .dataframe tbody tr th:only-of-type {\n",
       "        vertical-align: middle;\n",
       "    }\n",
       "\n",
       "    .dataframe tbody tr th {\n",
       "        vertical-align: top;\n",
       "    }\n",
       "\n",
       "    .dataframe thead th {\n",
       "        text-align: right;\n",
       "    }\n",
       "</style>\n",
       "<table border=\"1\" class=\"dataframe\">\n",
       "  <thead>\n",
       "    <tr style=\"text-align: right;\">\n",
       "      <th></th>\n",
       "      <th>City</th>\n",
       "      <th>Total Records</th>\n",
       "    </tr>\n",
       "  </thead>\n",
       "  <tbody>\n",
       "    <tr>\n",
       "      <th>0</th>\n",
       "      <td>Los Angeles</td>\n",
       "      <td>480</td>\n",
       "    </tr>\n",
       "    <tr>\n",
       "      <th>1</th>\n",
       "      <td>Sacramento</td>\n",
       "      <td>292</td>\n",
       "    </tr>\n",
       "    <tr>\n",
       "      <th>2</th>\n",
       "      <td>Long Beach</td>\n",
       "      <td>225</td>\n",
       "    </tr>\n",
       "    <tr>\n",
       "      <th>3</th>\n",
       "      <td>San Diego</td>\n",
       "      <td>190</td>\n",
       "    </tr>\n",
       "    <tr>\n",
       "      <th>4</th>\n",
       "      <td>Riverside</td>\n",
       "      <td>182</td>\n",
       "    </tr>\n",
       "    <tr>\n",
       "      <th>5</th>\n",
       "      <td>Moreno Valley</td>\n",
       "      <td>121</td>\n",
       "    </tr>\n",
       "    <tr>\n",
       "      <th>6</th>\n",
       "      <td>San Bernardino</td>\n",
       "      <td>89</td>\n",
       "    </tr>\n",
       "    <tr>\n",
       "      <th>7</th>\n",
       "      <td>Irvine</td>\n",
       "      <td>67</td>\n",
       "    </tr>\n",
       "    <tr>\n",
       "      <th>8</th>\n",
       "      <td>Victorville</td>\n",
       "      <td>66</td>\n",
       "    </tr>\n",
       "    <tr>\n",
       "      <th>9</th>\n",
       "      <td>Palm Springs</td>\n",
       "      <td>63</td>\n",
       "    </tr>\n",
       "  </tbody>\n",
       "</table>\n",
       "</div>"
      ],
      "text/plain": [
       "             City  Total Records\n",
       "0     Los Angeles            480\n",
       "1      Sacramento            292\n",
       "2      Long Beach            225\n",
       "3       San Diego            190\n",
       "4       Riverside            182\n",
       "5   Moreno Valley            121\n",
       "6  San Bernardino             89\n",
       "7          Irvine             67\n",
       "8     Victorville             66\n",
       "9    Palm Springs             63"
      ]
     },
     "execution_count": 41,
     "metadata": {},
     "output_type": "execute_result"
    }
   ],
   "source": [
    "print('The Top 10 Cities in California are:')\n",
    "numrent(df2, 2000, 'CA')"
   ]
  },
  {
   "cell_type": "markdown",
   "metadata": {},
   "source": [
    "#### 5) What are the cities with the most/least optimal SqFt per Dollar in Washington?"
   ]
  },
  {
   "cell_type": "code",
   "execution_count": 42,
   "metadata": {},
   "outputs": [],
   "source": [
    "def optsqft(data, state):\n",
    "    \"\"\"Given a state, provides SqFt/$ calculation or best and worst city\n",
    "\n",
    "    Args:\n",
    "        data (pandas dataframe): dataframe with State,\n",
    "                                 Square Footage, and Price ($)\n",
    "        state (str): Two letter abbreviation of US State\n",
    "\n",
    "    Returns:\n",
    "        tuple: max/min calculations with cities for SqFt/$\n",
    "    \"\"\"\n",
    "    # df stores a copy of data\n",
    "    df = data.copy()\n",
    "    df['SqFt per $'] = df.apply(lambda x:\n",
    "                                x['Square Footage'] / x['Price ($)'], axis=1)\n",
    "    # sqdol stores groupby for average SqFt/$ of each city and state mask\n",
    "    sqdol = df.groupby([df['State'], df['City']])['SqFt per $'].mean()\n",
    "    return ([sqdol[state].idxmax(), sqdol[state].max().round(2)],\n",
    "            [sqdol[state].idxmin(), sqdol[state].min().round(2)])"
   ]
  },
  {
   "cell_type": "code",
   "execution_count": 43,
   "metadata": {},
   "outputs": [
    {
     "name": "stdout",
     "output_type": "stream",
     "text": [
      "In Washington, Freeland has the most optimal SqFt/$ of 1.19\n",
      "In Washington, Seatac has the least optimal SqFt/$ of 0.30\n"
     ]
    }
   ],
   "source": [
    "# os stores return of optsqft of WA\n",
    "os = optsqft(df2, 'WA')\n",
    "print(f'In Washington, {os[0][0]}'\n",
    "      f' has the most optimal SqFt/$ of {os[0][1]:0.2f}')\n",
    "print(f'In Washington, {os[1][0]}'\n",
    "      f' has the least optimal SqFt/$ of {os[1][1]:0.2f}')"
   ]
  },
  {
   "cell_type": "markdown",
   "metadata": {},
   "source": [
    "### Pandas and NumPy Utilization"
   ]
  },
  {
   "cell_type": "markdown",
   "metadata": {},
   "source": [
    "#### 6) What is the average rent by state alphabetically?"
   ]
  },
  {
   "cell_type": "code",
   "execution_count": 44,
   "metadata": {},
   "outputs": [
    {
     "name": "stdout",
     "output_type": "stream",
     "text": [
      "First Half of States:\n"
     ]
    },
    {
     "data": {
      "text/html": [
       "<div>\n",
       "<style scoped>\n",
       "    .dataframe tbody tr th:only-of-type {\n",
       "        vertical-align: middle;\n",
       "    }\n",
       "\n",
       "    .dataframe tbody tr th {\n",
       "        vertical-align: top;\n",
       "    }\n",
       "\n",
       "    .dataframe thead th {\n",
       "        text-align: right;\n",
       "    }\n",
       "</style>\n",
       "<table border=\"1\" class=\"dataframe\">\n",
       "  <thead>\n",
       "    <tr style=\"text-align: right;\">\n",
       "      <th></th>\n",
       "      <th>State</th>\n",
       "      <th>Price ($)</th>\n",
       "    </tr>\n",
       "  </thead>\n",
       "  <tbody>\n",
       "    <tr>\n",
       "      <th>0</th>\n",
       "      <td>AK</td>\n",
       "      <td>1054.28</td>\n",
       "    </tr>\n",
       "    <tr>\n",
       "      <th>1</th>\n",
       "      <td>AL</td>\n",
       "      <td>962.18</td>\n",
       "    </tr>\n",
       "    <tr>\n",
       "      <th>2</th>\n",
       "      <td>AR</td>\n",
       "      <td>874.04</td>\n",
       "    </tr>\n",
       "    <tr>\n",
       "      <th>3</th>\n",
       "      <td>AZ</td>\n",
       "      <td>1119.38</td>\n",
       "    </tr>\n",
       "    <tr>\n",
       "      <th>4</th>\n",
       "      <td>CA</td>\n",
       "      <td>2465.98</td>\n",
       "    </tr>\n",
       "    <tr>\n",
       "      <th>5</th>\n",
       "      <td>CO</td>\n",
       "      <td>1555.35</td>\n",
       "    </tr>\n",
       "    <tr>\n",
       "      <th>6</th>\n",
       "      <td>CT</td>\n",
       "      <td>1268.34</td>\n",
       "    </tr>\n",
       "    <tr>\n",
       "      <th>7</th>\n",
       "      <td>DC</td>\n",
       "      <td>2226.80</td>\n",
       "    </tr>\n",
       "    <tr>\n",
       "      <th>8</th>\n",
       "      <td>DE</td>\n",
       "      <td>1154.86</td>\n",
       "    </tr>\n",
       "    <tr>\n",
       "      <th>9</th>\n",
       "      <td>FL</td>\n",
       "      <td>1575.07</td>\n",
       "    </tr>\n",
       "    <tr>\n",
       "      <th>10</th>\n",
       "      <td>GA</td>\n",
       "      <td>1350.97</td>\n",
       "    </tr>\n",
       "    <tr>\n",
       "      <th>11</th>\n",
       "      <td>HI</td>\n",
       "      <td>2729.19</td>\n",
       "    </tr>\n",
       "    <tr>\n",
       "      <th>12</th>\n",
       "      <td>IA</td>\n",
       "      <td>950.21</td>\n",
       "    </tr>\n",
       "    <tr>\n",
       "      <th>13</th>\n",
       "      <td>ID</td>\n",
       "      <td>1122.32</td>\n",
       "    </tr>\n",
       "    <tr>\n",
       "      <th>14</th>\n",
       "      <td>IL</td>\n",
       "      <td>1487.93</td>\n",
       "    </tr>\n",
       "    <tr>\n",
       "      <th>15</th>\n",
       "      <td>IN</td>\n",
       "      <td>1017.18</td>\n",
       "    </tr>\n",
       "    <tr>\n",
       "      <th>16</th>\n",
       "      <td>KS</td>\n",
       "      <td>923.35</td>\n",
       "    </tr>\n",
       "    <tr>\n",
       "      <th>17</th>\n",
       "      <td>KY</td>\n",
       "      <td>989.99</td>\n",
       "    </tr>\n",
       "    <tr>\n",
       "      <th>18</th>\n",
       "      <td>LA</td>\n",
       "      <td>1026.38</td>\n",
       "    </tr>\n",
       "    <tr>\n",
       "      <th>19</th>\n",
       "      <td>MA</td>\n",
       "      <td>2192.04</td>\n",
       "    </tr>\n",
       "    <tr>\n",
       "      <th>20</th>\n",
       "      <td>MD</td>\n",
       "      <td>1645.34</td>\n",
       "    </tr>\n",
       "    <tr>\n",
       "      <th>21</th>\n",
       "      <td>ME</td>\n",
       "      <td>1250.83</td>\n",
       "    </tr>\n",
       "    <tr>\n",
       "      <th>22</th>\n",
       "      <td>MI</td>\n",
       "      <td>1198.06</td>\n",
       "    </tr>\n",
       "    <tr>\n",
       "      <th>23</th>\n",
       "      <td>MN</td>\n",
       "      <td>1390.32</td>\n",
       "    </tr>\n",
       "    <tr>\n",
       "      <th>24</th>\n",
       "      <td>MO</td>\n",
       "      <td>1048.97</td>\n",
       "    </tr>\n",
       "    <tr>\n",
       "      <th>25</th>\n",
       "      <td>MS</td>\n",
       "      <td>874.16</td>\n",
       "    </tr>\n",
       "  </tbody>\n",
       "</table>\n",
       "</div>"
      ],
      "text/plain": [
       "   State  Price ($)\n",
       "0     AK    1054.28\n",
       "1     AL     962.18\n",
       "2     AR     874.04\n",
       "3     AZ    1119.38\n",
       "4     CA    2465.98\n",
       "5     CO    1555.35\n",
       "6     CT    1268.34\n",
       "7     DC    2226.80\n",
       "8     DE    1154.86\n",
       "9     FL    1575.07\n",
       "10    GA    1350.97\n",
       "11    HI    2729.19\n",
       "12    IA     950.21\n",
       "13    ID    1122.32\n",
       "14    IL    1487.93\n",
       "15    IN    1017.18\n",
       "16    KS     923.35\n",
       "17    KY     989.99\n",
       "18    LA    1026.38\n",
       "19    MA    2192.04\n",
       "20    MD    1645.34\n",
       "21    ME    1250.83\n",
       "22    MI    1198.06\n",
       "23    MN    1390.32\n",
       "24    MO    1048.97\n",
       "25    MS     874.16"
      ]
     },
     "execution_count": 44,
     "metadata": {},
     "output_type": "execute_result"
    }
   ],
   "source": [
    "print('First Half of States:')\n",
    "df2.groupby('State', as_index=False)['Price ($)'].mean().round(2)[:26]"
   ]
  },
  {
   "cell_type": "code",
   "execution_count": 45,
   "metadata": {},
   "outputs": [
    {
     "name": "stdout",
     "output_type": "stream",
     "text": [
      "Second Half of States:\n"
     ]
    },
    {
     "data": {
      "text/html": [
       "<div>\n",
       "<style scoped>\n",
       "    .dataframe tbody tr th:only-of-type {\n",
       "        vertical-align: middle;\n",
       "    }\n",
       "\n",
       "    .dataframe tbody tr th {\n",
       "        vertical-align: top;\n",
       "    }\n",
       "\n",
       "    .dataframe thead th {\n",
       "        text-align: right;\n",
       "    }\n",
       "</style>\n",
       "<table border=\"1\" class=\"dataframe\">\n",
       "  <thead>\n",
       "    <tr style=\"text-align: right;\">\n",
       "      <th></th>\n",
       "      <th>State</th>\n",
       "      <th>Price ($)</th>\n",
       "    </tr>\n",
       "  </thead>\n",
       "  <tbody>\n",
       "    <tr>\n",
       "      <th>26</th>\n",
       "      <td>MT</td>\n",
       "      <td>1118.34</td>\n",
       "    </tr>\n",
       "    <tr>\n",
       "      <th>27</th>\n",
       "      <td>NC</td>\n",
       "      <td>1153.10</td>\n",
       "    </tr>\n",
       "    <tr>\n",
       "      <th>28</th>\n",
       "      <td>ND</td>\n",
       "      <td>945.83</td>\n",
       "    </tr>\n",
       "    <tr>\n",
       "      <th>29</th>\n",
       "      <td>NE</td>\n",
       "      <td>933.35</td>\n",
       "    </tr>\n",
       "    <tr>\n",
       "      <th>30</th>\n",
       "      <td>NH</td>\n",
       "      <td>1453.73</td>\n",
       "    </tr>\n",
       "    <tr>\n",
       "      <th>31</th>\n",
       "      <td>NJ</td>\n",
       "      <td>2038.44</td>\n",
       "    </tr>\n",
       "    <tr>\n",
       "      <th>32</th>\n",
       "      <td>NM</td>\n",
       "      <td>844.04</td>\n",
       "    </tr>\n",
       "    <tr>\n",
       "      <th>33</th>\n",
       "      <td>NV</td>\n",
       "      <td>1173.53</td>\n",
       "    </tr>\n",
       "    <tr>\n",
       "      <th>34</th>\n",
       "      <td>NY</td>\n",
       "      <td>2531.58</td>\n",
       "    </tr>\n",
       "    <tr>\n",
       "      <th>35</th>\n",
       "      <td>OH</td>\n",
       "      <td>1109.97</td>\n",
       "    </tr>\n",
       "    <tr>\n",
       "      <th>36</th>\n",
       "      <td>OK</td>\n",
       "      <td>1016.21</td>\n",
       "    </tr>\n",
       "    <tr>\n",
       "      <th>37</th>\n",
       "      <td>OR</td>\n",
       "      <td>1475.36</td>\n",
       "    </tr>\n",
       "    <tr>\n",
       "      <th>38</th>\n",
       "      <td>PA</td>\n",
       "      <td>1300.93</td>\n",
       "    </tr>\n",
       "    <tr>\n",
       "      <th>39</th>\n",
       "      <td>RI</td>\n",
       "      <td>2034.73</td>\n",
       "    </tr>\n",
       "    <tr>\n",
       "      <th>40</th>\n",
       "      <td>SC</td>\n",
       "      <td>1143.73</td>\n",
       "    </tr>\n",
       "    <tr>\n",
       "      <th>41</th>\n",
       "      <td>SD</td>\n",
       "      <td>887.65</td>\n",
       "    </tr>\n",
       "    <tr>\n",
       "      <th>42</th>\n",
       "      <td>TN</td>\n",
       "      <td>1176.51</td>\n",
       "    </tr>\n",
       "    <tr>\n",
       "      <th>43</th>\n",
       "      <td>TX</td>\n",
       "      <td>1218.08</td>\n",
       "    </tr>\n",
       "    <tr>\n",
       "      <th>44</th>\n",
       "      <td>UT</td>\n",
       "      <td>1300.65</td>\n",
       "    </tr>\n",
       "    <tr>\n",
       "      <th>45</th>\n",
       "      <td>VA</td>\n",
       "      <td>1485.86</td>\n",
       "    </tr>\n",
       "    <tr>\n",
       "      <th>46</th>\n",
       "      <td>VT</td>\n",
       "      <td>1415.08</td>\n",
       "    </tr>\n",
       "    <tr>\n",
       "      <th>47</th>\n",
       "      <td>WA</td>\n",
       "      <td>1826.48</td>\n",
       "    </tr>\n",
       "    <tr>\n",
       "      <th>48</th>\n",
       "      <td>WI</td>\n",
       "      <td>1229.04</td>\n",
       "    </tr>\n",
       "    <tr>\n",
       "      <th>49</th>\n",
       "      <td>WV</td>\n",
       "      <td>871.77</td>\n",
       "    </tr>\n",
       "    <tr>\n",
       "      <th>50</th>\n",
       "      <td>WY</td>\n",
       "      <td>791.75</td>\n",
       "    </tr>\n",
       "  </tbody>\n",
       "</table>\n",
       "</div>"
      ],
      "text/plain": [
       "   State  Price ($)\n",
       "26    MT    1118.34\n",
       "27    NC    1153.10\n",
       "28    ND     945.83\n",
       "29    NE     933.35\n",
       "30    NH    1453.73\n",
       "31    NJ    2038.44\n",
       "32    NM     844.04\n",
       "33    NV    1173.53\n",
       "34    NY    2531.58\n",
       "35    OH    1109.97\n",
       "36    OK    1016.21\n",
       "37    OR    1475.36\n",
       "38    PA    1300.93\n",
       "39    RI    2034.73\n",
       "40    SC    1143.73\n",
       "41    SD     887.65\n",
       "42    TN    1176.51\n",
       "43    TX    1218.08\n",
       "44    UT    1300.65\n",
       "45    VA    1485.86\n",
       "46    VT    1415.08\n",
       "47    WA    1826.48\n",
       "48    WI    1229.04\n",
       "49    WV     871.77\n",
       "50    WY     791.75"
      ]
     },
     "execution_count": 45,
     "metadata": {},
     "output_type": "execute_result"
    }
   ],
   "source": [
    "print('Second Half of States:')\n",
    "df2.groupby('State', as_index=False)['Price ($)'].mean().round(2)[26:]"
   ]
  },
  {
   "cell_type": "markdown",
   "metadata": {},
   "source": [
    "#### 7) What city has the most apartments with fees?"
   ]
  },
  {
   "cell_type": "code",
   "execution_count": 46,
   "metadata": {},
   "outputs": [
    {
     "name": "stdout",
     "output_type": "stream",
     "text": [
      "Boston, MA has the most apartment records with fees which total to 50\n"
     ]
    }
   ],
   "source": [
    "# fcs stores city with most number of fees\n",
    "fcs = df2.groupby(['City', 'State'])['Fee'].sum().idxmax()\n",
    "# fl provides the number of fees of city\n",
    "fl = df2.groupby(['City', 'State'])['Fee'].sum().max()\n",
    "\n",
    "print(f'{fcs[0]}, {fcs[1]} has the most apartment records'\n",
    "      f' with fees which total to {fl}')"
   ]
  },
  {
   "cell_type": "markdown",
   "metadata": {},
   "source": [
    "#### 8) Average rent difference between listings that allow pets versus the ones that do not?"
   ]
  },
  {
   "cell_type": "code",
   "execution_count": 47,
   "metadata": {},
   "outputs": [
    {
     "name": "stdout",
     "output_type": "stream",
     "text": [
      "Average rent for pets allowed: $1464.53\n",
      "Average rent for no pets allowed: $1565.10\n"
     ]
    }
   ],
   "source": [
    "# petgr stores groupby of df2 for Pets Listed\n",
    "petgr = df2.groupby('Pet Listed')['Price ($)'].mean().round(2)\n",
    "print(f'Average rent for pets allowed: ${petgr[True]:0.2f}')\n",
    "print(f'Average rent for no pets allowed: ${petgr[False]:0.2f}')"
   ]
  },
  {
   "cell_type": "markdown",
   "metadata": {},
   "source": [
    "#### 9) In the dataset, how many records have pictures versus none?"
   ]
  },
  {
   "cell_type": "code",
   "execution_count": 48,
   "metadata": {},
   "outputs": [
    {
     "name": "stdout",
     "output_type": "stream",
     "text": [
      "90.73% of records have photos of apartment\n",
      "9.27% of records have no photos of apartment\n"
     ]
    }
   ],
   "source": [
    "# havpic stores percentage of records with a photo\n",
    "havpic = np.sum(df2['Has Photo'] / len(df2)*100).round(2)\n",
    "print(f'{havpic:0.2f}% of records have photos of apartment')\n",
    "print(f'{100-havpic:0.2f}% of records have no photos of apartment')"
   ]
  },
  {
   "cell_type": "markdown",
   "metadata": {},
   "source": [
    "#### 10) What percentage do top 10 cities of listing counts make up the available units?"
   ]
  },
  {
   "cell_type": "code",
   "execution_count": 49,
   "metadata": {},
   "outputs": [
    {
     "name": "stdout",
     "output_type": "stream",
     "text": [
      "The Top 10 Cities Make Up 16.17% of All Listings\n",
      "\n",
      "The Top 10 Cities with Most Number of Rentals are:\n"
     ]
    },
    {
     "data": {
      "text/html": [
       "<div>\n",
       "<style scoped>\n",
       "    .dataframe tbody tr th:only-of-type {\n",
       "        vertical-align: middle;\n",
       "    }\n",
       "\n",
       "    .dataframe tbody tr th {\n",
       "        vertical-align: top;\n",
       "    }\n",
       "\n",
       "    .dataframe thead th {\n",
       "        text-align: right;\n",
       "    }\n",
       "</style>\n",
       "<table border=\"1\" class=\"dataframe\">\n",
       "  <thead>\n",
       "    <tr style=\"text-align: right;\">\n",
       "      <th></th>\n",
       "      <th>City</th>\n",
       "      <th>State</th>\n",
       "      <th>Total Records</th>\n",
       "    </tr>\n",
       "  </thead>\n",
       "  <tbody>\n",
       "    <tr>\n",
       "      <th>0</th>\n",
       "      <td>Dallas</td>\n",
       "      <td>TX</td>\n",
       "      <td>2819</td>\n",
       "    </tr>\n",
       "    <tr>\n",
       "      <th>1</th>\n",
       "      <td>Denver</td>\n",
       "      <td>CO</td>\n",
       "      <td>2741</td>\n",
       "    </tr>\n",
       "    <tr>\n",
       "      <th>2</th>\n",
       "      <td>Los Angeles</td>\n",
       "      <td>CA</td>\n",
       "      <td>2397</td>\n",
       "    </tr>\n",
       "    <tr>\n",
       "      <th>3</th>\n",
       "      <td>Las Vegas</td>\n",
       "      <td>NV</td>\n",
       "      <td>1843</td>\n",
       "    </tr>\n",
       "    <tr>\n",
       "      <th>4</th>\n",
       "      <td>Atlanta</td>\n",
       "      <td>GA</td>\n",
       "      <td>1503</td>\n",
       "    </tr>\n",
       "    <tr>\n",
       "      <th>5</th>\n",
       "      <td>Charlotte</td>\n",
       "      <td>NC</td>\n",
       "      <td>1121</td>\n",
       "    </tr>\n",
       "    <tr>\n",
       "      <th>6</th>\n",
       "      <td>Richmond</td>\n",
       "      <td>VA</td>\n",
       "      <td>897</td>\n",
       "    </tr>\n",
       "    <tr>\n",
       "      <th>7</th>\n",
       "      <td>Arlington</td>\n",
       "      <td>VA</td>\n",
       "      <td>896</td>\n",
       "    </tr>\n",
       "    <tr>\n",
       "      <th>8</th>\n",
       "      <td>Alexandria</td>\n",
       "      <td>VA</td>\n",
       "      <td>889</td>\n",
       "    </tr>\n",
       "    <tr>\n",
       "      <th>9</th>\n",
       "      <td>San Antonio</td>\n",
       "      <td>TX</td>\n",
       "      <td>873</td>\n",
       "    </tr>\n",
       "  </tbody>\n",
       "</table>\n",
       "</div>"
      ],
      "text/plain": [
       "          City State  Total Records\n",
       "0       Dallas    TX           2819\n",
       "1       Denver    CO           2741\n",
       "2  Los Angeles    CA           2397\n",
       "3    Las Vegas    NV           1843\n",
       "4      Atlanta    GA           1503\n",
       "5    Charlotte    NC           1121\n",
       "6     Richmond    VA            897\n",
       "7    Arlington    VA            896\n",
       "8   Alexandria    VA            889\n",
       "9  San Antonio    TX            873"
      ]
     },
     "execution_count": 49,
     "metadata": {},
     "output_type": "execute_result"
    }
   ],
   "source": [
    "# groupcs stores groupby of city and state rental counts of top 10\n",
    "groupcs = df2.groupby(['City', 'State']).size().nlargest(10)\n",
    "# groupcsp stores the percentage make up of total of top 10\n",
    "groupcsp = ((groupcs.sum() / len(df2))*100).round(2)\n",
    "# groupcsdf stores dataframe of groupcs\n",
    "%pycodestyle_off\n",
    "groupcsdf = pd.DataFrame(groupcs).reset_index().rename(columns={0:'Total Records'})\n",
    "%pycodestyle_on\n",
    "\n",
    "print(f'The Top 10 Cities Make Up {groupcsp:0.2f}% of All Listings')\n",
    "print('\\nThe Top 10 Cities with Most Number of Rentals are:')\n",
    "groupcsdf"
   ]
  },
  {
   "cell_type": "code",
   "execution_count": 50,
   "metadata": {},
   "outputs": [
    {
     "data": {
      "text/plain": [
       "3548"
      ]
     },
     "execution_count": 50,
     "metadata": {},
     "output_type": "execute_result"
    }
   ],
   "source": [
    "# df2c stores copy of df2\n",
    "df2c = df2.copy()\n",
    "df2c['City,State'] = df2c['City'] + ',' + df2['State']\n",
    "df2c['City,State'].nunique()"
   ]
  },
  {
   "cell_type": "markdown",
   "metadata": {},
   "source": [
    "#### 11) What is the most common source for each state of their apartment listings?"
   ]
  },
  {
   "cell_type": "code",
   "execution_count": 51,
   "metadata": {},
   "outputs": [
    {
     "name": "stdout",
     "output_type": "stream",
     "text": [
      "Most Common Source by State:\n"
     ]
    },
    {
     "data": {
      "text/html": [
       "<div>\n",
       "<style scoped>\n",
       "    .dataframe tbody tr th:only-of-type {\n",
       "        vertical-align: middle;\n",
       "    }\n",
       "\n",
       "    .dataframe tbody tr th {\n",
       "        vertical-align: top;\n",
       "    }\n",
       "\n",
       "    .dataframe thead th {\n",
       "        text-align: right;\n",
       "    }\n",
       "</style>\n",
       "<table border=\"1\" class=\"dataframe\">\n",
       "  <thead>\n",
       "    <tr style=\"text-align: right;\">\n",
       "      <th></th>\n",
       "      <th>State</th>\n",
       "      <th>Source</th>\n",
       "    </tr>\n",
       "  </thead>\n",
       "  <tbody>\n",
       "    <tr>\n",
       "      <th>0</th>\n",
       "      <td>AK</td>\n",
       "      <td>RentLingo</td>\n",
       "    </tr>\n",
       "    <tr>\n",
       "      <th>1</th>\n",
       "      <td>AL</td>\n",
       "      <td>RentDigs.com</td>\n",
       "    </tr>\n",
       "    <tr>\n",
       "      <th>2</th>\n",
       "      <td>AR</td>\n",
       "      <td>RentDigs.com</td>\n",
       "    </tr>\n",
       "    <tr>\n",
       "      <th>3</th>\n",
       "      <td>AZ</td>\n",
       "      <td>RentDigs.com</td>\n",
       "    </tr>\n",
       "    <tr>\n",
       "      <th>4</th>\n",
       "      <td>CA</td>\n",
       "      <td>RentDigs.com</td>\n",
       "    </tr>\n",
       "    <tr>\n",
       "      <th>5</th>\n",
       "      <td>CO</td>\n",
       "      <td>RentDigs.com</td>\n",
       "    </tr>\n",
       "    <tr>\n",
       "      <th>6</th>\n",
       "      <td>CT</td>\n",
       "      <td>RentDigs.com</td>\n",
       "    </tr>\n",
       "    <tr>\n",
       "      <th>7</th>\n",
       "      <td>DC</td>\n",
       "      <td>RentLingo</td>\n",
       "    </tr>\n",
       "    <tr>\n",
       "      <th>8</th>\n",
       "      <td>DE</td>\n",
       "      <td>RentLingo</td>\n",
       "    </tr>\n",
       "    <tr>\n",
       "      <th>9</th>\n",
       "      <td>FL</td>\n",
       "      <td>RentDigs.com</td>\n",
       "    </tr>\n",
       "    <tr>\n",
       "      <th>10</th>\n",
       "      <td>GA</td>\n",
       "      <td>RentDigs.com</td>\n",
       "    </tr>\n",
       "    <tr>\n",
       "      <th>11</th>\n",
       "      <td>HI</td>\n",
       "      <td>RentDigs.com</td>\n",
       "    </tr>\n",
       "    <tr>\n",
       "      <th>12</th>\n",
       "      <td>IA</td>\n",
       "      <td>RentDigs.com</td>\n",
       "    </tr>\n",
       "    <tr>\n",
       "      <th>13</th>\n",
       "      <td>ID</td>\n",
       "      <td>RentDigs.com</td>\n",
       "    </tr>\n",
       "    <tr>\n",
       "      <th>14</th>\n",
       "      <td>IL</td>\n",
       "      <td>RentDigs.com</td>\n",
       "    </tr>\n",
       "    <tr>\n",
       "      <th>15</th>\n",
       "      <td>IN</td>\n",
       "      <td>RentDigs.com</td>\n",
       "    </tr>\n",
       "    <tr>\n",
       "      <th>16</th>\n",
       "      <td>KS</td>\n",
       "      <td>RentDigs.com</td>\n",
       "    </tr>\n",
       "    <tr>\n",
       "      <th>17</th>\n",
       "      <td>KY</td>\n",
       "      <td>RentDigs.com</td>\n",
       "    </tr>\n",
       "    <tr>\n",
       "      <th>18</th>\n",
       "      <td>LA</td>\n",
       "      <td>RentDigs.com</td>\n",
       "    </tr>\n",
       "    <tr>\n",
       "      <th>19</th>\n",
       "      <td>MA</td>\n",
       "      <td>RentDigs.com</td>\n",
       "    </tr>\n",
       "    <tr>\n",
       "      <th>20</th>\n",
       "      <td>MD</td>\n",
       "      <td>RentDigs.com</td>\n",
       "    </tr>\n",
       "    <tr>\n",
       "      <th>21</th>\n",
       "      <td>ME</td>\n",
       "      <td>RentDigs.com</td>\n",
       "    </tr>\n",
       "    <tr>\n",
       "      <th>22</th>\n",
       "      <td>MI</td>\n",
       "      <td>RentDigs.com</td>\n",
       "    </tr>\n",
       "    <tr>\n",
       "      <th>23</th>\n",
       "      <td>MN</td>\n",
       "      <td>RentDigs.com</td>\n",
       "    </tr>\n",
       "    <tr>\n",
       "      <th>24</th>\n",
       "      <td>MO</td>\n",
       "      <td>RentDigs.com</td>\n",
       "    </tr>\n",
       "    <tr>\n",
       "      <th>25</th>\n",
       "      <td>MS</td>\n",
       "      <td>RentDigs.com</td>\n",
       "    </tr>\n",
       "    <tr>\n",
       "      <th>26</th>\n",
       "      <td>MT</td>\n",
       "      <td>RentDigs.com</td>\n",
       "    </tr>\n",
       "    <tr>\n",
       "      <th>27</th>\n",
       "      <td>NC</td>\n",
       "      <td>RentDigs.com</td>\n",
       "    </tr>\n",
       "    <tr>\n",
       "      <th>28</th>\n",
       "      <td>ND</td>\n",
       "      <td>RentDigs.com</td>\n",
       "    </tr>\n",
       "    <tr>\n",
       "      <th>29</th>\n",
       "      <td>NE</td>\n",
       "      <td>RentDigs.com</td>\n",
       "    </tr>\n",
       "    <tr>\n",
       "      <th>30</th>\n",
       "      <td>NH</td>\n",
       "      <td>RentDigs.com</td>\n",
       "    </tr>\n",
       "    <tr>\n",
       "      <th>31</th>\n",
       "      <td>NJ</td>\n",
       "      <td>RentDigs.com</td>\n",
       "    </tr>\n",
       "    <tr>\n",
       "      <th>32</th>\n",
       "      <td>NM</td>\n",
       "      <td>RentLingo</td>\n",
       "    </tr>\n",
       "    <tr>\n",
       "      <th>33</th>\n",
       "      <td>NV</td>\n",
       "      <td>RentDigs.com</td>\n",
       "    </tr>\n",
       "    <tr>\n",
       "      <th>34</th>\n",
       "      <td>NY</td>\n",
       "      <td>RentDigs.com</td>\n",
       "    </tr>\n",
       "    <tr>\n",
       "      <th>35</th>\n",
       "      <td>OH</td>\n",
       "      <td>RentDigs.com</td>\n",
       "    </tr>\n",
       "    <tr>\n",
       "      <th>36</th>\n",
       "      <td>OK</td>\n",
       "      <td>RentDigs.com</td>\n",
       "    </tr>\n",
       "    <tr>\n",
       "      <th>37</th>\n",
       "      <td>OR</td>\n",
       "      <td>RentLingo</td>\n",
       "    </tr>\n",
       "    <tr>\n",
       "      <th>38</th>\n",
       "      <td>PA</td>\n",
       "      <td>RentDigs.com</td>\n",
       "    </tr>\n",
       "    <tr>\n",
       "      <th>39</th>\n",
       "      <td>RI</td>\n",
       "      <td>RentDigs.com</td>\n",
       "    </tr>\n",
       "    <tr>\n",
       "      <th>40</th>\n",
       "      <td>SC</td>\n",
       "      <td>RentDigs.com</td>\n",
       "    </tr>\n",
       "    <tr>\n",
       "      <th>41</th>\n",
       "      <td>SD</td>\n",
       "      <td>RentLingo</td>\n",
       "    </tr>\n",
       "    <tr>\n",
       "      <th>42</th>\n",
       "      <td>TN</td>\n",
       "      <td>RentDigs.com</td>\n",
       "    </tr>\n",
       "    <tr>\n",
       "      <th>43</th>\n",
       "      <td>TX</td>\n",
       "      <td>RentDigs.com</td>\n",
       "    </tr>\n",
       "    <tr>\n",
       "      <th>44</th>\n",
       "      <td>UT</td>\n",
       "      <td>RentDigs.com</td>\n",
       "    </tr>\n",
       "    <tr>\n",
       "      <th>45</th>\n",
       "      <td>VA</td>\n",
       "      <td>RentDigs.com</td>\n",
       "    </tr>\n",
       "    <tr>\n",
       "      <th>46</th>\n",
       "      <td>VT</td>\n",
       "      <td>RentDigs.com</td>\n",
       "    </tr>\n",
       "    <tr>\n",
       "      <th>47</th>\n",
       "      <td>WA</td>\n",
       "      <td>RentDigs.com</td>\n",
       "    </tr>\n",
       "    <tr>\n",
       "      <th>48</th>\n",
       "      <td>WI</td>\n",
       "      <td>RentLingo</td>\n",
       "    </tr>\n",
       "    <tr>\n",
       "      <th>49</th>\n",
       "      <td>WV</td>\n",
       "      <td>RentDigs.com</td>\n",
       "    </tr>\n",
       "    <tr>\n",
       "      <th>50</th>\n",
       "      <td>WY</td>\n",
       "      <td>RentDigs.com</td>\n",
       "    </tr>\n",
       "  </tbody>\n",
       "</table>\n",
       "</div>"
      ],
      "text/plain": [
       "   State        Source\n",
       "0     AK     RentLingo\n",
       "1     AL  RentDigs.com\n",
       "2     AR  RentDigs.com\n",
       "3     AZ  RentDigs.com\n",
       "4     CA  RentDigs.com\n",
       "5     CO  RentDigs.com\n",
       "6     CT  RentDigs.com\n",
       "7     DC     RentLingo\n",
       "8     DE     RentLingo\n",
       "9     FL  RentDigs.com\n",
       "10    GA  RentDigs.com\n",
       "11    HI  RentDigs.com\n",
       "12    IA  RentDigs.com\n",
       "13    ID  RentDigs.com\n",
       "14    IL  RentDigs.com\n",
       "15    IN  RentDigs.com\n",
       "16    KS  RentDigs.com\n",
       "17    KY  RentDigs.com\n",
       "18    LA  RentDigs.com\n",
       "19    MA  RentDigs.com\n",
       "20    MD  RentDigs.com\n",
       "21    ME  RentDigs.com\n",
       "22    MI  RentDigs.com\n",
       "23    MN  RentDigs.com\n",
       "24    MO  RentDigs.com\n",
       "25    MS  RentDigs.com\n",
       "26    MT  RentDigs.com\n",
       "27    NC  RentDigs.com\n",
       "28    ND  RentDigs.com\n",
       "29    NE  RentDigs.com\n",
       "30    NH  RentDigs.com\n",
       "31    NJ  RentDigs.com\n",
       "32    NM     RentLingo\n",
       "33    NV  RentDigs.com\n",
       "34    NY  RentDigs.com\n",
       "35    OH  RentDigs.com\n",
       "36    OK  RentDigs.com\n",
       "37    OR     RentLingo\n",
       "38    PA  RentDigs.com\n",
       "39    RI  RentDigs.com\n",
       "40    SC  RentDigs.com\n",
       "41    SD     RentLingo\n",
       "42    TN  RentDigs.com\n",
       "43    TX  RentDigs.com\n",
       "44    UT  RentDigs.com\n",
       "45    VA  RentDigs.com\n",
       "46    VT  RentDigs.com\n",
       "47    WA  RentDigs.com\n",
       "48    WI     RentLingo\n",
       "49    WV  RentDigs.com\n",
       "50    WY  RentDigs.com"
      ]
     },
     "execution_count": 51,
     "metadata": {},
     "output_type": "execute_result"
    }
   ],
   "source": [
    "print('Most Common Source by State:')\n",
    "# ssg stores df2 state max count source by state\n",
    "ssg = df2.groupby('State',\n",
    "                  sort=True).apply(lambda x:\n",
    "                                   x['Source'].value_counts().idxmax(),\n",
    "                                   include_groups=False)\n",
    "# ssgdf stores dataframe of ssg\n",
    "ssgdf = pd.DataFrame(ssg).reset_index()\n",
    "%pycodestyle_off\n",
    "ssgdf.rename(columns={0:'Source'}, inplace=True)\n",
    "%pycodestyle_on\n",
    "ssgdf"
   ]
  },
  {
   "cell_type": "code",
   "execution_count": 52,
   "metadata": {},
   "outputs": [
    {
     "name": "stdout",
     "output_type": "stream",
     "text": [
      "25 Unique Sources\n",
      "\n",
      "Most Common Sources: \n"
     ]
    },
    {
     "data": {
      "text/plain": [
       "Source\n",
       "RentDigs.com    44\n",
       "RentLingo        7\n",
       "Name: count, dtype: int64"
      ]
     },
     "execution_count": 52,
     "metadata": {},
     "output_type": "execute_result"
    }
   ],
   "source": [
    "print(df2['Source'].nunique(), 'Unique Sources')\n",
    "print('\\nMost Common Sources: ')\n",
    "ssgdf['Source'].value_counts()"
   ]
  },
  {
   "cell_type": "markdown",
   "metadata": {},
   "source": [
    "#### 12) How many records satisfy the average family in America of 2400 Square Feet and $1500 monthly rent?\n",
    "\n",
    "https://www.rocketmortgage.com/learn/how-big-of-a-house-do-i-need#:~:text=The%20Number%20Of%20People%20In,homes%20around%202%2C400%20square%20feet.\n",
    "\n",
    "https://www.businessinsider.com/what-the-average-american-family-spends-on-rent-in-us-2019-6"
   ]
  },
  {
   "cell_type": "code",
   "execution_count": 53,
   "metadata": {},
   "outputs": [
    {
     "name": "stdout",
     "output_type": "stream",
     "text": [
      "48 listings of 98813 satisfy the average family in America\n"
     ]
    }
   ],
   "source": [
    "# avam stores total number of records that satisfy average criteria\n",
    "avam = len(df2.loc[(df2['Square Footage'] >= 2400)\n",
    "                   & (df2['Price ($)'] <= 1500)])\n",
    "print(f'{avam} listings of {len(df2)} satisfy the average family in America')"
   ]
  },
  {
   "cell_type": "markdown",
   "metadata": {},
   "source": [
    "#### 13) Details of the smallest and largest apartments?"
   ]
  },
  {
   "cell_type": "code",
   "execution_count": 54,
   "metadata": {},
   "outputs": [
    {
     "name": "stdout",
     "output_type": "stream",
     "text": [
      "Smallest Apartment Details:\n"
     ]
    },
    {
     "data": {
      "text/plain": [
       "index                            4998\n",
       "Amenities                  Not Listed\n",
       "Bathrooms                         1.0\n",
       "Bedrooms                          0.0\n",
       "Price ($)                      1390.0\n",
       "Square Footage                    107\n",
       "City                        Arlington\n",
       "State                              VA\n",
       "Source                      RentLingo\n",
       "Has Photo                        True\n",
       "Pet Listed                      False\n",
       "Fee                             False\n",
       "Date Time         2009-12-25 11:23:30\n",
       "Name: 4972, dtype: object"
      ]
     },
     "execution_count": 54,
     "metadata": {},
     "output_type": "execute_result"
    }
   ],
   "source": [
    "print('Smallest Apartment Details:')\n",
    "df2.iloc[df2['Square Footage'].idxmin()]"
   ]
  },
  {
   "cell_type": "code",
   "execution_count": 55,
   "metadata": {},
   "outputs": [
    {
     "name": "stdout",
     "output_type": "stream",
     "text": [
      "Largest Apartment Details:\n"
     ]
    },
    {
     "data": {
      "text/plain": [
       "index                                          50964\n",
       "Amenities         Elevator,Parking,Pool,Refrigerator\n",
       "Bathrooms                                        1.0\n",
       "Bedrooms                                         0.0\n",
       "Price ($)                                      565.0\n",
       "Square Footage                                 12000\n",
       "City                                          Euclid\n",
       "State                                             OH\n",
       "Source                                     ListedBuy\n",
       "Has Photo                                       True\n",
       "Pet Listed                                      True\n",
       "Fee                                            False\n",
       "Date Time                        2009-07-05 14:05:45\n",
       "Name: 50595, dtype: object"
      ]
     },
     "execution_count": 55,
     "metadata": {},
     "output_type": "execute_result"
    }
   ],
   "source": [
    "print('Largest Apartment Details:')\n",
    "df2.iloc[df2['Square Footage'].idxmax()]"
   ]
  },
  {
   "cell_type": "markdown",
   "metadata": {},
   "source": [
    "#### 14) What are the top 10 cities with the highest ranges of square footage and monthly rent?"
   ]
  },
  {
   "cell_type": "code",
   "execution_count": 56,
   "metadata": {},
   "outputs": [
    {
     "name": "stdout",
     "output_type": "stream",
     "text": [
      "Top 10 Cities with Greatest Square Footage Range:\n"
     ]
    },
    {
     "data": {
      "text/html": [
       "<div>\n",
       "<style scoped>\n",
       "    .dataframe tbody tr th:only-of-type {\n",
       "        vertical-align: middle;\n",
       "    }\n",
       "\n",
       "    .dataframe tbody tr th {\n",
       "        vertical-align: top;\n",
       "    }\n",
       "\n",
       "    .dataframe thead th {\n",
       "        text-align: right;\n",
       "    }\n",
       "</style>\n",
       "<table border=\"1\" class=\"dataframe\">\n",
       "  <thead>\n",
       "    <tr style=\"text-align: right;\">\n",
       "      <th></th>\n",
       "      <th>City</th>\n",
       "      <th>State</th>\n",
       "      <th>Square Footage Range</th>\n",
       "    </tr>\n",
       "  </thead>\n",
       "  <tbody>\n",
       "    <tr>\n",
       "      <th>0</th>\n",
       "      <td>Euclid</td>\n",
       "      <td>OH</td>\n",
       "      <td>11477</td>\n",
       "    </tr>\n",
       "    <tr>\n",
       "      <th>1</th>\n",
       "      <td>Potomac</td>\n",
       "      <td>MD</td>\n",
       "      <td>11068</td>\n",
       "    </tr>\n",
       "    <tr>\n",
       "      <th>2</th>\n",
       "      <td>Steubenville</td>\n",
       "      <td>OH</td>\n",
       "      <td>9147</td>\n",
       "    </tr>\n",
       "    <tr>\n",
       "      <th>3</th>\n",
       "      <td>Los Angeles</td>\n",
       "      <td>CA</td>\n",
       "      <td>9031</td>\n",
       "    </tr>\n",
       "    <tr>\n",
       "      <th>4</th>\n",
       "      <td>Beverly Hills</td>\n",
       "      <td>CA</td>\n",
       "      <td>6845</td>\n",
       "    </tr>\n",
       "    <tr>\n",
       "      <th>5</th>\n",
       "      <td>Annandale</td>\n",
       "      <td>VA</td>\n",
       "      <td>6384</td>\n",
       "    </tr>\n",
       "    <tr>\n",
       "      <th>6</th>\n",
       "      <td>Playa Del Rey</td>\n",
       "      <td>CA</td>\n",
       "      <td>6381</td>\n",
       "    </tr>\n",
       "    <tr>\n",
       "      <th>7</th>\n",
       "      <td>Montecito</td>\n",
       "      <td>CA</td>\n",
       "      <td>6316</td>\n",
       "    </tr>\n",
       "    <tr>\n",
       "      <th>8</th>\n",
       "      <td>West Hollywood</td>\n",
       "      <td>CA</td>\n",
       "      <td>6004</td>\n",
       "    </tr>\n",
       "    <tr>\n",
       "      <th>9</th>\n",
       "      <td>Chicago</td>\n",
       "      <td>IL</td>\n",
       "      <td>5775</td>\n",
       "    </tr>\n",
       "  </tbody>\n",
       "</table>\n",
       "</div>"
      ],
      "text/plain": [
       "             City State  Square Footage Range\n",
       "0          Euclid    OH                 11477\n",
       "1         Potomac    MD                 11068\n",
       "2    Steubenville    OH                  9147\n",
       "3     Los Angeles    CA                  9031\n",
       "4   Beverly Hills    CA                  6845\n",
       "5       Annandale    VA                  6384\n",
       "6   Playa Del Rey    CA                  6381\n",
       "7       Montecito    CA                  6316\n",
       "8  West Hollywood    CA                  6004\n",
       "9         Chicago    IL                  5775"
      ]
     },
     "execution_count": 56,
     "metadata": {},
     "output_type": "execute_result"
    }
   ],
   "source": [
    "# group14 stores group by city state of square footage range\n",
    "group14 = df2.groupby(['City',\n",
    "                       'State'])['Square Footage'].agg(np.ptp).nlargest(10)\n",
    "# g14 stores dataframe of group14\n",
    "g14 = pd.DataFrame(group14).reset_index()\n",
    "%pycodestyle_off\n",
    "g14.rename(columns={'Square Footage': 'Square Footage Range'}, inplace=True)\n",
    "%pycodestyle_on\n",
    "print('Top 10 Cities with Greatest Square Footage Range:')\n",
    "g14"
   ]
  },
  {
   "cell_type": "code",
   "execution_count": 57,
   "metadata": {},
   "outputs": [
    {
     "name": "stdout",
     "output_type": "stream",
     "text": [
      "Top 10 Cities with Greatest Monthly Rent Range:\n"
     ]
    },
    {
     "data": {
      "text/html": [
       "<div>\n",
       "<style scoped>\n",
       "    .dataframe tbody tr th:only-of-type {\n",
       "        vertical-align: middle;\n",
       "    }\n",
       "\n",
       "    .dataframe tbody tr th {\n",
       "        vertical-align: top;\n",
       "    }\n",
       "\n",
       "    .dataframe thead th {\n",
       "        text-align: right;\n",
       "    }\n",
       "</style>\n",
       "<table border=\"1\" class=\"dataframe\">\n",
       "  <thead>\n",
       "    <tr style=\"text-align: right;\">\n",
       "      <th></th>\n",
       "      <th>City</th>\n",
       "      <th>State</th>\n",
       "      <th>Monthly Rent Range</th>\n",
       "    </tr>\n",
       "  </thead>\n",
       "  <tbody>\n",
       "    <tr>\n",
       "      <th>0</th>\n",
       "      <td>Barstow</td>\n",
       "      <td>CA</td>\n",
       "      <td>52005.0</td>\n",
       "    </tr>\n",
       "    <tr>\n",
       "      <th>1</th>\n",
       "      <td>Los Angeles</td>\n",
       "      <td>CA</td>\n",
       "      <td>39100.0</td>\n",
       "    </tr>\n",
       "    <tr>\n",
       "      <th>2</th>\n",
       "      <td>West Hollywood</td>\n",
       "      <td>CA</td>\n",
       "      <td>33185.0</td>\n",
       "    </tr>\n",
       "    <tr>\n",
       "      <th>3</th>\n",
       "      <td>Pacific Palisades</td>\n",
       "      <td>CA</td>\n",
       "      <td>30567.0</td>\n",
       "    </tr>\n",
       "    <tr>\n",
       "      <th>4</th>\n",
       "      <td>Venice</td>\n",
       "      <td>CA</td>\n",
       "      <td>27705.0</td>\n",
       "    </tr>\n",
       "    <tr>\n",
       "      <th>5</th>\n",
       "      <td>Beverly Hills</td>\n",
       "      <td>CA</td>\n",
       "      <td>27305.0</td>\n",
       "    </tr>\n",
       "    <tr>\n",
       "      <th>6</th>\n",
       "      <td>Bonita Springs</td>\n",
       "      <td>FL</td>\n",
       "      <td>23900.0</td>\n",
       "    </tr>\n",
       "    <tr>\n",
       "      <th>7</th>\n",
       "      <td>Playa Del Rey</td>\n",
       "      <td>CA</td>\n",
       "      <td>23015.0</td>\n",
       "    </tr>\n",
       "    <tr>\n",
       "      <th>8</th>\n",
       "      <td>San Francisco</td>\n",
       "      <td>CA</td>\n",
       "      <td>18100.0</td>\n",
       "    </tr>\n",
       "    <tr>\n",
       "      <th>9</th>\n",
       "      <td>Montecito</td>\n",
       "      <td>CA</td>\n",
       "      <td>17800.0</td>\n",
       "    </tr>\n",
       "  </tbody>\n",
       "</table>\n",
       "</div>"
      ],
      "text/plain": [
       "                City State  Monthly Rent Range\n",
       "0            Barstow    CA             52005.0\n",
       "1        Los Angeles    CA             39100.0\n",
       "2     West Hollywood    CA             33185.0\n",
       "3  Pacific Palisades    CA             30567.0\n",
       "4             Venice    CA             27705.0\n",
       "5      Beverly Hills    CA             27305.0\n",
       "6     Bonita Springs    FL             23900.0\n",
       "7      Playa Del Rey    CA             23015.0\n",
       "8      San Francisco    CA             18100.0\n",
       "9          Montecito    CA             17800.0"
      ]
     },
     "execution_count": 57,
     "metadata": {},
     "output_type": "execute_result"
    }
   ],
   "source": [
    "# group142 stores monthly rent range by city and state\n",
    "group142 = df2.groupby(['City',\n",
    "                        'State'])['Price ($)'].agg(np.ptp).nlargest(10)\n",
    "# g142 stores dataframe of group142\n",
    "g142 = pd.DataFrame(group142).reset_index()\n",
    "%pycodestyle_off\n",
    "g142.rename(columns={'Price ($)': 'Monthly Rent Range'},  inplace=True)\n",
    "%pycodestyle_on\n",
    "print('Top 10 Cities with Greatest Monthly Rent Range:')\n",
    "g142"
   ]
  },
  {
   "cell_type": "markdown",
   "metadata": {},
   "source": [
    "#### 15) Apartments listed that do not/barely meet legal requirements of at least 120 square feet and 1 bathroom?\n",
    "\n",
    "https://worldpopulationreview.com/state-rankings/minimum-house-size-by-state \n",
    "\n",
    "https://up.codes/s/water-closet-and-bath-accommodations "
   ]
  },
  {
   "cell_type": "code",
   "execution_count": 58,
   "metadata": {},
   "outputs": [
    {
     "name": "stdout",
     "output_type": "stream",
     "text": [
      "Apartments that are Questionable:\n"
     ]
    },
    {
     "data": {
      "text/html": [
       "<div>\n",
       "<style scoped>\n",
       "    .dataframe tbody tr th:only-of-type {\n",
       "        vertical-align: middle;\n",
       "    }\n",
       "\n",
       "    .dataframe tbody tr th {\n",
       "        vertical-align: top;\n",
       "    }\n",
       "\n",
       "    .dataframe thead th {\n",
       "        text-align: right;\n",
       "    }\n",
       "</style>\n",
       "<table border=\"1\" class=\"dataframe\">\n",
       "  <thead>\n",
       "    <tr style=\"text-align: right;\">\n",
       "      <th></th>\n",
       "      <th>index</th>\n",
       "      <th>Amenities</th>\n",
       "      <th>Bathrooms</th>\n",
       "      <th>Bedrooms</th>\n",
       "      <th>Price ($)</th>\n",
       "      <th>Square Footage</th>\n",
       "      <th>City</th>\n",
       "      <th>State</th>\n",
       "      <th>Source</th>\n",
       "      <th>Has Photo</th>\n",
       "      <th>Pet Listed</th>\n",
       "      <th>Fee</th>\n",
       "      <th>Date Time</th>\n",
       "    </tr>\n",
       "  </thead>\n",
       "  <tbody>\n",
       "    <tr>\n",
       "      <th>4972</th>\n",
       "      <td>4998</td>\n",
       "      <td>Not Listed</td>\n",
       "      <td>1.0</td>\n",
       "      <td>0.0</td>\n",
       "      <td>1390.0</td>\n",
       "      <td>107</td>\n",
       "      <td>Arlington</td>\n",
       "      <td>VA</td>\n",
       "      <td>RentLingo</td>\n",
       "      <td>True</td>\n",
       "      <td>False</td>\n",
       "      <td>False</td>\n",
       "      <td>2009-12-25 11:23:30</td>\n",
       "    </tr>\n",
       "    <tr>\n",
       "      <th>6465</th>\n",
       "      <td>6567</td>\n",
       "      <td>Not Listed</td>\n",
       "      <td>1.0</td>\n",
       "      <td>0.0</td>\n",
       "      <td>925.0</td>\n",
       "      <td>116</td>\n",
       "      <td>Seattle</td>\n",
       "      <td>WA</td>\n",
       "      <td>RentLingo</td>\n",
       "      <td>True</td>\n",
       "      <td>False</td>\n",
       "      <td>False</td>\n",
       "      <td>2009-12-17 11:15:43</td>\n",
       "    </tr>\n",
       "  </tbody>\n",
       "</table>\n",
       "</div>"
      ],
      "text/plain": [
       "      index   Amenities  Bathrooms  Bedrooms  Price ($)  Square Footage  \\\n",
       "4972   4998  Not Listed        1.0       0.0     1390.0             107   \n",
       "6465   6567  Not Listed        1.0       0.0      925.0             116   \n",
       "\n",
       "           City State     Source  Has Photo  Pet Listed    Fee  \\\n",
       "4972  Arlington    VA  RentLingo       True       False  False   \n",
       "6465    Seattle    WA  RentLingo       True       False  False   \n",
       "\n",
       "               Date Time  \n",
       "4972 2009-12-25 11:23:30  \n",
       "6465 2009-12-17 11:15:43  "
      ]
     },
     "execution_count": 58,
     "metadata": {},
     "output_type": "execute_result"
    }
   ],
   "source": [
    "print('Apartments that are Questionable:')\n",
    "df2.loc[(df2['Square Footage'] < 120)\n",
    "        | (df2['Bathrooms'] == 0)]"
   ]
  },
  {
   "cell_type": "markdown",
   "metadata": {},
   "source": [
    "### Visualizations Using Matplotlib and Seaborn"
   ]
  },
  {
   "cell_type": "markdown",
   "metadata": {},
   "source": [
    "#### 16) Do the total amount of bedrooms and bathrooms scale with pricing?"
   ]
  },
  {
   "cell_type": "code",
   "execution_count": 59,
   "metadata": {},
   "outputs": [
    {
     "data": {
      "image/png": "[encoded data removed]",
      "text/plain": [
       "<Figure size 1000x600 with 1 Axes>"
      ]
     },
     "metadata": {},
     "output_type": "display_data"
    }
   ],
   "source": [
    "df2['BR Totals'] = df2['Bathrooms'] + df2['Bathrooms']\n",
    "df2['BR Totals'] = df2['BR Totals'].astype(int)\n",
    "# brt stores groupby of average monthly rent with bath/bed totals\n",
    "brt = df2.groupby(df2['BR Totals'])['Price ($)'].mean()\n",
    "\n",
    "plt.figure(figsize=(10, 6))\n",
    "plt.scatter(brt.index, brt)\n",
    "\n",
    "plt.ylabel('Monthly Rent ($)')\n",
    "plt.xlabel('Total Number of Bedrooms and Bathrooms ')\n",
    "plt.grid(True)\n",
    "%pycodestyle_off\n",
    "plt.title('Average Monthly Rent vs Total Number of Bed and Bathrooms');\n",
    "%pycodestyle_on"
   ]
  },
  {
   "cell_type": "markdown",
   "metadata": {},
   "source": [
    "In general, the rent does scale with the total number of bathrooms and bedrooms. It's interesting, that we see a few points dip on the right side of the graph, but this is most likely due to a smaller sample size of large living spaces. Most accurate is at 11 total bath/bedrooms and it seems to scale exponentially."
   ]
  },
  {
   "cell_type": "markdown",
   "metadata": {},
   "source": [
    "#### 17) What time of the year is rent the most expensive to sign-on?"
   ]
  },
  {
   "cell_type": "code",
   "execution_count": 60,
   "metadata": {},
   "outputs": [
    {
     "data": {
      "image/png": "[encoded data removed]",
      "text/plain": [
       "<Figure size 640x480 with 2 Axes>"
      ]
     },
     "metadata": {},
     "output_type": "display_data"
    }
   ],
   "source": [
    "# gar stores year and month average rent\n",
    "gar = df2.groupby([df2['Date Time'].dt.year,\n",
    "                   df2['Date Time'].dt.month])['Price ($)'].mean().round(2)\n",
    "# gtot stores year and month total listings\n",
    "gtot = df2.groupby([df2['Date Time'].dt.year,\n",
    "                    df2['Date Time'].dt.month]).size()\n",
    "# xtime stores custom xtick labels\n",
    "xtime = ['2008:12',\n",
    "         '2009:01',\n",
    "         '2009:02',\n",
    "         '2009:03',\n",
    "         '2009:04',\n",
    "         '2009:05',\n",
    "         '2009:06',\n",
    "         '2009:07',\n",
    "         '2009:08',\n",
    "         '2009:09',\n",
    "         '2009:10',\n",
    "         '2009:11',\n",
    "         '2009:12']\n",
    "\n",
    "# fig and ax1 stores subplot objects\n",
    "fig, ax1 = plt.subplots()\n",
    "\n",
    "# color stores custom plot color for ax1\n",
    "color = 'tab:red'\n",
    "ax1.set_xlabel('Month (Year:Month)')\n",
    "ax1.set_ylabel('Average Monthly Rent ($)', color=color)\n",
    "ax1.plot(xtime, gar, color=color, label='Monthly Rent')\n",
    "ax1.tick_params(axis='y', labelcolor=color)\n",
    "ax1.set_xticks([i for i in range(len(xtime))])\n",
    "ax1.set_xticklabels(xtime, rotation=90)\n",
    "plt.grid(axis='x')\n",
    "plt.legend(loc='upper left')\n",
    "\n",
    "# ax2 stores object with sharing x-axis\n",
    "ax2 = ax1.twinx()\n",
    "\n",
    "# color stores custom plot color for ax2\n",
    "color = 'tab:blue'\n",
    "ax2.set_ylabel('Number of Units', color=color)\n",
    "ax2.plot(xtime, gtot, color=color, label='Number of Units')\n",
    "ax2.tick_params(axis='y', labelcolor=color)\n",
    "plt.legend(loc='upper right')\n",
    "\n",
    "plt.title('Average Price and Number of Units Versus Month')\n",
    "fig.tight_layout()"
   ]
  },
  {
   "cell_type": "markdown",
   "metadata": {},
   "source": [
    "For the dataset monthly breakdown, ideally we would like to have the most options for the cheapest price. It seems between December to March and August to October are the best times to find an apartment."
   ]
  },
  {
   "cell_type": "markdown",
   "metadata": {},
   "source": [
    "#### 18) What is the average rent by state with number of rentals available along with fees?"
   ]
  },
  {
   "cell_type": "code",
   "execution_count": 61,
   "metadata": {},
   "outputs": [
    {
     "data": {
      "image/png": "[encoded data removed]",
      "text/plain": [
       "<Figure size 1700x600 with 2 Axes>"
      ]
     },
     "metadata": {},
     "output_type": "display_data"
    }
   ],
   "source": [
    "# stot stores total record count by state\n",
    "stot = df2['State'].value_counts().sort_index()\n",
    "# savg stores average rent by state\n",
    "savg = df2.groupby('State')['Price ($)'].mean().round(2)\n",
    "# feelabel stores count of records with fees by state\n",
    "feelabel = df2.groupby('State')['Fee'].sum()\n",
    "\n",
    "# ax11 stores seaborn object\n",
    "ax11 = sns.set_style(style=None, rc=None)\n",
    "\n",
    "# fig2 and ax11 as subplot objects\n",
    "fig2, ax11 = plt.subplots(figsize=(17, 6))\n",
    "\n",
    "plt.title('Average Price and Number of Units by State (Fee Count in Blue)')\n",
    "\n",
    "sns.barplot(data=stot, ax=ax11, color='brown', label='Number of Units')\n",
    "ax11.set_xlabel('State')\n",
    "ax11.set_ylabel('Number of Units', color='brown')\n",
    "ax11.tick_params(axis='y', labelcolor='brown')\n",
    "ax11.bar_label(ax11.containers[0], labels=feelabel, color='blue')\n",
    "plt.grid(axis='x')\n",
    "plt.legend(loc='upper left')\n",
    "\n",
    "# ax22 a shared plot with same x-axis\n",
    "ax22 = ax11.twinx()\n",
    "\n",
    "sns.lineplot(data=savg, marker='D', sort=False, ax=ax22, color='green', label='Monthly Rent')\n",
    "ax22.set_ylabel('Monthly Rent ($)', color='green')\n",
    "plt.legend(loc='upper right')\n",
    "%pycodestyle_off\n",
    "ax22.tick_params(axis='y', labelcolor='green');\n",
    "%pycodestyle_on"
   ]
  },
  {
   "cell_type": "markdown",
   "metadata": {},
   "source": [
    "From this graph, it would be ideal to have a lot of units for a low price/no fees. North Carolina, Texas, and Georgia seem to be ideal. Some of the worst non-ideals would be Hawaii, Massachussetts, and DC"
   ]
  },
  {
   "cell_type": "markdown",
   "metadata": {},
   "source": [
    "#### 19) Does the number of amenities/pets allowed affect the monthly rent?"
   ]
  },
  {
   "cell_type": "code",
   "execution_count": 62,
   "metadata": {},
   "outputs": [
    {
     "data": {
      "image/png": "[encoded data removed]",
      "text/plain": [
       "<Figure size 640x480 with 1 Axes>"
      ]
     },
     "metadata": {},
     "output_type": "display_data"
    }
   ],
   "source": [
    "df2['Total Amenities'] = df2['Amenities'].apply(lambda x: len(x.split(','))\n",
    "                                                if x != 'Not Listed' else 0)\n",
    "sns.stripplot(data=df2, x='Total Amenities', y='Price ($)', hue='Pet Listed')\n",
    "plt.ylabel('Monthly Rent ($)')\n",
    "plt.grid(True)\n",
    "%pycodestyle_off\n",
    "plt.title('Monthly Rent vs Total Amenities');\n",
    "%pycodestyle_on"
   ]
  },
  {
   "cell_type": "markdown",
   "metadata": {},
   "source": [
    "From this graph, it's odd that having less amenities and not allowing pets tend to be more expensive unless pet fees are not taken into consideration in the dataset"
   ]
  },
  {
   "cell_type": "markdown",
   "metadata": {},
   "source": [
    "#### 20) In Hawaii, what is the monthly rent distribution by city?"
   ]
  },
  {
   "cell_type": "code",
   "execution_count": 63,
   "metadata": {},
   "outputs": [
    {
     "data": {
      "image/png": "[encoded data removed]",
      "text/plain": [
       "<Figure size 1200x700 with 1 Axes>"
      ]
     },
     "metadata": {},
     "output_type": "display_data"
    }
   ],
   "source": [
    "# df3 stores df2 mask state for Hawaii\n",
    "df3 = df2.loc[df2['State'] == 'HI']\n",
    "plt.figure(figsize=(12, 7))\n",
    "plt.title('Monthly Rent versus City Distribution in Hawaii')\n",
    "plt.ylabel('Monthly Rent ($)')\n",
    "plt.grid(True)\n",
    "%pycodestyle_off\n",
    "sns.violinplot(data=df3, x='City', y='Price ($)',\n",
    "               hue='City', palette='Set1');\n",
    "%pycodestyle_on"
   ]
  },
  {
   "cell_type": "markdown",
   "metadata": {},
   "source": [
    "Kailua is an expensive city to live in and there is only a handful of cities that have a decent number of units available to rent. Overall, the rent is really expensive in Hawaii, but staying in Waipahu might be the best bet due to the median being the lowest"
   ]
  },
  {
   "cell_type": "markdown",
   "metadata": {},
   "source": [
    "### Additional Valuable and Exciting Insights from Dataset"
   ]
  },
  {
   "cell_type": "markdown",
   "metadata": {},
   "source": [
    "#### 21) How many cities from each state have records?"
   ]
  },
  {
   "cell_type": "code",
   "execution_count": 64,
   "metadata": {},
   "outputs": [
    {
     "data": {
      "image/png": "[encoded data removed]",
      "text/plain": [
       "<Figure size 1500x500 with 1 Axes>"
      ]
     },
     "metadata": {},
     "output_type": "display_data"
    }
   ],
   "source": [
    "# grouped21 stores city counts of each state\n",
    "grouped21 = df2.groupby('State',\n",
    "                        as_index=False)['City'].nunique().sort_values('State')\n",
    "\n",
    "plt.figure(figsize=(15, 5))\n",
    "sns.barplot(x='State', y='City', hue='State', data=grouped21)\n",
    "plt.ylabel('City Count')\n",
    "plt.grid(axis='y')\n",
    "%pycodestyle_off\n",
    "plt.title('Count of Cities from Each State in Apartment Listings');\n",
    "%pycodestyle_on"
   ]
  },
  {
   "cell_type": "markdown",
   "metadata": {},
   "source": [
    "California has the most cities available to rent. It's interesting since Texas is such a large state, there are fewer cities renting apartments compared to smaller states such as Massachussetts and New Jersey. Furthermore, large states such as Arizona and Nevada do not have a lot of cities renting apartments"
   ]
  },
  {
   "cell_type": "markdown",
   "metadata": {},
   "source": [
    "#### 22) Monthly rent in 10 random Californian Cities 2009 and 2024 comparison assuming 8.85% increase per year?\n",
    "\n",
    "https://ipropertymanagement.com/research/average-rent-by-year"
   ]
  },
  {
   "cell_type": "code",
   "execution_count": 65,
   "metadata": {},
   "outputs": [
    {
     "data": {
      "text/html": [
       "<div>\n",
       "<style scoped>\n",
       "    .dataframe tbody tr th:only-of-type {\n",
       "        vertical-align: middle;\n",
       "    }\n",
       "\n",
       "    .dataframe tbody tr th {\n",
       "        vertical-align: top;\n",
       "    }\n",
       "\n",
       "    .dataframe thead th {\n",
       "        text-align: right;\n",
       "    }\n",
       "</style>\n",
       "<table border=\"1\" class=\"dataframe\">\n",
       "  <thead>\n",
       "    <tr style=\"text-align: right;\">\n",
       "      <th></th>\n",
       "      <th>Price ($)</th>\n",
       "      <th>2024 Price ($)</th>\n",
       "      <th>City</th>\n",
       "      <th>BR Totals</th>\n",
       "      <th>Total Amenities</th>\n",
       "      <th>Square Footage</th>\n",
       "    </tr>\n",
       "  </thead>\n",
       "  <tbody>\n",
       "    <tr>\n",
       "      <th>69100</th>\n",
       "      <td>3350.0</td>\n",
       "      <td>11959.50</td>\n",
       "      <td>San Diego</td>\n",
       "      <td>4</td>\n",
       "      <td>5</td>\n",
       "      <td>987</td>\n",
       "    </tr>\n",
       "    <tr>\n",
       "      <th>29375</th>\n",
       "      <td>3097.0</td>\n",
       "      <td>11056.29</td>\n",
       "      <td>Santa Monica</td>\n",
       "      <td>2</td>\n",
       "      <td>3</td>\n",
       "      <td>612</td>\n",
       "    </tr>\n",
       "    <tr>\n",
       "      <th>95242</th>\n",
       "      <td>1770.0</td>\n",
       "      <td>6318.90</td>\n",
       "      <td>Carlsbad</td>\n",
       "      <td>4</td>\n",
       "      <td>12</td>\n",
       "      <td>846</td>\n",
       "    </tr>\n",
       "    <tr>\n",
       "      <th>89399</th>\n",
       "      <td>4385.0</td>\n",
       "      <td>15654.45</td>\n",
       "      <td>Irvine</td>\n",
       "      <td>4</td>\n",
       "      <td>5</td>\n",
       "      <td>1589</td>\n",
       "    </tr>\n",
       "    <tr>\n",
       "      <th>41948</th>\n",
       "      <td>2644.0</td>\n",
       "      <td>9439.08</td>\n",
       "      <td>Los Angeles</td>\n",
       "      <td>2</td>\n",
       "      <td>1</td>\n",
       "      <td>1000</td>\n",
       "    </tr>\n",
       "    <tr>\n",
       "      <th>94953</th>\n",
       "      <td>2210.0</td>\n",
       "      <td>7889.70</td>\n",
       "      <td>Tustin</td>\n",
       "      <td>4</td>\n",
       "      <td>1</td>\n",
       "      <td>965</td>\n",
       "    </tr>\n",
       "    <tr>\n",
       "      <th>81390</th>\n",
       "      <td>1050.0</td>\n",
       "      <td>3748.50</td>\n",
       "      <td>Sacramento</td>\n",
       "      <td>2</td>\n",
       "      <td>0</td>\n",
       "      <td>580</td>\n",
       "    </tr>\n",
       "    <tr>\n",
       "      <th>41965</th>\n",
       "      <td>2715.0</td>\n",
       "      <td>9692.55</td>\n",
       "      <td>Los Angeles</td>\n",
       "      <td>4</td>\n",
       "      <td>6</td>\n",
       "      <td>950</td>\n",
       "    </tr>\n",
       "    <tr>\n",
       "      <th>69043</th>\n",
       "      <td>2130.0</td>\n",
       "      <td>7604.10</td>\n",
       "      <td>San Diego</td>\n",
       "      <td>2</td>\n",
       "      <td>1</td>\n",
       "      <td>767</td>\n",
       "    </tr>\n",
       "    <tr>\n",
       "      <th>90295</th>\n",
       "      <td>2446.0</td>\n",
       "      <td>8732.22</td>\n",
       "      <td>San Jose</td>\n",
       "      <td>2</td>\n",
       "      <td>5</td>\n",
       "      <td>730</td>\n",
       "    </tr>\n",
       "  </tbody>\n",
       "</table>\n",
       "</div>"
      ],
      "text/plain": [
       "       Price ($)  2024 Price ($)          City  BR Totals  Total Amenities  \\\n",
       "69100     3350.0        11959.50     San Diego          4                5   \n",
       "29375     3097.0        11056.29  Santa Monica          2                3   \n",
       "95242     1770.0         6318.90      Carlsbad          4               12   \n",
       "89399     4385.0        15654.45        Irvine          4                5   \n",
       "41948     2644.0         9439.08   Los Angeles          2                1   \n",
       "94953     2210.0         7889.70        Tustin          4                1   \n",
       "81390     1050.0         3748.50    Sacramento          2                0   \n",
       "41965     2715.0         9692.55   Los Angeles          4                6   \n",
       "69043     2130.0         7604.10     San Diego          2                1   \n",
       "90295     2446.0         8732.22      San Jose          2                5   \n",
       "\n",
       "       Square Footage  \n",
       "69100             987  \n",
       "29375             612  \n",
       "95242             846  \n",
       "89399            1589  \n",
       "41948            1000  \n",
       "94953             965  \n",
       "81390             580  \n",
       "41965             950  \n",
       "69043             767  \n",
       "90295             730  "
      ]
     },
     "execution_count": 65,
     "metadata": {},
     "output_type": "execute_result"
    }
   ],
   "source": [
    "df2['2024 Price ($)'] = df2['Price ($)'].apply(lambda x:\n",
    "                                               x*np.power(1.0885,\n",
    "                                                          2024-2009).round(2))\n",
    "df2[df2['State'] == 'CA'][['Price ($)', '2024 Price ($)', 'City',\n",
    "                           'BR Totals', 'Total Amenities',\n",
    "                           'Square Footage']].sample(10)"
   ]
  },
  {
   "cell_type": "markdown",
   "metadata": {},
   "source": [
    "#### 23) Are there significant correlations between all numeric variables?"
   ]
  },
  {
   "cell_type": "code",
   "execution_count": 66,
   "metadata": {},
   "outputs": [
    {
     "data": {
      "image/png": "[encoded data removed]",
      "text/plain": [
       "<Figure size 640x480 with 2 Axes>"
      ]
     },
     "metadata": {},
     "output_type": "display_data"
    }
   ],
   "source": [
    "# dfcorr store correlation dataframe of df2 numeric features\n",
    "dfcorr = df2[['Bathrooms', 'Bedrooms', 'Price ($)',\n",
    "              'Square Footage', 'Has Photo', 'Pet Listed',\n",
    "              'Fee', 'Total Amenities']].corr()\n",
    "plt.title('Correlation Heat Map of Numeric Values in Dataset')\n",
    "%pycodestyle_off\n",
    "sns.heatmap(dfcorr, annot=True, fmt='0.2f', cmap='viridis');\n",
    "%pycodestyle_on"
   ]
  },
  {
   "cell_type": "markdown",
   "metadata": {},
   "source": [
    "Bedrooms, Bathrooms, and Square Footage are the most correlated with one another which makes sense. The more bathrooms and bedrooms you have the more square footage needed and the more bedrooms an apartment has, there needs to be more bathrooms as well."
   ]
  },
  {
   "cell_type": "markdown",
   "metadata": {},
   "source": [
    "#### 24) Total records from source along with the average rent and distributions?"
   ]
  },
  {
   "cell_type": "code",
   "execution_count": 67,
   "metadata": {},
   "outputs": [
    {
     "data": {
      "text/html": [
       "<div>\n",
       "<style scoped>\n",
       "    .dataframe tbody tr th:only-of-type {\n",
       "        vertical-align: middle;\n",
       "    }\n",
       "\n",
       "    .dataframe tbody tr th {\n",
       "        vertical-align: top;\n",
       "    }\n",
       "\n",
       "    .dataframe thead th {\n",
       "        text-align: right;\n",
       "    }\n",
       "</style>\n",
       "<table border=\"1\" class=\"dataframe\">\n",
       "  <thead>\n",
       "    <tr style=\"text-align: right;\">\n",
       "      <th></th>\n",
       "      <th>Source</th>\n",
       "      <th>Total Records</th>\n",
       "      <th>Price ($)</th>\n",
       "    </tr>\n",
       "  </thead>\n",
       "  <tbody>\n",
       "    <tr>\n",
       "      <th>0</th>\n",
       "      <td>RentDigs.com</td>\n",
       "      <td>90411</td>\n",
       "      <td>1531.26</td>\n",
       "    </tr>\n",
       "    <tr>\n",
       "      <th>1</th>\n",
       "      <td>RentLingo</td>\n",
       "      <td>6809</td>\n",
       "      <td>1467.08</td>\n",
       "    </tr>\n",
       "    <tr>\n",
       "      <th>2</th>\n",
       "      <td>ListedBuy</td>\n",
       "      <td>550</td>\n",
       "      <td>1143.34</td>\n",
       "    </tr>\n",
       "    <tr>\n",
       "      <th>3</th>\n",
       "      <td>GoSection8</td>\n",
       "      <td>428</td>\n",
       "      <td>1042.80</td>\n",
       "    </tr>\n",
       "    <tr>\n",
       "      <th>4</th>\n",
       "      <td>RealRentals</td>\n",
       "      <td>267</td>\n",
       "      <td>2195.18</td>\n",
       "    </tr>\n",
       "    <tr>\n",
       "      <th>5</th>\n",
       "      <td>tenantcloud</td>\n",
       "      <td>121</td>\n",
       "      <td>1073.85</td>\n",
       "    </tr>\n",
       "    <tr>\n",
       "      <th>6</th>\n",
       "      <td>BostonApartments</td>\n",
       "      <td>92</td>\n",
       "      <td>2955.46</td>\n",
       "    </tr>\n",
       "    <tr>\n",
       "      <th>7</th>\n",
       "      <td>RENTCafé</td>\n",
       "      <td>41</td>\n",
       "      <td>1891.59</td>\n",
       "    </tr>\n",
       "    <tr>\n",
       "      <th>8</th>\n",
       "      <td>Listanza</td>\n",
       "      <td>25</td>\n",
       "      <td>2036.76</td>\n",
       "    </tr>\n",
       "    <tr>\n",
       "      <th>9</th>\n",
       "      <td>RENTOCULAR</td>\n",
       "      <td>18</td>\n",
       "      <td>2163.94</td>\n",
       "    </tr>\n",
       "    <tr>\n",
       "      <th>10</th>\n",
       "      <td>RentFeeder</td>\n",
       "      <td>12</td>\n",
       "      <td>1499.17</td>\n",
       "    </tr>\n",
       "    <tr>\n",
       "      <th>11</th>\n",
       "      <td>Home Rentals</td>\n",
       "      <td>8</td>\n",
       "      <td>1081.25</td>\n",
       "    </tr>\n",
       "    <tr>\n",
       "      <th>12</th>\n",
       "      <td>rentbits</td>\n",
       "      <td>5</td>\n",
       "      <td>931.00</td>\n",
       "    </tr>\n",
       "    <tr>\n",
       "      <th>13</th>\n",
       "      <td>vFlyer</td>\n",
       "      <td>5</td>\n",
       "      <td>1532.00</td>\n",
       "    </tr>\n",
       "    <tr>\n",
       "      <th>14</th>\n",
       "      <td>SpreadMyAd</td>\n",
       "      <td>5</td>\n",
       "      <td>1199.60</td>\n",
       "    </tr>\n",
       "    <tr>\n",
       "      <th>15</th>\n",
       "      <td>Claz</td>\n",
       "      <td>4</td>\n",
       "      <td>1286.00</td>\n",
       "    </tr>\n",
       "    <tr>\n",
       "      <th>16</th>\n",
       "      <td>Nest Seekers</td>\n",
       "      <td>3</td>\n",
       "      <td>7422.00</td>\n",
       "    </tr>\n",
       "    <tr>\n",
       "      <th>17</th>\n",
       "      <td>Seattle Rentals</td>\n",
       "      <td>2</td>\n",
       "      <td>1697.50</td>\n",
       "    </tr>\n",
       "    <tr>\n",
       "      <th>18</th>\n",
       "      <td>Real Estate Shows</td>\n",
       "      <td>1</td>\n",
       "      <td>1100.00</td>\n",
       "    </tr>\n",
       "    <tr>\n",
       "      <th>19</th>\n",
       "      <td>Real Estate Agent</td>\n",
       "      <td>1</td>\n",
       "      <td>800.00</td>\n",
       "    </tr>\n",
       "    <tr>\n",
       "      <th>20</th>\n",
       "      <td>Apartable</td>\n",
       "      <td>1</td>\n",
       "      <td>869.00</td>\n",
       "    </tr>\n",
       "    <tr>\n",
       "      <th>21</th>\n",
       "      <td>Z57</td>\n",
       "      <td>1</td>\n",
       "      <td>1150.00</td>\n",
       "    </tr>\n",
       "    <tr>\n",
       "      <th>22</th>\n",
       "      <td>FreeAdsTime</td>\n",
       "      <td>1</td>\n",
       "      <td>950.00</td>\n",
       "    </tr>\n",
       "    <tr>\n",
       "      <th>23</th>\n",
       "      <td>AgentWebsite</td>\n",
       "      <td>1</td>\n",
       "      <td>1350.00</td>\n",
       "    </tr>\n",
       "    <tr>\n",
       "      <th>24</th>\n",
       "      <td>HousesForRent</td>\n",
       "      <td>1</td>\n",
       "      <td>2500.00</td>\n",
       "    </tr>\n",
       "  </tbody>\n",
       "</table>\n",
       "</div>"
      ],
      "text/plain": [
       "               Source  Total Records  Price ($)\n",
       "0        RentDigs.com          90411    1531.26\n",
       "1           RentLingo           6809    1467.08\n",
       "2           ListedBuy            550    1143.34\n",
       "3          GoSection8            428    1042.80\n",
       "4         RealRentals            267    2195.18\n",
       "5         tenantcloud            121    1073.85\n",
       "6    BostonApartments             92    2955.46\n",
       "7            RENTCafé             41    1891.59\n",
       "8            Listanza             25    2036.76\n",
       "9          RENTOCULAR             18    2163.94\n",
       "10         RentFeeder             12    1499.17\n",
       "11       Home Rentals              8    1081.25\n",
       "12           rentbits              5     931.00\n",
       "13             vFlyer              5    1532.00\n",
       "14         SpreadMyAd              5    1199.60\n",
       "15               Claz              4    1286.00\n",
       "16       Nest Seekers              3    7422.00\n",
       "17    Seattle Rentals              2    1697.50\n",
       "18  Real Estate Shows              1    1100.00\n",
       "19  Real Estate Agent              1     800.00\n",
       "20          Apartable              1     869.00\n",
       "21                Z57              1    1150.00\n",
       "22        FreeAdsTime              1     950.00\n",
       "23       AgentWebsite              1    1350.00\n",
       "24      HousesForRent              1    2500.00"
      ]
     },
     "execution_count": 67,
     "metadata": {},
     "output_type": "execute_result"
    }
   ],
   "source": [
    "# df24 stores a copy of df2\n",
    "df24 = df2.copy()\n",
    "# vc24 stores total records from each source\n",
    "vc24 = pd.DataFrame(df24['Source'].value_counts())\n",
    "# group24 stores average rent by source\n",
    "group24 = pd.DataFrame(df24.groupby('Source')\n",
    "                       ['Price ($)'].mean().round(2))\n",
    "# merge24 stores vc24 and group24 merge\n",
    "merge24 = vc24.merge(group24, on='Source')\n",
    "merge24.reset_index(inplace=True)\n",
    "%pycodestyle_off\n",
    "merge24.rename(columns={'count':'Total Records'}, inplace=True)\n",
    "%pycodestyle_on\n",
    "merge24"
   ]
  },
  {
   "cell_type": "code",
   "execution_count": 68,
   "metadata": {},
   "outputs": [
    {
     "data": {
      "image/png": "[encoded data removed]",
      "text/plain": [
       "<Figure size 1500x1000 with 1 Axes>"
      ]
     },
     "metadata": {},
     "output_type": "display_data"
    }
   ],
   "source": [
    "plt.figure(figsize=(15, 10))\n",
    "plt.title('Box Plot of Source vs Monthly Rent')\n",
    "plt.ylabel('Monthly Rent')\n",
    "plt.grid(True)\n",
    "%pycodestyle_off\n",
    "sns.boxplot(data=df2, y='Source', x='Price ($)', orient='h',\n",
    "            hue='Source', palette='Dark2');\n",
    "%pycodestyle_on"
   ]
  },
  {
   "cell_type": "markdown",
   "metadata": {},
   "source": [
    "In the boxplot, RentDigs and Rentlingo have many outliers, but this makes sense because these two websites make up a majority of the listings in the dataset. Looking at the distribution and knowing the number of records coming from each source, it's inconclusive if one website is better than another."
   ]
  },
  {
   "cell_type": "markdown",
   "metadata": {},
   "source": [
    "#### 25) What are the average square footages by state?"
   ]
  },
  {
   "cell_type": "code",
   "execution_count": 69,
   "metadata": {},
   "outputs": [
    {
     "data": {
      "image/png": "[encoded data removed]",
      "text/plain": [
       "<Figure size 1000x1000 with 1 Axes>"
      ]
     },
     "metadata": {},
     "output_type": "display_data"
    }
   ],
   "source": [
    "# stsq stores df2 groupby of mean square footage by state\n",
    "stsq = df2.groupby(df2['State'], as_index=False)['Square Footage'].mean()\n",
    "\n",
    "plt.figure(figsize=(10, 10))\n",
    "sns.barplot(data=stsq, y='State', x='Square Footage', orient='h',\n",
    "            hue='State', palette='dark', legend=False)\n",
    "plt.xlabel('Average Square Footage')\n",
    "plt.ylabel('State')\n",
    "plt.grid(axis='x')\n",
    "%pycodestyle_off\n",
    "plt.title('Average Square Footage vs State');\n",
    "%pycodestyle_on"
   ]
  },
  {
   "cell_type": "markdown",
   "metadata": {},
   "source": [
    "West Virginia listings on average will provide the most square footage compared to the other states, Alaska/New Mexico/DC/Maine will provide the least on average (less than 800 square foot). The other states tend to have listings above 800 square foot on average"
   ]
  },
  {
   "cell_type": "markdown",
   "metadata": {},
   "source": [
    "-------------------------"
   ]
  },
  {
   "cell_type": "markdown",
   "metadata": {},
   "source": [
    "## Conclusion"
   ]
  },
  {
   "cell_type": "markdown",
   "metadata": {},
   "source": [
    "Ideal areas and times to rent an apartment or when to put an apartment for rent\n",
    "\n",
    "State Insights:\n",
    "- Apartments for < $2000 a month mainly in southern CA\n",
    "- HI, NY, CA, DC, MA are extremely expensive states to rent in\n",
    "- NC, TX, and GA seem to be the most ideal states to rent in\n",
    "- MA has several records that have a fee\n",
    "- CA has the most cities available to rent. TX, NV, and AZ have fewer cities renting apartments compared to smaller states such as MA and NJ\n",
    "- WV will provide the most square footage on average, but NM will provide the least on average \n",
    "\n",
    "Apartment Insights:\n",
    "- Pets allowed on average is less costly than not having pets\n",
    "- RentDigs and RentLingo make up the majority of listings across all records/states\n",
    "- The top 10 Cities that have the most listings, make up ~16% of the dataset\n",
    "\n",
    "Business Insights:\n",
    "- December to March and August to October best times to find an apartment, April to June best time to charge\n",
    "- < 0.05% of records meet the average of a family in America home\n",
    "- Two of the listings needs to be investigated for violation of housing laws\n",
    "- Rental prices in 2024 vs 2009 are drastically different, and unfortunately not unreasonable estimates\n",
    "\n",
    "Further Analysis:\n",
    "- Bias\n",
    "- Records in 2024\n",
    "- Investigate legality of records\n",
    "- Other sources\n",
    "- Do trends hold true today"
   ]
  }
 ],
 "metadata": {
  "kernelspec": {
   "display_name": "Python 3",
   "language": "python",
   "name": "python3"
  },
  "language_info": {
   "codemirror_mode": {
    "name": "ipython",
    "version": 3
   },
   "file_extension": ".py",
   "mimetype": "text/x-python",
   "name": "python",
   "nbconvert_exporter": "python",
   "pygments_lexer": "ipython3",
   "version": "3.11.5"
  }
 },
 "nbformat": 4,
 "nbformat_minor": 2
}
